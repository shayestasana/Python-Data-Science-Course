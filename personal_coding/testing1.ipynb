{
 "cells": [
  {
   "cell_type": "code",
   "execution_count": 3,
   "metadata": {},
   "outputs": [
    {
     "name": "stdout",
     "output_type": "stream",
     "text": [
      "4\n"
     ]
    }
   ],
   "source": [
    "x=int(input())\n",
    "y=input()\n",
    "count=0\n",
    "for i in y:\n",
    "    if int(i)==x:\n",
    "        count=count+1\n",
    "print(count)"
   ]
  },
  {
   "cell_type": "code",
   "execution_count": 8,
   "metadata": {},
   "outputs": [
    {
     "name": "stdout",
     "output_type": "stream",
     "text": [
      "Maximum contiguous sum is  19\n"
     ]
    }
   ],
   "source": [
    "# A Divide and Conquer based program\n",
    "# for maximum subarray sum problem\n",
    " \n",
    "# Find the maximum possible sum in\n",
    "# arr[] auch that arr[m] is part of it\n",
    " \n",
    " \n",
    "def maxCrossingSum(arr, l, m, h):\n",
    " \n",
    "    # Include elements on left of mid.\n",
    "    sm = 0\n",
    "    left_sum = -10000\n",
    " \n",
    "    for i in range(m, l-1, -1):\n",
    "        sm = sm + arr[i]\n",
    " \n",
    "        if (sm > left_sum):\n",
    "            left_sum = sm\n",
    " \n",
    "    # Include elements on right of mid\n",
    "    sm = 0\n",
    "    right_sum = -1000\n",
    "    for i in range(m, h + 1):\n",
    "        sm = sm + arr[i]\n",
    " \n",
    "        if (sm > right_sum):\n",
    "            right_sum = sm\n",
    " \n",
    "    # Return sum of elements on left and right of mid\n",
    "    # returning only left_sum + right_sum will fail for [-2, 1]\n",
    "    return max(left_sum + right_sum - arr[m], left_sum, right_sum)\n",
    " \n",
    " \n",
    "# Returns sum of maximum sum subarray in aa[l..h]\n",
    "def maxSubArraySum(arr, l, h):\n",
    "    #Invalid Range: low is greater than high\n",
    "    if (l > h):\n",
    "        return -10000\n",
    "    # Base Case: Only one element\n",
    "    if (l == h):\n",
    "        return arr[l]\n",
    " \n",
    "    # Find middle point\n",
    "    m = (l + h) // 2\n",
    " \n",
    "    # Return maximum of following three possible cases\n",
    "    # a) Maximum subarray sum in left half\n",
    "    # b) Maximum subarray sum in right half\n",
    "    # c) Maximum subarray sum such that the\n",
    "    #     subarray crosses the midpoint\n",
    "    return max(maxSubArraySum(arr, l, m-1),\n",
    "               maxSubArraySum(arr, m+1, h),\n",
    "               maxCrossingSum(arr, l, m, h))\n",
    " \n",
    " \n",
    "# Driver Code\n",
    "arr = [10, -5, 14, -20, 4, -2, 5, -10]\n",
    "n = len(arr)\n",
    " \n",
    "max_sum = maxSubArraySum(arr, 0, n-1)\n",
    "print(\"Maximum contiguous sum is \", max_sum)"
   ]
  },
  {
   "cell_type": "code",
   "execution_count": 6,
   "metadata": {},
   "outputs": [
    {
     "name": "stdout",
     "output_type": "stream",
     "text": [
      "[10, 20, 30, 40]\n",
      "[40, 30, 20, 10]\n"
     ]
    }
   ],
   "source": [
    "x=list(map(int, input().split()))\n",
    "print(x)\n",
    "y=[]\n",
    "for ele in reversed(x):\n",
    "    \n",
    "    y.append(ele)\n",
    "print(y)"
   ]
  },
  {
   "cell_type": "code",
   "execution_count": 7,
   "metadata": {},
   "outputs": [
    {
     "name": "stdout",
     "output_type": "stream",
     "text": [
      "[10, 20, 30, 40]\n",
      "[40, 30, 20, 10]\n"
     ]
    }
   ],
   "source": [
    "test_list=list(map(int, input().split()))\n",
    "print(test_list)\n",
    "print(test_list[::-1])"
   ]
  },
  {
   "cell_type": "code",
   "execution_count": null,
   "metadata": {},
   "outputs": [],
   "source": [
    "def NumberReverse(strParam):\n",
    "    y=[]\n",
    "    y=list(map(int, strParam.split()))\n",
    "    z=[]\n",
    "    z=y[::-1]\n",
    "    a=\"\"\n",
    "    i in range(len(z)):\n",
    "        a=a+str(z[i])+\" \" \n",
    "    return a\n",
    "print(NumberReverse(input()))"
   ]
  },
  {
   "cell_type": "code",
   "execution_count": 9,
   "metadata": {},
   "outputs": [
    {
     "data": {
      "text/plain": [
       "False"
      ]
     },
     "execution_count": 9,
     "metadata": {},
     "output_type": "execute_result"
    }
   ],
   "source": [
    "\"big\" > \"small\""
   ]
  },
  {
   "cell_type": "code",
   "execution_count": 4,
   "metadata": {},
   "outputs": [
    {
     "name": "stdout",
     "output_type": "stream",
     "text": [
      "Name: Hemingway, Ernest\n",
      "Name: Madonna\n",
      "Name: Voltaire\n",
      "\n"
     ]
    }
   ],
   "source": [
    "def format_name(first_name, last_name):\n",
    "    string = \"Name: \"\n",
    "    if first_name != \"\" and last_name != \"\":\n",
    "        string += last_name + \", \" + first_name\n",
    "    elif first_name != \"\" and last_name == \"\":\n",
    "        string += first_name\n",
    "    elif first_name == \"\" and last_name != \"\":\n",
    "        string += last_name\n",
    "    else:\n",
    "        string = \"\"\n",
    "    return string \n",
    "\n",
    "print(format_name(\"Ernest\", \"Hemingway\"))\n",
    "# Should return the string \"Name: Hemingway, Ernest\"\n",
    "\n",
    "print(format_name(\"\", \"Madonna\"))\n",
    "# Should return the string \"Name: Madonna\"\n",
    "\n",
    "print(format_name(\"Voltaire\", \"\"))\n",
    "# Should return the string \"Name: Voltaire\"\n",
    "\n",
    "print(format_name(\"\", \"\"))\n",
    "# Should return an empty string"
   ]
  },
  {
   "cell_type": "code",
   "execution_count": 5,
   "metadata": {},
   "outputs": [
    {
     "name": "stdout",
     "output_type": "stream",
     "text": [
      "10\n"
     ]
    }
   ],
   "source": [
    "def sum(x, y):\n",
    "\t\treturn(x+y)\n",
    "print(sum(sum(1,2), sum(3,4)))"
   ]
  },
  {
   "cell_type": "code",
   "execution_count": 6,
   "metadata": {},
   "outputs": [
    {
     "data": {
      "text/plain": [
       "True"
      ]
     },
     "execution_count": 6,
     "metadata": {},
     "output_type": "execute_result"
    }
   ],
   "source": [
    "\n",
    "\n",
    "((10 >= 5*2) and (10 <= 5*2))"
   ]
  },
  {
   "cell_type": "markdown",
   "metadata": {},
   "source": [
    "Given Two integer array nums of distinct items and a target value. Return the index for both arrays when the difference between elements is equal to the target value if there is no item in both array whose difference is equal to the target then return [-1,-1] \n",
    "\n",
    "Example 1 :\n",
    "\n",
    "Input: numsFirst = [3,4,10]\n",
    "Input: numsSecond = [1,4,8]\n",
    "Input: target = 5\n",
    "Output: nums = [0,2]\n",
    "eg: 8 from numsSecond 3 from numFirst is equal to 5 which is target\n",
    "\n",
    "Example 2:\n",
    "\n",
    "Input: numsFirst = [2,4,10] \n",
    "Input: numsSecond = [1,4,8]\n",
    "Input: target = 5\n",
    "Output: nums = [-1,-1]"
   ]
  },
  {
   "cell_type": "code",
   "execution_count": 16,
   "metadata": {},
   "outputs": [
    {
     "name": "stdout",
     "output_type": "stream",
     "text": [
      "[0, 2]\n"
     ]
    }
   ],
   "source": [
    "#above question\n",
    "import math  \n",
    "l1=[3,4,10]\n",
    "l2=[1,4,8]\n",
    "targ=5\n",
    "l3=[]\n",
    "for i in range(len(l1)):\n",
    "    #sub=0\n",
    "    for j in range(len(l2)):\n",
    "        sub=abs(l1[i]-l2[j])\n",
    "        if (sub==targ):\n",
    "            a=l1.index(l1[i])\n",
    "            l3.append(a)\n",
    "            b=l2.index(l2[j])\n",
    "            l3.append(b)\n",
    "        \n",
    "if not l3:\n",
    "    l3.append(-1)\n",
    "    l3.append(-1)\n",
    "print(l3)"
   ]
  },
  {
   "cell_type": "code",
   "execution_count": 2,
   "metadata": {},
   "outputs": [
    {
     "name": "stdout",
     "output_type": "stream",
     "text": [
      "No\n",
      "Yes\n"
     ]
    }
   ],
   "source": [
    "\n",
    "def isPowerOfTwo (x):\n",
    " \n",
    "    # First x in the below expression\n",
    "    # is for the case when x is 0\n",
    "    return (x and (not(x & (x - 1))) )\n",
    " \n",
    "# Driver code\n",
    "if(isPowerOfTwo(31)):\n",
    "    print('Yes')\n",
    "else:\n",
    "    print('No')\n",
    "     \n",
    "if(isPowerOfTwo(64)):\n",
    "    print('Yes')\n",
    "else:\n",
    "    print('No')\n",
    "     "
   ]
  },
  {
   "cell_type": "code",
   "execution_count": 1,
   "metadata": {},
   "outputs": [
    {
     "name": "stdout",
     "output_type": "stream",
     "text": [
      "No\n",
      "Yes\n"
     ]
    }
   ],
   "source": [
    " \n",
    "# Function to check if x is power of 2\n",
    "def isPowerOfTwo(n):\n",
    "    if (n == 0):\n",
    "        return False\n",
    "    while (n != 1):\n",
    "            if (n % 2 != 0):\n",
    "                return False\n",
    "            n = n // 2\n",
    "             \n",
    "    return True\n",
    " \n",
    "# Driver code\n",
    "if(isPowerOfTwo(31)):\n",
    "    print('Yes')\n",
    "else:\n",
    "    print('No')\n",
    "if(isPowerOfTwo(64)):\n",
    "    print('Yes')\n",
    "else:\n",
    "    print('No')"
   ]
  },
  {
   "cell_type": "code",
   "execution_count": 15,
   "metadata": {},
   "outputs": [
    {
     "name": "stdout",
     "output_type": "stream",
     "text": [
      "False 0.5849625007211561 0.6309297535714573\n"
     ]
    }
   ],
   "source": [
    "#checks if n can be written in the form of power of 2 or 3 return True else False\n",
    "import math\n",
    "n=6\n",
    "p1=0\n",
    "q1=0\n",
    "p=math.log(n)/math.log(2)\n",
    "p1=p-int(p)\n",
    "q=math.log(n)/math.log(3)\n",
    "q1=q-int(q)\n",
    "\n",
    "if (p1==0):\n",
    "    print(\"2^\"+str(p1) )\n",
    "elif (q1==0):\n",
    "    print(\"3^\"+str(q1))\n",
    "else:\n",
    "    print(False, p1, q1)"
   ]
  },
  {
   "cell_type": "markdown",
   "metadata": {},
   "source": [
    "Problem: Different Consecutive Characters\n",
    "Chef has a binary string S of length N. Chef can perform the following operation on S:\n",
    "Insert any character (0 or 1) at any position in S.\n",
    "Find the minimum number of operations Chef needs to perform so that no two consecutive characters are same in S.\n",
    "\n",
    "Input Format\n",
    "The first line contains a single integer TT — the number of test cases. Then the test cases follow.\n",
    "The first line of each test case contains an integer NN — the length of the binary string SS.\n",
    "The second line of each test case contains a binary string SS of length NN containing 00s and 11s only.\n",
    "\n",
    "Output Format\n",
    "For each test case, output on a new line the minimum number of operations Chef needs to perform so that no two consecutive characters are same in SS."
   ]
  },
  {
   "cell_type": "code",
   "execution_count": null,
   "metadata": {},
   "outputs": [],
   "source": [
    "T = int(input())\n",
    "for tc in range(T):\n",
    "    x= int(input())\n",
    "    y=input()\n",
    "    z=list(y)\n",
    "    b=[]\n",
    "    c=0\n",
    "    for i in range(x):\n",
    "        c1=z[i]\n",
    "        if i!=x-1:\n",
    "            c2=z[i+1]\n",
    "            b.append(c1)\n",
    "            if  c1==c2:\n",
    "                c+=1\n",
    "                if c1=='0':\n",
    "                    b.append(1)\n",
    "                elif c2=='1':\n",
    "                    b.append(0)\n",
    "        else:\n",
    "            b.append(c1)\n",
    "    print(c)"
   ]
  },
  {
   "cell_type": "code",
   "execution_count": 17,
   "metadata": {},
   "outputs": [
    {
     "name": "stdout",
     "output_type": "stream",
     "text": [
      "10101\n"
     ]
    }
   ],
   "source": [
    "T = int(input())\n",
    "for tc in range(T):\n",
    "    x= int(input())\n",
    "    y=input()\n",
    "    z=list(y)\n",
    "    b=[]\n",
    "    for i in range(x):\n",
    "        c1=z[i]\n",
    "        if i!=x-1:\n",
    "            c2=z[i+1]\n",
    "            b.append(c1)\n",
    "            if  c1==c2:\n",
    "                if c1=='0':\n",
    "                    b.append(1)\n",
    "                elif c2=='1':\n",
    "                    b.append(0)\n",
    "        else:\n",
    "            b.append(c1)\n",
    "    s=\"\"\n",
    "    for j in range(len(b)):\n",
    "        s=s+str(b[j])\n",
    "    print(s)"
   ]
  },
  {
   "cell_type": "code",
   "execution_count": 7,
   "metadata": {},
   "outputs": [
    {
     "data": {
      "text/plain": [
       "1"
      ]
     },
     "execution_count": 7,
     "metadata": {},
     "output_type": "execute_result"
    }
   ],
   "source": [
    "16>>4"
   ]
  },
  {
   "cell_type": "code",
   "execution_count": 11,
   "metadata": {},
   "outputs": [
    {
     "data": {
      "text/plain": [
       "-1"
      ]
     },
     "execution_count": 11,
     "metadata": {},
     "output_type": "execute_result"
    }
   ],
   "source": [
    "-1>>1"
   ]
  },
  {
   "cell_type": "code",
   "execution_count": 17,
   "metadata": {},
   "outputs": [
    {
     "ename": "ValueError",
     "evalue": "negative shift count",
     "output_type": "error",
     "traceback": [
      "\u001b[1;31m---------------------------------------------------------------------------\u001b[0m",
      "\u001b[1;31mValueError\u001b[0m                                Traceback (most recent call last)",
      "\u001b[1;32mc:\\Users\\sanas\\Documents\\Python Data Science\\Coding Python\\personal_coding\\testing1.ipynb Cell 20\u001b[0m in \u001b[0;36m<cell line: 1>\u001b[1;34m()\u001b[0m\n\u001b[1;32m----> <a href='vscode-notebook-cell:/c%3A/Users/sanas/Documents/Python%20Data%20Science/Coding%20Python/personal_coding/testing1.ipynb#X25sZmlsZQ%3D%3D?line=0'>1</a>\u001b[0m \u001b[39m1\u001b[39;49m\u001b[39m>>\u001b[39;49m\u001b[39m-\u001b[39;49m\u001b[39m1\u001b[39;49m\n",
      "\u001b[1;31mValueError\u001b[0m: negative shift count"
     ]
    }
   ],
   "source": [
    "1>>-1"
   ]
  },
  {
   "cell_type": "code",
   "execution_count": 19,
   "metadata": {},
   "outputs": [
    {
     "data": {
      "text/plain": [
       "-1"
      ]
     },
     "execution_count": 19,
     "metadata": {},
     "output_type": "execute_result"
    }
   ],
   "source": [
    "-2//4"
   ]
  },
  {
   "cell_type": "code",
   "execution_count": 1,
   "metadata": {},
   "outputs": [
    {
     "name": "stdout",
     "output_type": "stream",
     "text": [
      "Binary representation of x: 1100101\n",
      "============================\n",
      "binary representation of 101//2 110010\n",
      "XOR of x and x//(2*y) 87\n",
      "============================\n",
      "binary representation of 101//4 11001\n",
      "XOR of x and x//(2*y) 124\n",
      "============================\n",
      "binary representation of 101//6 10000\n",
      "XOR of x and x//(2*y) 117\n",
      "============================\n",
      "binary representation of 101//8 1100\n",
      "XOR of x and x//(2*y) 105\n",
      "============================\n",
      "binary representation of 101//10 1010\n",
      "XOR of x and x//(2*y) 111\n",
      "============================\n",
      "binary representation of 101//12 1000\n",
      "XOR of x and x//(2*y) 109\n",
      "============================\n",
      "binary representation of 101//14 111\n",
      "XOR of x and x//(2*y) 98\n"
     ]
    }
   ],
   "source": [
    "# ki jitne baar suruwat mai 1 hota hai bina 0 aaye, wo equal hoga y ke\n",
    "#kyo ki usme max milta hai\n",
    "\n",
    "def decimalToBinary(n):\n",
    "    return bin(n).replace(\"0b\", \"\")\n",
    "\n",
    "\n",
    "x = int(input())\n",
    "slen = decimalToBinary(x)\n",
    "print(\"Binary representation of x:\", slen)\n",
    "for i in range(1,len(slen)+1):\n",
    "    print(\"============================\")\n",
    "    print(f\"binary representation of {x}//{2*i}\", decimalToBinary(x//(2*i)))\n",
    "    print(\"XOR of x and x//(2*y)\",  x^(x//(2*i)))\n",
    "#print(decimalToBinary(7//2))"
   ]
  },
  {
   "cell_type": "code",
   "execution_count": 3,
   "metadata": {},
   "outputs": [],
   "source": [
    "class Farm:\n",
    "    def __init__(self, hens,cows):\n",
    "        self.hens = hens\n",
    "        self.cows = cows\n",
    "\n",
    "def Maxlegs(farms[]):\n"
   ]
  },
  {
   "cell_type": "code",
   "execution_count": null,
   "metadata": {},
   "outputs": [],
   "source": []
  }
 ],
 "metadata": {
  "kernelspec": {
   "display_name": "Python 3.9.12 ('base')",
   "language": "python",
   "name": "python3"
  },
  "language_info": {
   "codemirror_mode": {
    "name": "ipython",
    "version": 3
   },
   "file_extension": ".py",
   "mimetype": "text/x-python",
   "name": "python",
   "nbconvert_exporter": "python",
   "pygments_lexer": "ipython3",
   "version": "3.9.12"
  },
  "orig_nbformat": 4,
  "vscode": {
   "interpreter": {
    "hash": "ca8e1a675551e31a69bb80ae3f26b36ced6340b5d3941929fb9de856c408906a"
   }
  }
 },
 "nbformat": 4,
 "nbformat_minor": 2
}
