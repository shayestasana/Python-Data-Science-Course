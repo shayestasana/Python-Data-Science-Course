{
 "cells": [
  {
   "cell_type": "code",
   "execution_count": 3,
   "metadata": {},
   "outputs": [
    {
     "name": "stdout",
     "output_type": "stream",
     "text": [
      "4\n"
     ]
    }
   ],
   "source": [
    "x=int(input())\n",
    "y=input()\n",
    "count=0\n",
    "for i in y:\n",
    "    if int(i)==x:\n",
    "        count=count+1\n",
    "print(count)"
   ]
  },
  {
   "cell_type": "code",
   "execution_count": 8,
   "metadata": {},
   "outputs": [
    {
     "name": "stdout",
     "output_type": "stream",
     "text": [
      "Maximum contiguous sum is  19\n"
     ]
    }
   ],
   "source": [
    "# A Divide and Conquer based program\n",
    "# for maximum subarray sum problem\n",
    " \n",
    "# Find the maximum possible sum in\n",
    "# arr[] auch that arr[m] is part of it\n",
    " \n",
    " \n",
    "def maxCrossingSum(arr, l, m, h):\n",
    " \n",
    "    # Include elements on left of mid.\n",
    "    sm = 0\n",
    "    left_sum = -10000\n",
    " \n",
    "    for i in range(m, l-1, -1):\n",
    "        sm = sm + arr[i]\n",
    " \n",
    "        if (sm > left_sum):\n",
    "            left_sum = sm\n",
    " \n",
    "    # Include elements on right of mid\n",
    "    sm = 0\n",
    "    right_sum = -1000\n",
    "    for i in range(m, h + 1):\n",
    "        sm = sm + arr[i]\n",
    " \n",
    "        if (sm > right_sum):\n",
    "            right_sum = sm\n",
    " \n",
    "    # Return sum of elements on left and right of mid\n",
    "    # returning only left_sum + right_sum will fail for [-2, 1]\n",
    "    return max(left_sum + right_sum - arr[m], left_sum, right_sum)\n",
    " \n",
    " \n",
    "# Returns sum of maximum sum subarray in aa[l..h]\n",
    "def maxSubArraySum(arr, l, h):\n",
    "    #Invalid Range: low is greater than high\n",
    "    if (l > h):\n",
    "        return -10000\n",
    "    # Base Case: Only one element\n",
    "    if (l == h):\n",
    "        return arr[l]\n",
    " \n",
    "    # Find middle point\n",
    "    m = (l + h) // 2\n",
    " \n",
    "    # Return maximum of following three possible cases\n",
    "    # a) Maximum subarray sum in left half\n",
    "    # b) Maximum subarray sum in right half\n",
    "    # c) Maximum subarray sum such that the\n",
    "    #     subarray crosses the midpoint\n",
    "    return max(maxSubArraySum(arr, l, m-1),\n",
    "               maxSubArraySum(arr, m+1, h),\n",
    "               maxCrossingSum(arr, l, m, h))\n",
    " \n",
    " \n",
    "# Driver Code\n",
    "arr = [10, -5, 14, -20, 4, -2, 5, -10]\n",
    "n = len(arr)\n",
    " \n",
    "max_sum = maxSubArraySum(arr, 0, n-1)\n",
    "print(\"Maximum contiguous sum is \", max_sum)"
   ]
  },
  {
   "cell_type": "code",
   "execution_count": 6,
   "metadata": {},
   "outputs": [
    {
     "name": "stdout",
     "output_type": "stream",
     "text": [
      "[10, 20, 30, 40]\n",
      "[40, 30, 20, 10]\n"
     ]
    }
   ],
   "source": [
    "x=list(map(int, input().split()))\n",
    "print(x)\n",
    "y=[]\n",
    "for ele in reversed(x):\n",
    "    \n",
    "    y.append(ele)\n",
    "print(y)"
   ]
  },
  {
   "cell_type": "code",
   "execution_count": 7,
   "metadata": {},
   "outputs": [
    {
     "name": "stdout",
     "output_type": "stream",
     "text": [
      "[10, 20, 30, 40]\n",
      "[40, 30, 20, 10]\n"
     ]
    }
   ],
   "source": [
    "test_list=list(map(int, input().split()))\n",
    "print(test_list)\n",
    "print(test_list[::-1])"
   ]
  },
  {
   "cell_type": "code",
   "execution_count": null,
   "metadata": {},
   "outputs": [],
   "source": [
    "def NumberReverse(strParam):\n",
    "    y=[]\n",
    "    y=list(map(int, strParam.split()))\n",
    "    z=[]\n",
    "    z=y[::-1]\n",
    "    a=\"\"\n",
    "    i in range(len(z)):\n",
    "        a=a+str(z[i])+\" \" \n",
    "    return a\n",
    "print(NumberReverse(input()))"
   ]
  },
  {
   "cell_type": "code",
   "execution_count": 9,
   "metadata": {},
   "outputs": [
    {
     "data": {
      "text/plain": [
       "False"
      ]
     },
     "execution_count": 9,
     "metadata": {},
     "output_type": "execute_result"
    }
   ],
   "source": [
    "\"big\" > \"small\""
   ]
  },
  {
   "cell_type": "code",
   "execution_count": 4,
   "metadata": {},
   "outputs": [
    {
     "name": "stdout",
     "output_type": "stream",
     "text": [
      "Name: Hemingway, Ernest\n",
      "Name: Madonna\n",
      "Name: Voltaire\n",
      "\n"
     ]
    }
   ],
   "source": [
    "def format_name(first_name, last_name):\n",
    "    string = \"Name: \"\n",
    "    if first_name != \"\" and last_name != \"\":\n",
    "        string += last_name + \", \" + first_name\n",
    "    elif first_name != \"\" and last_name == \"\":\n",
    "        string += first_name\n",
    "    elif first_name == \"\" and last_name != \"\":\n",
    "        string += last_name\n",
    "    else:\n",
    "        string = \"\"\n",
    "    return string \n",
    "\n",
    "print(format_name(\"Ernest\", \"Hemingway\"))\n",
    "# Should return the string \"Name: Hemingway, Ernest\"\n",
    "\n",
    "print(format_name(\"\", \"Madonna\"))\n",
    "# Should return the string \"Name: Madonna\"\n",
    "\n",
    "print(format_name(\"Voltaire\", \"\"))\n",
    "# Should return the string \"Name: Voltaire\"\n",
    "\n",
    "print(format_name(\"\", \"\"))\n",
    "# Should return an empty string"
   ]
  },
  {
   "cell_type": "code",
   "execution_count": 5,
   "metadata": {},
   "outputs": [
    {
     "name": "stdout",
     "output_type": "stream",
     "text": [
      "10\n"
     ]
    }
   ],
   "source": [
    "def sum(x, y):\n",
    "\t\treturn(x+y)\n",
    "print(sum(sum(1,2), sum(3,4)))"
   ]
  },
  {
   "cell_type": "code",
   "execution_count": 6,
   "metadata": {},
   "outputs": [
    {
     "data": {
      "text/plain": [
       "True"
      ]
     },
     "execution_count": 6,
     "metadata": {},
     "output_type": "execute_result"
    }
   ],
   "source": [
    "\n",
    "\n",
    "((10 >= 5*2) and (10 <= 5*2))"
   ]
  }
 ],
 "metadata": {
  "kernelspec": {
   "display_name": "Python 3.9.12 ('base')",
   "language": "python",
   "name": "python3"
  },
  "language_info": {
   "codemirror_mode": {
    "name": "ipython",
    "version": 3
   },
   "file_extension": ".py",
   "mimetype": "text/x-python",
   "name": "python",
   "nbconvert_exporter": "python",
   "pygments_lexer": "ipython3",
   "version": "3.9.12"
  },
  "orig_nbformat": 4,
  "vscode": {
   "interpreter": {
    "hash": "ca8e1a675551e31a69bb80ae3f26b36ced6340b5d3941929fb9de856c408906a"
   }
  }
 },
 "nbformat": 4,
 "nbformat_minor": 2
}
