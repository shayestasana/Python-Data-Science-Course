{
 "cells": [
  {
   "cell_type": "code",
   "execution_count": 2,
   "metadata": {},
   "outputs": [
    {
     "name": "stdout",
     "output_type": "stream",
     "text": [
      "slice(0, 4, 2)\n",
      "(0, 4, 2)\n",
      "red\n",
      "blue\n"
     ]
    }
   ],
   "source": [
    "colors = ['red', 'green', 'blue', 'orange']\n",
    "\n",
    "s = slice(0, 4, 2)\n",
    "t = s.indices(len(colors))\n",
    "print(s)\n",
    "print(t)\n",
    "for index in range(*t):\n",
    "    print(colors[index])"
   ]
  },
  {
   "cell_type": "markdown",
   "metadata": {},
   "source": [
    "- ** is exclusively reserved for dictionaries.\n",
    "- Non-optional argument assignment happens first.\n",
    "- You cannot use a non-optional argument twice.\n",
    "- If applicable, ** must come after *, always.\n",
    "\n",
    "- To enforce keyword only arguments using *: \n",
    "def foo(pos1, pos2, *, kwarg1): pass, here * means that foo only accept keyword arguments after pos2, hence foo(1, 2, 3) raises TypeError but foo(1, 2, kwarg1=3) is ok.\n",
    "- To express no further interest in more positional arguments using *_ \n",
    "(Note: this is a convention only): def foo(bar, baz, *_):\n",
    " pass means (by convention) foo only uses bar and baz arguments in its working and will ignore others.\n",
    "- To express no further interest in more keyword arguments using \\**_ \n",
    "(Note: this is a convention only): def foo(bar, baz, **_): \n",
    "pass means (by convention) foo only uses bar and baz arguments in its working and will ignore others."
   ]
  },
  {
   "cell_type": "code",
   "execution_count": 7,
   "metadata": {},
   "outputs": [
    {
     "name": "stdout",
     "output_type": "stream",
     "text": [
      "10\n"
     ]
    }
   ],
   "source": [
    "def sum(**args): #pack keyword args into datastructure of dict after applying '**' - def sum({a:1,b:2,c:3,d:4})\n",
    "    sum=0\n",
    "    for k,v in args.items():\n",
    "        sum+=v\n",
    "    print(sum)\n",
    "\n",
    "sum(a=1,b=2,c=3,d=4) #positional args sent to function sum"
   ]
  },
  {
   "cell_type": "code",
   "execution_count": 8,
   "metadata": {},
   "outputs": [
    {
     "name": "stdout",
     "output_type": "stream",
     "text": [
      "3\n",
      "3\n",
      "3\n"
     ]
    }
   ],
   "source": [
    "def sum(a,b):  #receive args from function calls as sum(1,2) or sum(a=1,b=2)\n",
    "    print(a+b)\n",
    "\n",
    "my_tuple = (1,2)\n",
    "my_list = [1,2]\n",
    "my_dict = {'a':1,'b':2}\n",
    "\n",
    "# Let us unpack data structure of list or tuple or dict into arguments with help of '*' operator\n",
    "sum(*my_tuple)   # becomes same as sum(1,2) after unpacking my_tuple with '*'\n",
    "sum(*my_list)    # becomes same as sum(1,2) after unpacking my_list with  '*'\n",
    "sum(**my_dict)   # becomes same as sum(a=1,b=2) after unpacking by '**' \n",
    "\n",
    "# output is 3 in all three calls to sum function."
   ]
  },
  {
   "cell_type": "code",
   "execution_count": 6,
   "metadata": {},
   "outputs": [
    {
     "data": {
      "text/plain": [
       "3"
      ]
     },
     "execution_count": 6,
     "metadata": {},
     "output_type": "execute_result"
    }
   ],
   "source": [
    "#In function construction kwargs\n",
    "def h(a, b):\n",
    "    return a + b     \n",
    "def g(**kwargs):\n",
    "    return h(**kwargs) \n",
    "g(a=1, b=2)  "
   ]
  },
  {
   "cell_type": "code",
   "execution_count": 4,
   "metadata": {},
   "outputs": [
    {
     "data": {
      "text/plain": [
       "3"
      ]
     },
     "execution_count": 4,
     "metadata": {},
     "output_type": "execute_result"
    }
   ],
   "source": [
    "#In function call\n",
    "\n",
    "def f(a, b):\n",
    "    return a + b\n",
    "kwargs = dict(a=1, b=2)\n",
    "f(**kwargs)"
   ]
  },
  {
   "cell_type": "code",
   "execution_count": null,
   "metadata": {},
   "outputs": [],
   "source": [
    "def f(x, y, *myArgs, **myKW):\n",
    "    print(\"# x      = {}\".format(x))\n",
    "    print(\"# y      = {}\".format(y))\n",
    "    print(\"# myArgs = {}\".format(myArgs))\n",
    "    print(\"# myKW   = {}\".format(myKW))\n",
    "    print(\"# ----------------------------------------------------------------------\")\n",
    "\n",
    "# Define a list for demonstration purposes\n",
    "myList    = [\"Left\", \"Right\", \"Up\", \"Down\"]\n",
    "# Define a dictionary for demonstration purposes\n",
    "myDict    = {\"Wubba\": \"lubba\", \"Dub\": \"dub\"}\n",
    "# Define a dictionary to feed y\n",
    "myArgDict = {'y': \"Why?\", 'y0': \"Why not?\", \"q\": \"Here is a cue!\"}\n",
    "\n",
    "# The 1st elem of myList feeds y\n",
    "f(\"myEx\", *myList, **myDict)\n",
    "# x      = myEx\n",
    "# y      = Left\n",
    "# myArgs = ('Right', 'Up', 'Down')\n",
    "# myKW   = {'Wubba': 'lubba', 'Dub': 'dub'}\n",
    "# ----------------------------------------------------------------------\n",
    "\n",
    "# y is matched and fed first\n",
    "# The rest of myArgDict becomes additional arguments feeding myKW\n",
    "f(\"myEx\", **myArgDict)\n",
    "# x      = myEx\n",
    "# y      = Why?\n",
    "# myArgs = ()\n",
    "# myKW   = {'y0': 'Why not?', 'q': 'Here is a cue!'}\n",
    "# ----------------------------------------------------------------------\n",
    "\n",
    "# The rest of myArgDict becomes additional arguments feeding myArgs\n",
    "f(\"myEx\", *myArgDict)\n",
    "# x      = myEx\n",
    "# y      = y\n",
    "# myArgs = ('y0', 'q')\n",
    "# myKW   = {}\n",
    "# ----------------------------------------------------------------------\n",
    "\n",
    "# Feed extra arguments manually and append even more from my list\n",
    "f(\"myEx\", 4, 42, 420, *myList, *myDict, **myDict)\n",
    "# x      = myEx\n",
    "# y      = 4\n",
    "# myArgs = (42, 420, 'Left', 'Right', 'Up', 'Down', 'Wubba', 'Dub')\n",
    "# myKW   = {'Wubba': 'lubba', 'Dub': 'dub'}\n",
    "# ----------------------------------------------------------------------\n",
    "\n",
    "# Without the stars, the entire provided list and dict become x, and y:\n",
    "f(myList, myDict)\n",
    "# x      = ['Left', 'Right', 'Up', 'Down']\n",
    "# y      = {'Wubba': 'lubba', 'Dub': 'dub'}\n",
    "# myArgs = ()\n",
    "# myKW   = {}"
   ]
  },
  {
   "cell_type": "code",
   "execution_count": 10,
   "metadata": {},
   "outputs": [
    {
     "name": "stdout",
     "output_type": "stream",
     "text": [
      "# x      = myEx\n",
      "# y      = Left\n",
      "# myArgs = ('Right', 'Up', 'Down')\n",
      "# myKW   = {'Wubba': 'lubba', 'Dub': 'dub'}\n",
      "# ----------------------------------------------------------------------\n",
      "# x      = myEx\n",
      "# y      = Why?\n",
      "# myArgs = ()\n",
      "# myKW   = {'y0': 'Why not?', 'q': 'Here is a cue!'}\n",
      "# ----------------------------------------------------------------------\n",
      "# x      = myEx\n",
      "# y      = y\n",
      "# myArgs = ('y0', 'q')\n",
      "# myKW   = {}\n",
      "# ----------------------------------------------------------------------\n",
      "# x      = myEx\n",
      "# y      = 4\n",
      "# myArgs = (42, 420, 'Left', 'Right', 'Up', 'Down', 'Wubba', 'Dub')\n",
      "# myKW   = {'Wubba': 'lubba', 'Dub': 'dub'}\n",
      "# ----------------------------------------------------------------------\n",
      "# x      = ['Left', 'Right', 'Up', 'Down']\n",
      "# y      = {'Wubba': 'lubba', 'Dub': 'dub'}\n",
      "# myArgs = ()\n",
      "# myKW   = {}\n",
      "# ----------------------------------------------------------------------\n"
     ]
    }
   ],
   "source": [
    "#🔴⚪🟢🟡\n",
    "def f(x, y, *myArgs, **myKW):\n",
    "    print(\"# x      = {}\".format(x))\n",
    "    print(\"# y      = {}\".format(y))\n",
    "    print(\"# myArgs = {}\".format(myArgs))\n",
    "    print(\"# myKW   = {}\".format(myKW))\n",
    "    print(\"# ----------------------------------------------------------------------\")\n",
    "\n",
    "# Define a list for demonstration purposes\n",
    "myList    = [\"Left\", \"Right\", \"Up\", \"Down\"]\n",
    "# Define a dictionary for demonstration purposes\n",
    "myDict    = {\"Wubba\": \"lubba\", \"Dub\": \"dub\"}\n",
    "# Define a dictionary to feed y\n",
    "myArgDict = {'y': \"Why?\", 'y0': \"Why not?\", \"q\": \"Here is a cue!\"}\n",
    "\n",
    "# The 1st elem of myList feeds y\n",
    "f(\"myEx\", *myList, **myDict)\n",
    "\n",
    "f(\"myEx\", **myArgDict)\n",
    "\n",
    "f(\"myEx\", *myArgDict)\n",
    "\n",
    "f(\"myEx\", 4, 42, 420, *myList, *myDict, **myDict)\n",
    "\n",
    "f(myList, myDict)\n"
   ]
  },
  {
   "cell_type": "code",
   "execution_count": 25,
   "metadata": {},
   "outputs": [
    {
     "name": "stdout",
     "output_type": "stream",
     "text": [
      "(\n",
      "{\n",
      "[\n",
      "Balanced\n"
     ]
    }
   ],
   "source": [
    "# function to check if\n",
    "# brackets are balanced\n",
    " \n",
    "#The idea is to put all the opening brackets in the stack. \n",
    "# Whenever you hit a closing bracket, search if the top of the stack is the opening bracket of the same nature. \n",
    "# If this holds then pop the stack and continue the iteration, in the end if the stack is empty, it means all brackets are well-formed. \n",
    "# Otherwise, they are not balanced.\n",
    "\n",
    "def areBracketsBalanced(expr):\n",
    "    stack = []\n",
    " \n",
    "    # Traversing the Expression\n",
    "    for char in expr:\n",
    "        if char in [\"(\", \"{\", \"[\"]:\n",
    "            stack.append(char) # Push the element in the stack\n",
    "        else:\n",
    "            # IF current character is not opening\n",
    "            # bracket, then it must be closing.\n",
    "            # So stack cannot be empty at this point.\n",
    "            if not stack:    #checks is stack is empty\n",
    "                return False\n",
    "            current_char = stack.pop()  #at this step the top element is popped out of stack and the popped element is stored in 'current_char'\n",
    "            #print(current_char)\n",
    "            if current_char == '(':\n",
    "                if char != \")\":\n",
    "                    return False\n",
    "            if current_char == '{':\n",
    "                if char != \"}\":\n",
    "                    return False\n",
    "            if current_char == '[':\n",
    "                if char != \"]\":\n",
    "                    return False\n",
    " \n",
    "    # Check Empty Stack\n",
    "    if stack:\n",
    "        return False\n",
    "    return True\n",
    " \n",
    " \n",
    "# Driver Code\n",
    "if __name__ == \"__main__\":\n",
    "    expr = \"{()}[]\"\n",
    " \n",
    "    # Function call\n",
    "    if areBracketsBalanced(expr):\n",
    "        print(\"Balanced\")\n",
    "    else:\n",
    "        print(\"Not Balanced\")\n",
    " "
   ]
  },
  {
   "cell_type": "markdown",
   "metadata": {},
   "source": [
    "#### Minimum Pizzas\n",
    "\n",
    "Each pizza consists of 4 slices. There are N friends and each friend needs exactly X slices.\n",
    "\n",
    "Find the minimum number of pizzas they should order to satisfy their appetite."
   ]
  },
  {
   "cell_type": "code",
   "execution_count": 4,
   "metadata": {},
   "outputs": [
    {
     "name": "stdout",
     "output_type": "stream",
     "text": [
      "2\n",
      "3\n",
      "3\n",
      "4\n"
     ]
    }
   ],
   "source": [
    "T = int(input())\n",
    "for tc in range(T):\n",
    "    (n, x) = map(int, input().split())\n",
    "    mini=1\n",
    "    mini=(n*x)/4\n",
    "    extra=(n*x)%4\n",
    "    total=0\n",
    "    if extra >= 1 and extra <= 4:\n",
    "        total=mini+1\n",
    "    elif extra==0:\n",
    "\t    total=mini\n",
    "    print(int(total))"
   ]
  },
  {
   "cell_type": "markdown",
   "metadata": {},
   "source": [
    "#### Building race\n",
    "\n",
    "Two friends Chef and Chefina are currently on floors A and B respectively. They hear an announcement that prizes are being distributed on the ground floor and so decide to reach the ground floor as soon as possible.\n",
    "\n",
    "Chef can climb down X floors per minute while Chefina can climb down Y floors per minute. Determine who will reach the ground floor first. In case both reach the ground floor together, print Both."
   ]
  },
  {
   "cell_type": "code",
   "execution_count": null,
   "metadata": {},
   "outputs": [],
   "source": [
    "T = int(input())\n",
    "for tc in range(T):\n",
    "    (a, b, x, y) = map(int, input().split())\n",
    "    timeC=a/x\n",
    "    timeCf=b/y\n",
    "    if timeC==timeCf:\n",
    "        print(\"Both\")\n",
    "    if timeC<timeCf:\n",
    "        print(\"Chef\")\n",
    "    if timeC>timeCf:\n",
    "        print(\"Chefina\")"
   ]
  },
  {
   "cell_type": "markdown",
   "metadata": {},
   "source": [
    "#### Convert Decimal number to Binary number"
   ]
  },
  {
   "cell_type": "code",
   "execution_count": 6,
   "metadata": {},
   "outputs": [
    {
     "name": "stdout",
     "output_type": "stream",
     "text": [
      "0b1000\n",
      "0b10010\n",
      "0b111\n"
     ]
    }
   ],
   "source": [
    "# Function to convert Decimal number\n",
    "# to Binary number\n",
    " \n",
    "def decimalToBinary(n):\n",
    "    return bin(n)#.replace(\"0b\",\"\")\n",
    " \n",
    "# Driver code\n",
    "if __name__ == '__main__':\n",
    "    print(decimalToBinary(8))\n",
    "    print(decimalToBinary(18))\n",
    "    print(decimalToBinary(7))"
   ]
  },
  {
   "cell_type": "code",
   "execution_count": 7,
   "metadata": {},
   "outputs": [
    {
     "data": {
      "text/plain": [
       "'0b1000'"
      ]
     },
     "execution_count": 7,
     "metadata": {},
     "output_type": "execute_result"
    }
   ],
   "source": [
    "bin(8)"
   ]
  },
  {
   "cell_type": "code",
   "execution_count": 11,
   "metadata": {},
   "outputs": [
    {
     "data": {
      "text/plain": [
       "'10010'"
      ]
     },
     "execution_count": 11,
     "metadata": {},
     "output_type": "execute_result"
    }
   ],
   "source": [
    "bin(18).replace(\"0b\",\"\")"
   ]
  },
  {
   "cell_type": "code",
   "execution_count": 12,
   "metadata": {},
   "outputs": [
    {
     "name": "stdout",
     "output_type": "stream",
     "text": [
      "4\n",
      "5\n",
      "9\n"
     ]
    }
   ],
   "source": [
    "# Function to convert Binary number to Decimal number\n",
    " \n",
    "def binaryToDecimal(n):\n",
    "    return int(n,2)\n",
    " \n",
    " \n",
    "# Driver code\n",
    "if __name__ == '__main__':\n",
    "    print(binaryToDecimal('100'))\n",
    "    print(binaryToDecimal('101'))\n",
    "    print(binaryToDecimal('1001'))"
   ]
  },
  {
   "cell_type": "code",
   "execution_count": 16,
   "metadata": {},
   "outputs": [
    {
     "name": "stdout",
     "output_type": "stream",
     "text": [
      "5\n",
      "9\n"
     ]
    }
   ],
   "source": [
    "print(int('101',2))\n",
    "print(int('1001',2))"
   ]
  },
  {
   "cell_type": "code",
   "execution_count": 17,
   "metadata": {},
   "outputs": [
    {
     "name": "stdout",
     "output_type": "stream",
     "text": [
      "100\n"
     ]
    }
   ],
   "source": [
    "# Using format specifier convert Decimal number to  Binary number\n",
    "n=4\n",
    "print('{0:b}'.format(n))"
   ]
  },
  {
   "cell_type": "markdown",
   "metadata": {},
   "source": [
    "- Bitwise xor operator: \n",
    "Returns 1 if one of the bits is 1 and the other is 0 \n",
    "else returns false."
   ]
  },
  {
   "cell_type": "code",
   "execution_count": 18,
   "metadata": {},
   "outputs": [
    {
     "name": "stdout",
     "output_type": "stream",
     "text": [
      "a & b = 0\n",
      "a | b = 14\n",
      "~a = -11\n",
      "a ^ b = 14\n"
     ]
    }
   ],
   "source": [
    "# Python program to show\n",
    "# bitwise operators\n",
    " \n",
    "a = 10\n",
    "b = 4\n",
    " \n",
    "# Print bitwise AND operation\n",
    "print(\"a & b =\", a & b)\n",
    " \n",
    "# Print bitwise OR operation\n",
    "print(\"a | b =\", a | b)\n",
    " \n",
    "# Print bitwise NOT operation\n",
    "print(\"~a =\", ~a)\n",
    " \n",
    "# print bitwise XOR operation\n",
    "print(\"a ^ b =\", a ^ b)"
   ]
  },
  {
   "cell_type": "code",
   "execution_count": 5,
   "metadata": {},
   "outputs": [
    {
     "name": "stdout",
     "output_type": "stream",
     "text": [
      "4 1001\n",
      "3 101\n"
     ]
    }
   ],
   "source": [
    "T = int(input())\n",
    "for tc in range(T):\n",
    "    slen=int(input())\n",
    "    s=int(input())\n",
    "    print(slen, s)"
   ]
  },
  {
   "cell_type": "code",
   "execution_count": 9,
   "metadata": {},
   "outputs": [
    {
     "name": "stdout",
     "output_type": "stream",
     "text": [
      "1\n"
     ]
    }
   ],
   "source": [
    "for i in range(0,1):\n",
    "    print(i+1)"
   ]
  }
 ],
 "metadata": {
  "kernelspec": {
   "display_name": "Python 3.9.12 ('base')",
   "language": "python",
   "name": "python3"
  },
  "language_info": {
   "codemirror_mode": {
    "name": "ipython",
    "version": 3
   },
   "file_extension": ".py",
   "mimetype": "text/x-python",
   "name": "python",
   "nbconvert_exporter": "python",
   "pygments_lexer": "ipython3",
   "version": "3.9.12"
  },
  "orig_nbformat": 4,
  "vscode": {
   "interpreter": {
    "hash": "ca8e1a675551e31a69bb80ae3f26b36ced6340b5d3941929fb9de856c408906a"
   }
  }
 },
 "nbformat": 4,
 "nbformat_minor": 2
}
