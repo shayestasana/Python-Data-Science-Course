{
 "cells": [
  {
   "cell_type": "code",
   "execution_count": 2,
   "metadata": {},
   "outputs": [
    {
     "name": "stdout",
     "output_type": "stream",
     "text": [
      "slice(0, 4, 2)\n",
      "(0, 4, 2)\n",
      "red\n",
      "blue\n"
     ]
    }
   ],
   "source": [
    "colors = ['red', 'green', 'blue', 'orange']\n",
    "\n",
    "s = slice(0, 4, 2)\n",
    "t = s.indices(len(colors))\n",
    "print(s)\n",
    "print(t)\n",
    "for index in range(*t):\n",
    "    print(colors[index])"
   ]
  },
  {
   "cell_type": "markdown",
   "metadata": {},
   "source": [
    "- ** is exclusively reserved for dictionaries.\n",
    "- Non-optional argument assignment happens first.\n",
    "- You cannot use a non-optional argument twice.\n",
    "- If applicable, ** must come after *, always.\n",
    "\n",
    "- To enforce keyword only arguments using *: \n",
    "def foo(pos1, pos2, *, kwarg1): pass, here * means that foo only accept keyword arguments after pos2, hence foo(1, 2, 3) raises TypeError but foo(1, 2, kwarg1=3) is ok.\n",
    "- To express no further interest in more positional arguments using *_ \n",
    "(Note: this is a convention only): def foo(bar, baz, *_):\n",
    " pass means (by convention) foo only uses bar and baz arguments in its working and will ignore others.\n",
    "- To express no further interest in more keyword arguments using \\**_ \n",
    "(Note: this is a convention only): def foo(bar, baz, **_): \n",
    "pass means (by convention) foo only uses bar and baz arguments in its working and will ignore others."
   ]
  },
  {
   "cell_type": "code",
   "execution_count": 7,
   "metadata": {},
   "outputs": [
    {
     "name": "stdout",
     "output_type": "stream",
     "text": [
      "10\n"
     ]
    }
   ],
   "source": [
    "def sum(**args): #pack keyword args into datastructure of dict after applying '**' - def sum({a:1,b:2,c:3,d:4})\n",
    "    sum=0\n",
    "    for k,v in args.items():\n",
    "        sum+=v\n",
    "    print(sum)\n",
    "\n",
    "sum(a=1,b=2,c=3,d=4) #positional args sent to function sum"
   ]
  },
  {
   "cell_type": "code",
   "execution_count": 8,
   "metadata": {},
   "outputs": [
    {
     "name": "stdout",
     "output_type": "stream",
     "text": [
      "3\n",
      "3\n",
      "3\n"
     ]
    }
   ],
   "source": [
    "def sum(a,b):  #receive args from function calls as sum(1,2) or sum(a=1,b=2)\n",
    "    print(a+b)\n",
    "\n",
    "my_tuple = (1,2)\n",
    "my_list = [1,2]\n",
    "my_dict = {'a':1,'b':2}\n",
    "\n",
    "# Let us unpack data structure of list or tuple or dict into arguments with help of '*' operator\n",
    "sum(*my_tuple)   # becomes same as sum(1,2) after unpacking my_tuple with '*'\n",
    "sum(*my_list)    # becomes same as sum(1,2) after unpacking my_list with  '*'\n",
    "sum(**my_dict)   # becomes same as sum(a=1,b=2) after unpacking by '**' \n",
    "\n",
    "# output is 3 in all three calls to sum function."
   ]
  },
  {
   "cell_type": "code",
   "execution_count": 6,
   "metadata": {},
   "outputs": [
    {
     "data": {
      "text/plain": [
       "3"
      ]
     },
     "execution_count": 6,
     "metadata": {},
     "output_type": "execute_result"
    }
   ],
   "source": [
    "#In function construction kwargs\n",
    "def h(a, b):\n",
    "    return a + b     \n",
    "def g(**kwargs):\n",
    "    return h(**kwargs) \n",
    "g(a=1, b=2)  "
   ]
  },
  {
   "cell_type": "code",
   "execution_count": 4,
   "metadata": {},
   "outputs": [
    {
     "data": {
      "text/plain": [
       "3"
      ]
     },
     "execution_count": 4,
     "metadata": {},
     "output_type": "execute_result"
    }
   ],
   "source": [
    "#In function call\n",
    "\n",
    "def f(a, b):\n",
    "    return a + b\n",
    "kwargs = dict(a=1, b=2)\n",
    "f(**kwargs)"
   ]
  },
  {
   "cell_type": "code",
   "execution_count": null,
   "metadata": {},
   "outputs": [],
   "source": [
    "def f(x, y, *myArgs, **myKW):\n",
    "    print(\"# x      = {}\".format(x))\n",
    "    print(\"# y      = {}\".format(y))\n",
    "    print(\"# myArgs = {}\".format(myArgs))\n",
    "    print(\"# myKW   = {}\".format(myKW))\n",
    "    print(\"# ----------------------------------------------------------------------\")\n",
    "\n",
    "# Define a list for demonstration purposes\n",
    "myList    = [\"Left\", \"Right\", \"Up\", \"Down\"]\n",
    "# Define a dictionary for demonstration purposes\n",
    "myDict    = {\"Wubba\": \"lubba\", \"Dub\": \"dub\"}\n",
    "# Define a dictionary to feed y\n",
    "myArgDict = {'y': \"Why?\", 'y0': \"Why not?\", \"q\": \"Here is a cue!\"}\n",
    "\n",
    "# The 1st elem of myList feeds y\n",
    "f(\"myEx\", *myList, **myDict)\n",
    "# x      = myEx\n",
    "# y      = Left\n",
    "# myArgs = ('Right', 'Up', 'Down')\n",
    "# myKW   = {'Wubba': 'lubba', 'Dub': 'dub'}\n",
    "# ----------------------------------------------------------------------\n",
    "\n",
    "# y is matched and fed first\n",
    "# The rest of myArgDict becomes additional arguments feeding myKW\n",
    "f(\"myEx\", **myArgDict)\n",
    "# x      = myEx\n",
    "# y      = Why?\n",
    "# myArgs = ()\n",
    "# myKW   = {'y0': 'Why not?', 'q': 'Here is a cue!'}\n",
    "# ----------------------------------------------------------------------\n",
    "\n",
    "# The rest of myArgDict becomes additional arguments feeding myArgs\n",
    "f(\"myEx\", *myArgDict)\n",
    "# x      = myEx\n",
    "# y      = y\n",
    "# myArgs = ('y0', 'q')\n",
    "# myKW   = {}\n",
    "# ----------------------------------------------------------------------\n",
    "\n",
    "# Feed extra arguments manually and append even more from my list\n",
    "f(\"myEx\", 4, 42, 420, *myList, *myDict, **myDict)\n",
    "# x      = myEx\n",
    "# y      = 4\n",
    "# myArgs = (42, 420, 'Left', 'Right', 'Up', 'Down', 'Wubba', 'Dub')\n",
    "# myKW   = {'Wubba': 'lubba', 'Dub': 'dub'}\n",
    "# ----------------------------------------------------------------------\n",
    "\n",
    "# Without the stars, the entire provided list and dict become x, and y:\n",
    "f(myList, myDict)\n",
    "# x      = ['Left', 'Right', 'Up', 'Down']\n",
    "# y      = {'Wubba': 'lubba', 'Dub': 'dub'}\n",
    "# myArgs = ()\n",
    "# myKW   = {}"
   ]
  },
  {
   "cell_type": "code",
   "execution_count": 10,
   "metadata": {},
   "outputs": [
    {
     "name": "stdout",
     "output_type": "stream",
     "text": [
      "# x      = myEx\n",
      "# y      = Left\n",
      "# myArgs = ('Right', 'Up', 'Down')\n",
      "# myKW   = {'Wubba': 'lubba', 'Dub': 'dub'}\n",
      "# ----------------------------------------------------------------------\n",
      "# x      = myEx\n",
      "# y      = Why?\n",
      "# myArgs = ()\n",
      "# myKW   = {'y0': 'Why not?', 'q': 'Here is a cue!'}\n",
      "# ----------------------------------------------------------------------\n",
      "# x      = myEx\n",
      "# y      = y\n",
      "# myArgs = ('y0', 'q')\n",
      "# myKW   = {}\n",
      "# ----------------------------------------------------------------------\n",
      "# x      = myEx\n",
      "# y      = 4\n",
      "# myArgs = (42, 420, 'Left', 'Right', 'Up', 'Down', 'Wubba', 'Dub')\n",
      "# myKW   = {'Wubba': 'lubba', 'Dub': 'dub'}\n",
      "# ----------------------------------------------------------------------\n",
      "# x      = ['Left', 'Right', 'Up', 'Down']\n",
      "# y      = {'Wubba': 'lubba', 'Dub': 'dub'}\n",
      "# myArgs = ()\n",
      "# myKW   = {}\n",
      "# ----------------------------------------------------------------------\n"
     ]
    }
   ],
   "source": [
    "#🔴⚪🟢🟡\n",
    "def f(x, y, *myArgs, **myKW):\n",
    "    print(\"# x      = {}\".format(x))\n",
    "    print(\"# y      = {}\".format(y))\n",
    "    print(\"# myArgs = {}\".format(myArgs))\n",
    "    print(\"# myKW   = {}\".format(myKW))\n",
    "    print(\"# ----------------------------------------------------------------------\")\n",
    "\n",
    "# Define a list for demonstration purposes\n",
    "myList    = [\"Left\", \"Right\", \"Up\", \"Down\"]\n",
    "# Define a dictionary for demonstration purposes\n",
    "myDict    = {\"Wubba\": \"lubba\", \"Dub\": \"dub\"}\n",
    "# Define a dictionary to feed y\n",
    "myArgDict = {'y': \"Why?\", 'y0': \"Why not?\", \"q\": \"Here is a cue!\"}\n",
    "\n",
    "# The 1st elem of myList feeds y\n",
    "f(\"myEx\", *myList, **myDict)\n",
    "\n",
    "f(\"myEx\", **myArgDict)\n",
    "\n",
    "f(\"myEx\", *myArgDict)\n",
    "\n",
    "f(\"myEx\", 4, 42, 420, *myList, *myDict, **myDict)\n",
    "\n",
    "f(myList, myDict)\n"
   ]
  },
  {
   "cell_type": "code",
   "execution_count": 25,
   "metadata": {},
   "outputs": [
    {
     "name": "stdout",
     "output_type": "stream",
     "text": [
      "(\n",
      "{\n",
      "[\n",
      "Balanced\n"
     ]
    }
   ],
   "source": [
    "# function to check if\n",
    "# brackets are balanced\n",
    " \n",
    "#The idea is to put all the opening brackets in the stack. \n",
    "# Whenever you hit a closing bracket, search if the top of the stack is the opening bracket of the same nature. \n",
    "# If this holds then pop the stack and continue the iteration, in the end if the stack is empty, it means all brackets are well-formed. \n",
    "# Otherwise, they are not balanced.\n",
    "\n",
    "def areBracketsBalanced(expr):\n",
    "    stack = []\n",
    " \n",
    "    # Traversing the Expression\n",
    "    for char in expr:\n",
    "        if char in [\"(\", \"{\", \"[\"]:\n",
    "            stack.append(char) # Push the element in the stack\n",
    "        else:\n",
    "            # IF current character is not opening\n",
    "            # bracket, then it must be closing.\n",
    "            # So stack cannot be empty at this point.\n",
    "            if not stack:    #checks is stack is empty\n",
    "                return False\n",
    "            current_char = stack.pop()  #at this step the top element is popped out of stack and the popped element is stored in 'current_char'\n",
    "            #print(current_char)\n",
    "            if current_char == '(':\n",
    "                if char != \")\":\n",
    "                    return False\n",
    "            if current_char == '{':\n",
    "                if char != \"}\":\n",
    "                    return False\n",
    "            if current_char == '[':\n",
    "                if char != \"]\":\n",
    "                    return False\n",
    " \n",
    "    # Check Empty Stack\n",
    "    if stack:\n",
    "        return False\n",
    "    return True\n",
    " \n",
    " \n",
    "# Driver Code\n",
    "if __name__ == \"__main__\":\n",
    "    expr = \"{()}[]\"\n",
    " \n",
    "    # Function call\n",
    "    if areBracketsBalanced(expr):\n",
    "        print(\"Balanced\")\n",
    "    else:\n",
    "        print(\"Not Balanced\")\n",
    " "
   ]
  }
 ],
 "metadata": {
  "kernelspec": {
   "display_name": "Python 3.9.12 ('base')",
   "language": "python",
   "name": "python3"
  },
  "language_info": {
   "codemirror_mode": {
    "name": "ipython",
    "version": 3
   },
   "file_extension": ".py",
   "mimetype": "text/x-python",
   "name": "python",
   "nbconvert_exporter": "python",
   "pygments_lexer": "ipython3",
   "version": "3.9.12"
  },
  "orig_nbformat": 4,
  "vscode": {
   "interpreter": {
    "hash": "ca8e1a675551e31a69bb80ae3f26b36ced6340b5d3941929fb9de856c408906a"
   }
  }
 },
 "nbformat": 4,
 "nbformat_minor": 2
}
