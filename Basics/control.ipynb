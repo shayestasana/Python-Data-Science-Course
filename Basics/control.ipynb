{
 "cells": [
  {
   "cell_type": "code",
   "execution_count": 1,
   "metadata": {},
   "outputs": [
    {
     "name": "stdout",
     "output_type": "stream",
     "text": [
      "even\n"
     ]
    }
   ],
   "source": [
    "x=1356\n",
    "if x%2==0:\n",
    "    print(\"even\")"
   ]
  },
  {
   "cell_type": "code",
   "execution_count": 3,
   "metadata": {},
   "outputs": [
    {
     "name": "stdout",
     "output_type": "stream",
     "text": [
      "end\n"
     ]
    }
   ],
   "source": [
    "x=1355\n",
    "if x%2==0:\n",
    "    print(\"even\")\n",
    "print(\"end\")"
   ]
  },
  {
   "cell_type": "code",
   "execution_count": 5,
   "metadata": {},
   "outputs": [
    {
     "name": "stdout",
     "output_type": "stream",
     "text": [
      "bad input\n"
     ]
    }
   ],
   "source": [
    "num= input(\"enter a number\")      #input is always a string\n",
    "if num.isnumeric():    #isnumeric is a function that checks for a numeric \"integer\" value input and not for float values\n",
    "    print(\"Well done\")\n",
    "    num=int(num)\n",
    "else:\n",
    "    print(\"bad input\")"
   ]
  },
  {
   "cell_type": "code",
   "execution_count": 11,
   "metadata": {},
   "outputs": [
    {
     "name": "stdout",
     "output_type": "stream",
     "text": [
      "Welcome to WWE 🎉🦾\n"
     ]
    }
   ],
   "source": [
    "username=\"John Cena\"\n",
    "email= \"john@gmail.com\"\n",
    "password=\"qwerty\"\n",
    "if username==\"John Cena\":\n",
    "    if email== \"john@gmail.com\":\n",
    "        if password==\"qwerty\":\n",
    "            print(\"Welcome to WWE 🎉🦾\")\n",
    "        else:\n",
    "            print(\"Wrong password\")\n",
    "    else:\n",
    "        print(\"Wrong email\")\n",
    "else:\n",
    "    print(\"Wrong username\")"
   ]
  },
  {
   "cell_type": "code",
   "execution_count": 20,
   "metadata": {},
   "outputs": [
    {
     "name": "stdout",
     "output_type": "stream",
     "text": [
      "Welcome to WWE 🎉🦾\n"
     ]
    }
   ],
   "source": [
    "username=\"John Cena\"\n",
    "email= \"john@gmail.com\"\n",
    "password=\"qwerty\"\n",
    "if username!=\"John Cena\":\n",
    "    print(\"Wrong username\")\n",
    "elif email != \"john@gmail.com\":\n",
    "    print(\"Wrong email\")\n",
    "elif password !=\"qwerty\":\n",
    "    print(\"Wrong password\")\n",
    "else:\n",
    "    print(\"Welcome to WWE 🎉🦾\")"
   ]
  },
  {
   "cell_type": "code",
   "execution_count": 28,
   "metadata": {},
   "outputs": [
    {
     "name": "stdout",
     "output_type": "stream",
     "text": [
      "Grade is D\n"
     ]
    }
   ],
   "source": [
    "marks=input(\"enter your percentage\")\n",
    "\n",
    "if not marks.isnumeric():\n",
    "    print(\"Invalid Input\")\n",
    "else:\n",
    "    marks=int(marks)\n",
    "    if marks<60:\n",
    "        print(\"Grade is F\")\n",
    "    elif marks>=60:\n",
    "        print(\"Grade is D\")\n",
    "    elif marks>=70:\n",
    "        print(\"Grade is C\")\n",
    "    elif marks>=80:\n",
    "        print(\"Grade is B\")\n",
    "    elif marks>=90:\n",
    "        print(\"Grade is A\")\n",
    "\n"
   ]
  },
  {
   "cell_type": "code",
   "execution_count": 1,
   "metadata": {},
   "outputs": [
    {
     "data": {
      "text/plain": [
       "10"
      ]
     },
     "execution_count": 1,
     "metadata": {},
     "output_type": "execute_result"
    }
   ],
   "source": [
    "word = 'Volkswagen'\n",
    "len(word)"
   ]
  },
  {
   "cell_type": "markdown",
   "metadata": {},
   "source": [
    "# LOOPS\n"
   ]
  },
  {
   "cell_type": "code",
   "execution_count": 2,
   "metadata": {},
   "outputs": [
    {
     "name": "stdout",
     "output_type": "stream",
     "text": [
      "P\n",
      "Y\n",
      "T\n",
      "H\n",
      "O\n",
      "N\n"
     ]
    }
   ],
   "source": [
    "x=\"PYTHON\"\n",
    "for i in x:\n",
    "    print(i)"
   ]
  },
  {
   "cell_type": "markdown",
   "metadata": {},
   "source": [
    "STRING SETTINGS\n",
    "- 'r'- raw string (if it is put like r\"fasjdhf/jas/dhfk/h\" it takes it as the same as it is)\n",
    "- 'f'- formatted string\n",
    "- 'b'- byte string"
   ]
  },
  {
   "cell_type": "code",
   "execution_count": 4,
   "metadata": {},
   "outputs": [
    {
     "data": {
      "text/plain": [
       "'C:\\\\Users\\\\sanas\\\\Documents\\\\Python Data Science\\\\Coding Python\\\\control.ipynb'"
      ]
     },
     "execution_count": 4,
     "metadata": {},
     "output_type": "execute_result"
    }
   ],
   "source": [
    "r\"C:\\Users\\sanas\\Documents\\Python Data Science\\Coding Python\\control.ipynb\""
   ]
  },
  {
   "cell_type": "code",
   "execution_count": 3,
   "metadata": {},
   "outputs": [
    {
     "name": "stdout",
     "output_type": "stream",
     "text": [
      "i have apple\n",
      "i have banana\n",
      "i have lemon\n"
     ]
    }
   ],
   "source": [
    "fruits=['apple','banana','lemon']\n",
    "for item in fruits:\n",
    "    print(f'i have {item}')"
   ]
  },
  {
   "cell_type": "code",
   "execution_count": 6,
   "metadata": {},
   "outputs": [
    {
     "name": "stdout",
     "output_type": "stream",
     "text": [
      "I can see 10 Birds on the roof\n"
     ]
    }
   ],
   "source": [
    "a=10\n",
    "b=\"Birds\"\n",
    "print('I can see',a,b,'on the roof')"
   ]
  },
  {
   "cell_type": "code",
   "execution_count": 8,
   "metadata": {},
   "outputs": [
    {
     "name": "stdout",
     "output_type": "stream",
     "text": [
      "I can see 10 Birds on the roof\n"
     ]
    }
   ],
   "source": [
    "print(f'I can see {a} {b} on the roof')"
   ]
  },
  {
   "cell_type": "code",
   "execution_count": 9,
   "metadata": {},
   "outputs": [
    {
     "name": "stdout",
     "output_type": "stream",
     "text": [
      "You got point 0\n",
      "You got point 1\n",
      "You got point 2\n",
      "You got point 3\n",
      "You got point 4\n",
      "You got point 5\n"
     ]
    }
   ],
   "source": [
    "for i in range(6):\n",
    "    print('You got point', i)"
   ]
  },
  {
   "cell_type": "code",
   "execution_count": 4,
   "metadata": {},
   "outputs": [
    {
     "name": "stdout",
     "output_type": "stream",
     "text": [
      "sheep 2\n",
      "sheep 3\n",
      "sheep 4\n",
      "sheep 5\n",
      "sheep 6\n",
      "sheep 7\n",
      "sheep 8\n",
      "sheep 9\n",
      "sheep 10\n",
      "sheepsheep\n",
      "sheepsheepsheep\n",
      "sheepsheepsheepsheep\n",
      "sheepsheepsheepsheepsheep\n",
      "sheepsheepsheepsheepsheepsheep\n",
      "sheepsheepsheepsheepsheepsheepsheep\n",
      "sheepsheepsheepsheepsheepsheepsheepsheep\n",
      "sheepsheepsheepsheepsheepsheepsheepsheepsheep\n",
      "sheepsheepsheepsheepsheepsheepsheepsheepsheepsheep\n"
     ]
    }
   ],
   "source": [
    "for num in range(2,11):\n",
    "    print('sheep',num)\n",
    "for num in range(2,11):\n",
    "    print('sheep'*num)\n"
   ]
  },
  {
   "cell_type": "code",
   "execution_count": 11,
   "metadata": {},
   "outputs": [
    {
     "name": "stdout",
     "output_type": "stream",
     "text": [
      "level 1\n",
      "level 4\n",
      "level 7\n"
     ]
    }
   ],
   "source": [
    "for num in range(1,10,3): #start:end:skip\n",
    "    print('level',num)"
   ]
  },
  {
   "cell_type": "code",
   "execution_count": 12,
   "metadata": {},
   "outputs": [
    {
     "name": "stdout",
     "output_type": "stream",
     "text": [
      "10\n",
      "9\n",
      "8\n",
      "7\n",
      "6\n"
     ]
    }
   ],
   "source": [
    "# reverse loop\n",
    "for num in range(10,5,-1):\n",
    "    print(num)"
   ]
  },
  {
   "cell_type": "code",
   "execution_count": 13,
   "metadata": {},
   "outputs": [
    {
     "name": "stdout",
     "output_type": "stream",
     "text": [
      "\n",
      "Na\n",
      "NaNa\n",
      "NaNaNa\n",
      "NaNaNaNa\n",
      "NaNaNaNaNa\n",
      "NaNaNaNaNaNa\n",
      "NaNaNaNaNaNaNa\n",
      "NaNaNaNaNaNaNaNa\n",
      "NaNaNaNaNaNaNaNaNa\n"
     ]
    }
   ],
   "source": [
    "for i in range(10):\n",
    "    print(i * 'Na')"
   ]
  },
  {
   "cell_type": "markdown",
   "metadata": {},
   "source": [
    "extra functional setting for 'for loop'\n",
    "\n",
    "- enumerate (counts its idexes and gives its value)\n",
    "- zip(it combines a no. of lists respectively)"
   ]
  },
  {
   "cell_type": "code",
   "execution_count": 14,
   "metadata": {},
   "outputs": [
    {
     "name": "stdout",
     "output_type": "stream",
     "text": [
      "apple\n",
      "banana\n",
      "cherry\n",
      "orange\n",
      "kiwi\n",
      "mango\n"
     ]
    }
   ],
   "source": [
    "fruitss= ['apple','banana', 'cherry','orange','kiwi','mango']\n",
    "for fruit in fruitss:\n",
    "    print(fruit)"
   ]
  },
  {
   "cell_type": "code",
   "execution_count": 15,
   "metadata": {},
   "outputs": [
    {
     "name": "stdout",
     "output_type": "stream",
     "text": [
      "(0, 'apple')\n",
      "(1, 'banana')\n",
      "(2, 'cherry')\n",
      "(3, 'orange')\n",
      "(4, 'kiwi')\n",
      "(5, 'mango')\n"
     ]
    }
   ],
   "source": [
    "for fruit in enumerate(fruitss):\n",
    "    print(fruit)"
   ]
  },
  {
   "cell_type": "code",
   "execution_count": 17,
   "metadata": {},
   "outputs": [
    {
     "name": "stdout",
     "output_type": "stream",
     "text": [
      "0 apple\n",
      "1 banana\n",
      "2 cherry\n",
      "3 orange\n",
      "4 kiwi\n",
      "5 mango\n"
     ]
    }
   ],
   "source": [
    "for i, fruit in enumerate(fruitss):#################################################################################3\n",
    "    print(i, fruit)"
   ]
  },
  {
   "cell_type": "code",
   "execution_count": 18,
   "metadata": {},
   "outputs": [],
   "source": [
    "prices=[100,40,200,50,240,60]"
   ]
  },
  {
   "cell_type": "code",
   "execution_count": 19,
   "metadata": {},
   "outputs": [
    {
     "name": "stdout",
     "output_type": "stream",
     "text": [
      "apple => 100\n",
      "banana => 40\n",
      "cherry => 200\n",
      "orange => 50\n",
      "kiwi => 240\n",
      "mango => 60\n"
     ]
    }
   ],
   "source": [
    "for f,p in zip(fruitss,prices):\n",
    "    print(f,'=>',p)"
   ]
  },
  {
   "cell_type": "code",
   "execution_count": 20,
   "metadata": {},
   "outputs": [],
   "source": [
    "qty=['2 Kg','2 Dozens','1 Kg','1 Kg','1/2 Kg','5 Kg']"
   ]
  },
  {
   "cell_type": "code",
   "execution_count": 21,
   "metadata": {},
   "outputs": [
    {
     "name": "stdout",
     "output_type": "stream",
     "text": [
      "apple => 2 Kg for 100\n",
      "banana => 2 Dozens for 40\n",
      "cherry => 1 Kg for 200\n",
      "orange => 1 Kg for 50\n",
      "kiwi => 1/2 Kg for 240\n",
      "mango => 5 Kg for 60\n"
     ]
    }
   ],
   "source": [
    "for f,p,q in zip(fruitss,prices,qty):\n",
    "    print(f,'=>',q,'for',p)"
   ]
  },
  {
   "cell_type": "code",
   "execution_count": null,
   "metadata": {},
   "outputs": [],
   "source": []
  }
 ],
 "metadata": {
  "kernelspec": {
   "display_name": "Python 3.9.12 ('base')",
   "language": "python",
   "name": "python3"
  },
  "language_info": {
   "codemirror_mode": {
    "name": "ipython",
    "version": 3
   },
   "file_extension": ".py",
   "mimetype": "text/x-python",
   "name": "python",
   "nbconvert_exporter": "python",
   "pygments_lexer": "ipython3",
   "version": "3.9.12"
  },
  "orig_nbformat": 4,
  "vscode": {
   "interpreter": {
    "hash": "ca8e1a675551e31a69bb80ae3f26b36ced6340b5d3941929fb9de856c408906a"
   }
  }
 },
 "nbformat": 4,
 "nbformat_minor": 2
}
