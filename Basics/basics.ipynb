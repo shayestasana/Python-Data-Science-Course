{
 "cells": [
  {
   "cell_type": "code",
   "execution_count": 3,
   "metadata": {},
   "outputs": [
    {
     "name": "stdout",
     "output_type": "stream",
     "text": [
      "\n"
     ]
    }
   ],
   "source": [
    "print()"
   ]
  },
  {
   "cell_type": "code",
   "execution_count": 4,
   "metadata": {},
   "outputs": [
    {
     "name": "stdout",
     "output_type": "stream",
     "text": [
      "Bruce\n"
     ]
    }
   ],
   "source": [
    "print('Bruce')"
   ]
  },
  {
   "cell_type": "markdown",
   "metadata": {},
   "source": [
    "#Raw outputs are only for developers understanding"
   ]
  },
  {
   "cell_type": "code",
   "execution_count": 5,
   "metadata": {},
   "outputs": [
    {
     "data": {
      "text/plain": [
       "'Welcome to the Kingdom'"
      ]
     },
     "execution_count": 5,
     "metadata": {},
     "output_type": "execute_result"
    }
   ],
   "source": [
    "\"Welcome to the Kingdom\""
   ]
  },
  {
   "cell_type": "code",
   "execution_count": 6,
   "metadata": {},
   "outputs": [
    {
     "data": {
      "text/plain": [
       "1883"
      ]
     },
     "execution_count": 6,
     "metadata": {},
     "output_type": "execute_result"
    }
   ],
   "source": [
    "2405+33-555"
   ]
  },
  {
   "cell_type": "code",
   "execution_count": 7,
   "metadata": {},
   "outputs": [
    {
     "name": "stdout",
     "output_type": "stream",
     "text": [
      "This is an apple it is a fruit i dont like it\n"
     ]
    }
   ],
   "source": [
    "print('This is an apple','it is a fruit','i dont like it')"
   ]
  },
  {
   "cell_type": "code",
   "execution_count": 8,
   "metadata": {},
   "outputs": [
    {
     "name": "stdout",
     "output_type": "stream",
     "text": [
      "2 3 5 6 4.4 3434.34\n"
     ]
    }
   ],
   "source": [
    "print(2,3,5,6,4.4, 3434.34)"
   ]
  },
  {
   "cell_type": "code",
   "execution_count": 9,
   "metadata": {},
   "outputs": [
    {
     "name": "stdout",
     "output_type": "stream",
     "text": [
      "This is Python Data Science\n",
      "We are going to do code\n",
      "and learn the secrets of Python\n",
      "Thats it!\n"
     ]
    }
   ],
   "source": [
    "print('This is Python Data Science')\n",
    "print('We are going to do code')\n",
    "print('and learn the secrets of Python')\n",
    "print('Thats it!')"
   ]
  },
  {
   "cell_type": "code",
   "execution_count": 10,
   "metadata": {},
   "outputs": [
    {
     "name": "stdout",
     "output_type": "stream",
     "text": [
      "This is Python Data Science \n",
      "We are going to do code \n",
      "and learn the secrets of Python \n",
      "Thats it!\n"
     ]
    }
   ],
   "source": [
    "print('This is Python Data Science \\nWe are going to do code \\nand learn the secrets of Python \\nThats it!')\n"
   ]
  },
  {
   "cell_type": "code",
   "execution_count": 11,
   "metadata": {},
   "outputs": [
    {
     "name": "stdout",
     "output_type": "stream",
     "text": [
      "\n",
      "This is Python Data Science \n",
      "We are going to do code \n",
      "and learn the secrets of Python \n",
      "Thats it!\n",
      "\n"
     ]
    }
   ],
   "source": [
    "print('''\n",
    "This is Python Data Science \n",
    "We are going to do code \n",
    "and learn the secrets of Python \n",
    "Thats it!\n",
    "''')  # triple quotes are multiline printing  in which we can write statements in as many lines as we want\n"
   ]
  },
  {
   "cell_type": "markdown",
   "metadata": {},
   "source": [
    "there are few settings in print function that we can provide when we want to print something"
   ]
  },
  {
   "cell_type": "code",
   "execution_count": 13,
   "metadata": {},
   "outputs": [
    {
     "name": "stdout",
     "output_type": "stream",
     "text": [
      "this\n",
      "is\n",
      "multiline\n",
      "message\n"
     ]
    }
   ],
   "source": [
    "print('this')\n",
    "print('is')\n",
    "print('multiline')\n",
    "print('message')"
   ]
  },
  {
   "cell_type": "code",
   "execution_count": 14,
   "metadata": {},
   "outputs": [
    {
     "name": "stdout",
     "output_type": "stream",
     "text": [
      "this is multiline message "
     ]
    }
   ],
   "source": [
    "print('this', end=' ')\n",
    "print('is', end=' ')\n",
    "print('multiline', end=' ')\n",
    "print('message', end=' ')"
   ]
  },
  {
   "cell_type": "code",
   "execution_count": 15,
   "metadata": {},
   "outputs": [],
   "source": [
    "age=18\n",
    "name='bob'\n",
    "color2='maroon'\n",
    "is_sleeping= False\n",
    "char='c'"
   ]
  },
  {
   "cell_type": "code",
   "execution_count": 16,
   "metadata": {},
   "outputs": [],
   "source": [
    "name='Nobita'\n",
    "color2=12"
   ]
  },
  {
   "cell_type": "markdown",
   "metadata": {},
   "source": [
    "*datatype can be changed by changing the value of the variable*"
   ]
  },
  {
   "cell_type": "code",
   "execution_count": 17,
   "metadata": {},
   "outputs": [],
   "source": [
    "x=3\n",
    "s=-434\n",
    "e=3242837928779770979746"
   ]
  },
  {
   "cell_type": "code",
   "execution_count": 18,
   "metadata": {},
   "outputs": [],
   "source": [
    "x=1.10"
   ]
  },
  {
   "cell_type": "code",
   "execution_count": 19,
   "metadata": {},
   "outputs": [],
   "source": [
    "y=1.0"
   ]
  },
  {
   "cell_type": "code",
   "execution_count": 20,
   "metadata": {},
   "outputs": [],
   "source": [
    "z=-44.6"
   ]
  },
  {
   "cell_type": "code",
   "execution_count": 21,
   "metadata": {},
   "outputs": [],
   "source": [
    "z=87.7e100"
   ]
  },
  {
   "cell_type": "code",
   "execution_count": 22,
   "metadata": {},
   "outputs": [],
   "source": [
    "del age # it deletes the variable from the memory\n",
    "del x, y"
   ]
  },
  {
   "cell_type": "code",
   "execution_count": 23,
   "metadata": {},
   "outputs": [],
   "source": [
    "name =\"bruce wayne 01\"\n",
    "Color='maroon'\n",
    "color=''' Hey Yo ''' # multiline strings"
   ]
  },
  {
   "cell_type": "code",
   "execution_count": 24,
   "metadata": {},
   "outputs": [],
   "source": [
    "is_coding=True\n",
    "is_fun= True\n",
    "is_boring= False"
   ]
  },
  {
   "cell_type": "code",
   "execution_count": 25,
   "metadata": {},
   "outputs": [],
   "source": [
    "x=None"
   ]
  },
  {
   "cell_type": "code",
   "execution_count": 26,
   "metadata": {},
   "outputs": [],
   "source": [
    "a=[20,30,40,50,50,60,49] #lists are mutable means they can be changed\n",
    "vals=[1, 2.2, 'Python']\n",
    "colors=['red', 'green', 'blue']"
   ]
  },
  {
   "cell_type": "code",
   "execution_count": 27,
   "metadata": {},
   "outputs": [],
   "source": [
    "a=(20,30,40,50,50,60,49) # tuples are immutable\n",
    "vals=(1, 2.2, 'Python')\n",
    "colors=('red', 'green', 'blue')"
   ]
  },
  {
   "cell_type": "code",
   "execution_count": 28,
   "metadata": {},
   "outputs": [],
   "source": [
    "a={20,30,40,50,50,60,49} # sets are  unordered set of unique values\n",
    "vals={1, 2.2, 'Python'}\n",
    "colors={'red', 'green', 'blue'}"
   ]
  },
  {
   "cell_type": "code",
   "execution_count": 29,
   "metadata": {},
   "outputs": [],
   "source": [
    "car_info={\n",
    "    \"brand\": \"Ford\",\n",
    "    \"model\": \"Mustang\",\n",
    "    \"year\": 2020\n",
    "}    #Dictionaries"
   ]
  },
  {
   "cell_type": "markdown",
   "metadata": {},
   "source": [
    "# input in python"
   ]
  },
  {
   "cell_type": "code",
   "execution_count": 2,
   "metadata": {},
   "outputs": [
    {
     "name": "stdout",
     "output_type": "stream",
     "text": [
      "So according to you\n",
      "You are  g\n",
      "and you live in u\n"
     ]
    }
   ],
   "source": [
    "name= input('What is your name? ')\n",
    "city= input('What city do you live in' )\n",
    "print(\"So according to you\")\n",
    "print('You are ', name)\n",
    "print('and you live in', city)"
   ]
  },
  {
   "cell_type": "markdown",
   "metadata": {},
   "source": [
    "# Operators"
   ]
  },
  {
   "cell_type": "code",
   "execution_count": 31,
   "metadata": {},
   "outputs": [
    {
     "name": "stdout",
     "output_type": "stream",
     "text": [
      "13\n",
      "7\n",
      "30\n",
      "3.3333333333333335\n"
     ]
    }
   ],
   "source": [
    "#arithmetic operators\n",
    "a=10\n",
    "b=3\n",
    "\n",
    "print( a + b ) #add\n",
    "print( a - b ) #sub\n",
    "print( a * b ) #mul\n",
    "print(a/b) #float div"
   ]
  },
  {
   "cell_type": "code",
   "execution_count": 32,
   "metadata": {},
   "outputs": [
    {
     "name": "stdout",
     "output_type": "stream",
     "text": [
      "3\n"
     ]
    }
   ],
   "source": [
    "print(a//b) # int division i.e. give answer in whole no. ->Floor division"
   ]
  },
  {
   "cell_type": "code",
   "execution_count": 33,
   "metadata": {},
   "outputs": [
    {
     "name": "stdout",
     "output_type": "stream",
     "text": [
      "3\n",
      "32\n"
     ]
    },
    {
     "data": {
      "text/plain": [
       "1024"
      ]
     },
     "execution_count": 33,
     "metadata": {},
     "output_type": "execute_result"
    }
   ],
   "source": [
    "print(23%5) # remainder\n",
    "print(2**5) # power/exponentiation\n",
    "2**10"
   ]
  },
  {
   "cell_type": "code",
   "execution_count": 34,
   "metadata": {},
   "outputs": [],
   "source": [
    "#Assignment operators\n",
    "a=10\n",
    "b=3\n",
    "\n",
    "#alternate way to assign a value to a  variable\n",
    "x, y, z =10, 20, 30\n",
    "\n",
    "#use of assignment operator with arithmetic operator\n",
    "a += 2# update a with a+2\n",
    "a -= 2\n",
    "a *= 2\n",
    "a /= 2\n",
    "b **= 2\n",
    "x %= 10\n",
    "\n"
   ]
  },
  {
   "cell_type": "code",
   "execution_count": 35,
   "metadata": {},
   "outputs": [
    {
     "name": "stdout",
     "output_type": "stream",
     "text": [
      "True\n",
      "True\n",
      "False\n",
      "False\n",
      "False\n",
      "True\n"
     ]
    }
   ],
   "source": [
    "#Comparison operators\n",
    "print(a>b)\n",
    "print(a>=b)\n",
    "print(a<b)\n",
    "print(a<=b)\n",
    "print(a==b)\n",
    "print(a!=b)"
   ]
  },
  {
   "cell_type": "code",
   "execution_count": 36,
   "metadata": {},
   "outputs": [
    {
     "name": "stdout",
     "output_type": "stream",
     "text": [
      "True\n",
      "False\n",
      "False\n",
      "True\n",
      "True\n",
      "False\n",
      "False\n"
     ]
    }
   ],
   "source": [
    "#Logical Operators (and, or, not)\n",
    "print(7>6 and 6<7)\n",
    "print(6>7 and 6<7)\n",
    "print(6>6 or 8<7)\n",
    "print(7>6 and 6<7)\n",
    "print(not a<b)\n",
    "print(not a>b)\n",
    "print(not a and not b and not x)"
   ]
  },
  {
   "cell_type": "code",
   "execution_count": 37,
   "metadata": {},
   "outputs": [
    {
     "name": "stdout",
     "output_type": "stream",
     "text": [
      "True\n",
      "False\n",
      "False\n",
      "False\n",
      "True\n"
     ]
    }
   ],
   "source": [
    "#membership operator\n",
    "colors3= ['red', 'blue','green','yellow','orange']\n",
    "print('red' in colors3)\n",
    "print('Red' in colors3)\n",
    "print('yelloww' in colors3)\n",
    "print('purple' in colors3)\n",
    "print('blue' in colors3)"
   ]
  },
  {
   "cell_type": "code",
   "execution_count": 38,
   "metadata": {},
   "outputs": [
    {
     "name": "stdout",
     "output_type": "stream",
     "text": [
      "True\n",
      "False\n"
     ]
    }
   ],
   "source": [
    "msg= \"its the  journey that matters\"\n",
    "print('journey' in msg)\n",
    "print('destination' in msg)\n"
   ]
  },
  {
   "cell_type": "markdown",
   "metadata": {},
   "source": [
    "is  operator  checks whether two objects belong to same memory location or not\n"
   ]
  },
  {
   "cell_type": "markdown",
   "metadata": {},
   "source": [
    "we can also use \"not in\" "
   ]
  },
  {
   "cell_type": "markdown",
   "metadata": {},
   "source": [
    "# questions:\n",
    "- wap to calculate the area of a circle\n",
    "- wap to calculate the area of a rectangle\n",
    "- wap to calculate the area of a triangle\n",
    "- wap to calculate the hypotenuse using perpendicular and base\n",
    "- wap to calculate a factorial of 5"
   ]
  },
  {
   "cell_type": "code",
   "execution_count": 4,
   "metadata": {},
   "outputs": [],
   "source": [
    "import math"
   ]
  },
  {
   "cell_type": "code",
   "execution_count": 40,
   "metadata": {},
   "outputs": [],
   "source": [
    "#area of a circle\n",
    "\n",
    "r= float(input('Enter the radius of the circle: ')) #casting from string to float\n",
    "area= (math.pi)*r*r  #math.pi=3.14\n",
    "print(area, 'for a circle of radius', r)"
   ]
  },
  {
   "cell_type": "code",
   "execution_count": null,
   "metadata": {},
   "outputs": [
    {
     "name": "stdout",
     "output_type": "stream",
     "text": [
      "200\n"
     ]
    }
   ],
   "source": [
    "#area of rectangle\n",
    "l=10\n",
    "b=20\n",
    "area= l*b\n",
    "print(area)"
   ]
  },
  {
   "cell_type": "code",
   "execution_count": null,
   "metadata": {},
   "outputs": [
    {
     "name": "stdout",
     "output_type": "stream",
     "text": [
      "100.0\n"
     ]
    }
   ],
   "source": [
    "#area of triangle\n",
    "base=10\n",
    "h=20\n",
    "area=0.5*base*h  \n",
    "print(area)"
   ]
  },
  {
   "cell_type": "code",
   "execution_count": null,
   "metadata": {},
   "outputs": [
    {
     "name": "stdout",
     "output_type": "stream",
     "text": [
      "22.360679774997898 22.360679774997898\n"
     ]
    }
   ],
   "source": [
    "#Hypotenuse\n",
    "p=10\n",
    "b=20\n",
    "h= ((p**2)+(b**2))**0.5\n",
    "h2 = math.hypot(p, b)\n",
    "print(h, h2)"
   ]
  },
  {
   "cell_type": "code",
   "execution_count": 5,
   "metadata": {},
   "outputs": [
    {
     "name": "stdout",
     "output_type": "stream",
     "text": [
      "120 120\n"
     ]
    }
   ],
   "source": [
    "#factorial of 5\n",
    "num= int(input('Enter a number: '))\n",
    "factorial=5*4*3*2*1\n",
    "f2= math.factorial(num)\n",
    "print(factorial, f2)"
   ]
  },
  {
   "cell_type": "code",
   "execution_count": null,
   "metadata": {},
   "outputs": [
    {
     "name": "stdout",
     "output_type": "stream",
     "text": [
      "['__doc__', '__loader__', '__name__', '__package__', '__spec__', 'acos', 'acosh', 'asin', 'asinh', 'atan', 'atan2', 'atanh', 'ceil', 'comb', 'copysign', 'cos', 'cosh', 'degrees', 'dist', 'e', 'erf', 'erfc', 'exp', 'expm1', 'fabs', 'factorial', 'floor', 'fmod', 'frexp', 'fsum', 'gamma', 'gcd', 'hypot', 'inf', 'isclose', 'isfinite', 'isinf', 'isnan', 'isqrt', 'lcm', 'ldexp', 'lgamma', 'log', 'log10', 'log1p', 'log2', 'modf', 'nan', 'nextafter', 'perm', 'pi', 'pow', 'prod', 'radians', 'remainder', 'sin', 'sinh', 'sqrt', 'tan', 'tanh', 'tau', 'trunc', 'ulp']\n"
     ]
    }
   ],
   "source": [
    "print(dir(math))"
   ]
  },
  {
   "cell_type": "code",
   "execution_count": null,
   "metadata": {},
   "outputs": [
    {
     "name": "stdout",
     "output_type": "stream",
     "text": [
      "compound interest =  2315.2500000000005\n",
      "amount =  4315.25\n"
     ]
    }
   ],
   "source": [
    "#compound interest\n",
    "p=2000\n",
    "r=5\n",
    "t=3\n",
    "ci = p*(pow(1+(r/100), t))\n",
    "print('compound interest = ', ci)\n",
    "print('amount = ', 2000+ci)\n"
   ]
  }
 ],
 "metadata": {
  "kernelspec": {
   "display_name": "Python 3.9.12 ('base')",
   "language": "python",
   "name": "python3"
  },
  "language_info": {
   "codemirror_mode": {
    "name": "ipython",
    "version": 3
   },
   "file_extension": ".py",
   "mimetype": "text/x-python",
   "name": "python",
   "nbconvert_exporter": "python",
   "pygments_lexer": "ipython3",
   "version": "3.9.12"
  },
  "orig_nbformat": 4,
  "vscode": {
   "interpreter": {
    "hash": "ca8e1a675551e31a69bb80ae3f26b36ced6340b5d3941929fb9de856c408906a"
   }
  }
 },
 "nbformat": 4,
 "nbformat_minor": 2
}
