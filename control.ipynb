{
 "cells": [
  {
   "cell_type": "code",
   "execution_count": 1,
   "metadata": {},
   "outputs": [
    {
     "name": "stdout",
     "output_type": "stream",
     "text": [
      "even\n"
     ]
    }
   ],
   "source": [
    "x=1356\n",
    "if x%2==0:\n",
    "    print(\"even\")"
   ]
  },
  {
   "cell_type": "code",
   "execution_count": 3,
   "metadata": {},
   "outputs": [
    {
     "name": "stdout",
     "output_type": "stream",
     "text": [
      "end\n"
     ]
    }
   ],
   "source": [
    "x=1355\n",
    "if x%2==0:\n",
    "    print(\"even\")\n",
    "print(\"end\")"
   ]
  },
  {
   "cell_type": "code",
   "execution_count": 5,
   "metadata": {},
   "outputs": [
    {
     "name": "stdout",
     "output_type": "stream",
     "text": [
      "bad input\n"
     ]
    }
   ],
   "source": [
    "num= input(\"enter a number\")      #input is always a string\n",
    "if num.isnumeric():    #isnumeric is a function that checks for a numeric \"integer\" value input and not for float values\n",
    "    print(\"Well done\")\n",
    "    num=int(num)\n",
    "else:\n",
    "    print(\"bad input\")"
   ]
  },
  {
   "cell_type": "code",
   "execution_count": 11,
   "metadata": {},
   "outputs": [
    {
     "name": "stdout",
     "output_type": "stream",
     "text": [
      "Welcome to WWE 🎉🦾\n"
     ]
    }
   ],
   "source": [
    "username=\"John Cena\"\n",
    "email= \"john@gmail.com\"\n",
    "password=\"qwerty\"\n",
    "if username==\"John Cena\":\n",
    "    if email== \"john@gmail.com\":\n",
    "        if password==\"qwerty\":\n",
    "            print(\"Welcome to WWE 🎉🦾\")\n",
    "        else:\n",
    "            print(\"Wrong password\")\n",
    "    else:\n",
    "        print(\"Wrong email\")\n",
    "else:\n",
    "    print(\"Wrong username\")"
   ]
  },
  {
   "cell_type": "code",
   "execution_count": 20,
   "metadata": {},
   "outputs": [
    {
     "name": "stdout",
     "output_type": "stream",
     "text": [
      "Welcome to WWE 🎉🦾\n"
     ]
    }
   ],
   "source": [
    "username=\"John Cena\"\n",
    "email= \"john@gmail.com\"\n",
    "password=\"qwerty\"\n",
    "if username!=\"John Cena\":\n",
    "    print(\"Wrong username\")\n",
    "elif email != \"john@gmail.com\":\n",
    "    print(\"Wrong email\")\n",
    "elif password !=\"qwerty\":\n",
    "    print(\"Wrong password\")\n",
    "else:\n",
    "    print(\"Welcome to WWE 🎉🦾\")"
   ]
  },
  {
   "cell_type": "code",
   "execution_count": 28,
   "metadata": {},
   "outputs": [
    {
     "name": "stdout",
     "output_type": "stream",
     "text": [
      "Grade is D\n"
     ]
    }
   ],
   "source": [
    "marks=input(\"enter your percentage\")\n",
    "\n",
    "if not marks.isnumeric():\n",
    "    print(\"Invalid Input\")\n",
    "else:\n",
    "    marks=int(marks)\n",
    "    if marks<60:\n",
    "        print(\"Grade is F\")\n",
    "    elif marks>=60:\n",
    "        print(\"Grade is D\")\n",
    "    elif marks>=70:\n",
    "        print(\"Grade is C\")\n",
    "    elif marks>=80:\n",
    "        print(\"Grade is B\")\n",
    "    elif marks>=90:\n",
    "        print(\"Grade is A\")\n",
    "\n"
   ]
  },
  {
   "cell_type": "code",
   "execution_count": null,
   "metadata": {},
   "outputs": [],
   "source": []
  }
 ],
 "metadata": {
  "kernelspec": {
   "display_name": "Python 3.9.12 ('base')",
   "language": "python",
   "name": "python3"
  },
  "language_info": {
   "codemirror_mode": {
    "name": "ipython",
    "version": 3
   },
   "file_extension": ".py",
   "mimetype": "text/x-python",
   "name": "python",
   "nbconvert_exporter": "python",
   "pygments_lexer": "ipython3",
   "version": "3.9.12"
  },
  "orig_nbformat": 4,
  "vscode": {
   "interpreter": {
    "hash": "ca8e1a675551e31a69bb80ae3f26b36ced6340b5d3941929fb9de856c408906a"
   }
  }
 },
 "nbformat": 4,
 "nbformat_minor": 2
}
