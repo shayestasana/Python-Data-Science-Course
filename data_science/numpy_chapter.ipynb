{
 "cells": [
  {
   "cell_type": "code",
   "execution_count": 1,
   "metadata": {},
   "outputs": [],
   "source": [
    "import numpy as np\n"
   ]
  },
  {
   "cell_type": "code",
   "execution_count": 2,
   "metadata": {},
   "outputs": [
    {
     "name": "stdout",
     "output_type": "stream",
     "text": [
      "[1 2 3 4 5]\n",
      "<class 'numpy.ndarray'>\n"
     ]
    }
   ],
   "source": [
    "#creation of numpy array\n",
    "\n",
    "x = np.array([1,2,3,4,5])\n",
    "print(x)\n",
    "print(type(x))   #ndarray"
   ]
  },
  {
   "cell_type": "code",
   "execution_count": 3,
   "metadata": {},
   "outputs": [
    {
     "name": "stdout",
     "output_type": "stream",
     "text": [
      "5\n",
      "(5,)\n",
      "dimension 1\n"
     ]
    }
   ],
   "source": [
    "# shape and size\n",
    "\n",
    "print(x.size)   # length or total no. of elements\n",
    "print(x.shape)  #dimentions here it means it has 5 rows and no columns\n",
    "print(\"dimension\", x.ndim)  #no. of dimention here it is 1D\n"
   ]
  },
  {
   "cell_type": "code",
   "execution_count": 4,
   "metadata": {},
   "outputs": [
    {
     "name": "stdout",
     "output_type": "stream",
     "text": [
      "[[1 2 3]\n",
      " [4 5 6]]\n",
      "6\n",
      "(2, 3)\n",
      "dimension 2\n"
     ]
    }
   ],
   "source": [
    "x2d = np.array([[1,2,3],[4,5,6]])\n",
    "print(x2d)\n",
    "\n",
    "# shape and size\n",
    "print(x2d.size)   # length or total no. of elements\n",
    "print(x2d.shape)  #dimentions here it means no. of rows and no. of columns\n",
    "print(\"dimension\", x2d.ndim)  #no. of dimention"
   ]
  },
  {
   "cell_type": "code",
   "execution_count": 5,
   "metadata": {},
   "outputs": [
    {
     "name": "stdout",
     "output_type": "stream",
     "text": [
      "[[31 50 99 29 44]\n",
      " [ 2 14 39 59 88]\n",
      " [65 85 86 92 62]\n",
      " [68 96 35 71 91]\n",
      " [95 84 34 30 50]]\n"
     ]
    }
   ],
   "source": [
    "#here random gives the values randomly in matrix form\n",
    "x25= np.random.randint(1,100, (5,5)) # random values will be between 1 to 99 and matrix has 5 rows and 5 columns\n",
    "print(x25)"
   ]
  },
  {
   "cell_type": "code",
   "execution_count": 6,
   "metadata": {},
   "outputs": [
    {
     "name": "stdout",
     "output_type": "stream",
     "text": [
      "25 elements\n",
      "-- 1D Matrix--\n",
      "[ 1  5  9 13 17 21 25 29 33 37 41 45 49 53 57 61 65 69 73 77 81 85 89 93\n",
      " 97]\n",
      "=>1D MATRIX RESHAPED TO 2D\n",
      "[[ 1  5  9 13 17]\n",
      " [21 25 29 33 37]\n",
      " [41 45 49 53 57]\n",
      " [61 65 69 73 77]\n",
      " [81 85 89 93 97]]\n"
     ]
    }
   ],
   "source": [
    "xseq1 = np.arange(1, 101, 4)  # values from 1 to 100 and gap is 4\n",
    "print(xseq1.size, \"elements\")\n",
    "print('-- 1D Matrix--')\n",
    "print(xseq1)\n",
    "\n",
    "print(\"=>1D MATRIX RESHAPED TO 2D\")\n",
    "#reshaping 1D into 2D matrix\n",
    "print(xseq1.reshape(5,5))"
   ]
  },
  {
   "cell_type": "code",
   "execution_count": 7,
   "metadata": {},
   "outputs": [
    {
     "name": "stdout",
     "output_type": "stream",
     "text": [
      "50 elements\n",
      "-- 1D Matrix--\n",
      "[  1.           3.02040816   5.04081633   7.06122449   9.08163265\n",
      "  11.10204082  13.12244898  15.14285714  17.16326531  19.18367347\n",
      "  21.20408163  23.2244898   25.24489796  27.26530612  29.28571429\n",
      "  31.30612245  33.32653061  35.34693878  37.36734694  39.3877551\n",
      "  41.40816327  43.42857143  45.44897959  47.46938776  49.48979592\n",
      "  51.51020408  53.53061224  55.55102041  57.57142857  59.59183673\n",
      "  61.6122449   63.63265306  65.65306122  67.67346939  69.69387755\n",
      "  71.71428571  73.73469388  75.75510204  77.7755102   79.79591837\n",
      "  81.81632653  83.83673469  85.85714286  87.87755102  89.89795918\n",
      "  91.91836735  93.93877551  95.95918367  97.97959184 100.        ]\n",
      "=>1D MATRIX RESHAPED TO 2D\n",
      "[[  1.           3.02040816   5.04081633   7.06122449   9.08163265]\n",
      " [ 11.10204082  13.12244898  15.14285714  17.16326531  19.18367347]\n",
      " [ 21.20408163  23.2244898   25.24489796  27.26530612  29.28571429]\n",
      " [ 31.30612245  33.32653061  35.34693878  37.36734694  39.3877551 ]\n",
      " [ 41.40816327  43.42857143  45.44897959  47.46938776  49.48979592]\n",
      " [ 51.51020408  53.53061224  55.55102041  57.57142857  59.59183673]\n",
      " [ 61.6122449   63.63265306  65.65306122  67.67346939  69.69387755]\n",
      " [ 71.71428571  73.73469388  75.75510204  77.7755102   79.79591837]\n",
      " [ 81.81632653  83.83673469  85.85714286  87.87755102  89.89795918]\n",
      " [ 91.91836735  93.93877551  95.95918367  97.97959184 100.        ]]\n",
      "=>1D MATRIX RESHAPED TO 3D\n",
      "[[[  1.           3.02040816]\n",
      "  [  5.04081633   7.06122449]\n",
      "  [  9.08163265  11.10204082]\n",
      "  [ 13.12244898  15.14285714]\n",
      "  [ 17.16326531  19.18367347]]\n",
      "\n",
      " [[ 21.20408163  23.2244898 ]\n",
      "  [ 25.24489796  27.26530612]\n",
      "  [ 29.28571429  31.30612245]\n",
      "  [ 33.32653061  35.34693878]\n",
      "  [ 37.36734694  39.3877551 ]]\n",
      "\n",
      " [[ 41.40816327  43.42857143]\n",
      "  [ 45.44897959  47.46938776]\n",
      "  [ 49.48979592  51.51020408]\n",
      "  [ 53.53061224  55.55102041]\n",
      "  [ 57.57142857  59.59183673]]\n",
      "\n",
      " [[ 61.6122449   63.63265306]\n",
      "  [ 65.65306122  67.67346939]\n",
      "  [ 69.69387755  71.71428571]\n",
      "  [ 73.73469388  75.75510204]\n",
      "  [ 77.7755102   79.79591837]]\n",
      "\n",
      " [[ 81.81632653  83.83673469]\n",
      "  [ 85.85714286  87.87755102]\n",
      "  [ 89.89795918  91.91836735]\n",
      "  [ 93.93877551  95.95918367]\n",
      "  [ 97.97959184 100.        ]]]\n"
     ]
    }
   ],
   "source": [
    "xseq2 = np.linspace(1, 100, 50)  # values from 1 to 100 and gap is 4\n",
    "print(xseq2.size, \"elements\")\n",
    "print('-- 1D Matrix--')\n",
    "print(xseq2)\n",
    "\n",
    "\n",
    "#reshaping into 2D matrix\n",
    "print(\"=>1D MATRIX RESHAPED TO 2D\")\n",
    "print(xseq2.reshape(10,5))\n",
    "\n",
    "\n",
    "#reshaping 2D into 3D matrix\n",
    "print(\"=>1D MATRIX RESHAPED TO 3D\")\n",
    "print(xseq2.reshape(5,5,2))\n"
   ]
  },
  {
   "cell_type": "code",
   "execution_count": 8,
   "metadata": {},
   "outputs": [
    {
     "name": "stdout",
     "output_type": "stream",
     "text": [
      "[[  1.           3.02040816   5.04081633   7.06122449   9.08163265]\n",
      " [ 11.10204082  13.12244898  15.14285714  17.16326531  19.18367347]\n",
      " [ 21.20408163  23.2244898   25.24489796  27.26530612  29.28571429]\n",
      " [ 31.30612245  33.32653061  35.34693878  37.36734694  39.3877551 ]\n",
      " [ 41.40816327  43.42857143  45.44897959  47.46938776  49.48979592]\n",
      " [ 51.51020408  53.53061224  55.55102041  57.57142857  59.59183673]\n",
      " [ 61.6122449   63.63265306  65.65306122  67.67346939  69.69387755]\n",
      " [ 71.71428571  73.73469388  75.75510204  77.7755102   79.79591837]\n",
      " [ 81.81632653  83.83673469  85.85714286  87.87755102  89.89795918]\n",
      " [ 91.91836735  93.93877551  95.95918367  97.97959184 100.        ]]\n"
     ]
    }
   ],
   "source": [
    "xseq2d = xseq2.reshape(10,5)\n",
    "print(xseq2d)"
   ]
  },
  {
   "cell_type": "code",
   "execution_count": 9,
   "metadata": {},
   "outputs": [
    {
     "data": {
      "text/plain": [
       "array([[1, 1, 1, 1, 1],\n",
       "       [1, 1, 1, 1, 1],\n",
       "       [1, 1, 1, 1, 1],\n",
       "       [1, 1, 1, 1, 1],\n",
       "       [1, 1, 1, 1, 1]])"
      ]
     },
     "execution_count": 9,
     "metadata": {},
     "output_type": "execute_result"
    }
   ],
   "source": [
    "np.ones((5,5), dtype='int')   # int has to be specified here as it takes default as floating values"
   ]
  },
  {
   "cell_type": "markdown",
   "metadata": {},
   "source": [
    "- indexing and slicing\n",
    "- boolean filter\n",
    "- maths and stats\n",
    "- methods"
   ]
  },
  {
   "cell_type": "code",
   "execution_count": 10,
   "metadata": {},
   "outputs": [
    {
     "data": {
      "text/plain": [
       "array([[31, 50, 99, 29, 44],\n",
       "       [ 2, 14, 39, 59, 88],\n",
       "       [65, 85, 86, 92, 62],\n",
       "       [68, 96, 35, 71, 91],\n",
       "       [95, 84, 34, 30, 50]])"
      ]
     },
     "execution_count": 10,
     "metadata": {},
     "output_type": "execute_result"
    }
   ],
   "source": [
    "x25"
   ]
  },
  {
   "cell_type": "code",
   "execution_count": 11,
   "metadata": {},
   "outputs": [
    {
     "name": "stdout",
     "output_type": "stream",
     "text": [
      "[31 50 99 29 44]\n",
      "[95 84 34 30 50]\n",
      "50\n",
      "[31  2 65 68 95]\n",
      "[50 14 85 96 84]\n",
      "[44 88 62 91 50]\n"
     ]
    }
   ],
   "source": [
    "# first row\n",
    "print(x25[0])\n",
    "\n",
    "#last row\n",
    "print(x25[-1])\n",
    "\n",
    "#single element\n",
    "print(x25[0,1])\n",
    "\n",
    "#selecting the first column\n",
    "print(x25[:, 0])\n",
    "\n",
    "#2nd column\n",
    "print(x25[:, 1])\n",
    "\n",
    "#last column\n",
    "print(x25[:, -1])"
   ]
  },
  {
   "cell_type": "code",
   "execution_count": 12,
   "metadata": {},
   "outputs": [
    {
     "name": "stdout",
     "output_type": "stream",
     "text": [
      "[[31 50]\n",
      " [ 2 14]\n",
      " [65 85]\n",
      " [68 96]\n",
      " [95 84]]\n"
     ]
    }
   ],
   "source": [
    "#column 0 and 1 indexes\n",
    "print(x25[:, [0,1]])"
   ]
  },
  {
   "cell_type": "code",
   "execution_count": 28,
   "metadata": {},
   "outputs": [
    {
     "name": "stdout",
     "output_type": "stream",
     "text": [
      "[[31 50 99]\n",
      " [ 2 14 39]\n",
      " [65 85 86]\n",
      " [68 96 35]\n",
      " [95 84 34]]\n",
      "[[31 50 99]\n",
      " [ 2 14 39]\n",
      " [65 85 86]\n",
      " [68 96 35]\n",
      " [95 84 34]]\n"
     ]
    }
   ],
   "source": [
    "#column 0 and 1 index\n",
    "print(x25[:,[0,1,2]]) #[row:,col]\n",
    "#same\n",
    "print(x25[:, :3])"
   ]
  },
  {
   "cell_type": "code",
   "execution_count": 14,
   "metadata": {},
   "outputs": [
    {
     "name": "stdout",
     "output_type": "stream",
     "text": [
      "2\n",
      "14\n"
     ]
    }
   ],
   "source": [
    "#print values below 20\n",
    "#filtering data without numpy boolean filter(bad idea)\n",
    "for i in x25:\n",
    "    for j in i:\n",
    "        if j<=20:\n",
    "            print(j)"
   ]
  },
  {
   "cell_type": "code",
   "execution_count": 15,
   "metadata": {},
   "outputs": [
    {
     "data": {
      "text/plain": [
       "array([[False, False, False, False, False],\n",
       "       [ True,  True, False, False, False],\n",
       "       [False, False, False, False, False],\n",
       "       [False, False, False, False, False],\n",
       "       [False, False, False, False, False]])"
      ]
     },
     "execution_count": 15,
     "metadata": {},
     "output_type": "execute_result"
    }
   ],
   "source": [
    "x25 <= 20 # boolean filter"
   ]
  },
  {
   "cell_type": "code",
   "execution_count": 16,
   "metadata": {},
   "outputs": [
    {
     "data": {
      "text/plain": [
       "array([ 2, 14])"
      ]
     },
     "execution_count": 16,
     "metadata": {},
     "output_type": "execute_result"
    }
   ],
   "source": [
    "x25[ x25 <= 20 ]"
   ]
  },
  {
   "cell_type": "code",
   "execution_count": 17,
   "metadata": {},
   "outputs": [
    {
     "data": {
      "text/plain": [
       "array([99, 59, 88, 65, 85, 86, 92, 62, 68, 96, 71, 91, 95, 84])"
      ]
     },
     "execution_count": 17,
     "metadata": {},
     "output_type": "execute_result"
    }
   ],
   "source": [
    "x25[ x25 > 50]"
   ]
  },
  {
   "cell_type": "code",
   "execution_count": 18,
   "metadata": {},
   "outputs": [
    {
     "data": {
      "text/plain": [
       "array([[ True,  True, False,  True,  True],\n",
       "       [False, False,  True,  True, False],\n",
       "       [ True, False, False, False,  True],\n",
       "       [ True, False,  True, False, False],\n",
       "       [False, False,  True,  True,  True]])"
      ]
     },
     "execution_count": 18,
     "metadata": {},
     "output_type": "execute_result"
    }
   ],
   "source": [
    "(x25 > 20) & (x25 < 70)"
   ]
  },
  {
   "cell_type": "code",
   "execution_count": 19,
   "metadata": {},
   "outputs": [
    {
     "data": {
      "text/plain": [
       "array([31, 50, 29, 44, 39, 59, 65, 62, 68, 35, 34, 30, 50])"
      ]
     },
     "execution_count": 19,
     "metadata": {},
     "output_type": "execute_result"
    }
   ],
   "source": [
    "x25[(x25 > 20) & (x25 < 70)]"
   ]
  },
  {
   "cell_type": "code",
   "execution_count": 20,
   "metadata": {},
   "outputs": [
    {
     "data": {
      "text/plain": [
       "array([31, 50, 99, 29, 44,  2, 14, 39, 59, 88, 65, 85, 86, 92, 62, 68, 96,\n",
       "       35, 71, 91, 95, 84, 34, 30, 50,  1,  2,  3,  4,  5])"
      ]
     },
     "execution_count": 20,
     "metadata": {},
     "output_type": "execute_result"
    }
   ],
   "source": [
    "np.append(x25, [1,2,3,4,5]) #not as sexpected but works"
   ]
  },
  {
   "cell_type": "code",
   "execution_count": 21,
   "metadata": {},
   "outputs": [
    {
     "data": {
      "text/plain": [
       "array([[31, 50, 99, 29, 44],\n",
       "       [ 2, 14, 39, 59, 88],\n",
       "       [65, 85, 86, 92, 62],\n",
       "       [68, 96, 35, 71, 91],\n",
       "       [95, 84, 34, 30, 50],\n",
       "       [ 1,  2,  3,  4,  5]])"
      ]
     },
     "execution_count": 21,
     "metadata": {},
     "output_type": "execute_result"
    }
   ],
   "source": [
    "np.append(x25, np.array([[1,2,3,4,5]]), axis=0)   #the dimensions of the append array must be the same as the array in which we have to append\n",
    "# axis=0 for the row to be added \n"
   ]
  },
  {
   "cell_type": "code",
   "execution_count": 22,
   "metadata": {},
   "outputs": [
    {
     "data": {
      "text/plain": [
       "array([[31, 50, 99, 29, 44,  1],\n",
       "       [ 2, 14, 39, 59, 88,  2],\n",
       "       [65, 85, 86, 92, 62,  3],\n",
       "       [68, 96, 35, 71, 91,  4],\n",
       "       [95, 84, 34, 30, 50,  5]])"
      ]
     },
     "execution_count": 22,
     "metadata": {},
     "output_type": "execute_result"
    }
   ],
   "source": [
    "np.append(x25, np.array([[1],[2],[3],[4],[5]]), axis=1)\n",
    "# axis =1 for the column to be added and in this case the elements must be in single entity"
   ]
  },
  {
   "cell_type": "code",
   "execution_count": 23,
   "metadata": {},
   "outputs": [
    {
     "name": "stdout",
     "output_type": "stream",
     "text": [
      "(3, 2)\n",
      "(2, 3)\n"
     ]
    }
   ],
   "source": [
    "a= np.random.randint(1,100, (3,2))\n",
    "b= np.random.randint(1,100, (2,3))\n",
    "\n",
    "print(a.shape)\n",
    "print(b.shape)"
   ]
  },
  {
   "cell_type": "code",
   "execution_count": 24,
   "metadata": {},
   "outputs": [
    {
     "data": {
      "text/plain": [
       "array([[85, 88, 36],\n",
       "       [54, 40, 40]])"
      ]
     },
     "execution_count": 24,
     "metadata": {},
     "output_type": "execute_result"
    }
   ],
   "source": [
    "a.T  # same as a.transpose()"
   ]
  },
  {
   "cell_type": "markdown",
   "metadata": {},
   "source": [
    "# Stacking \n",
    "- horizontal stacking (hstack)\n",
    "- vertical stacking (vstack)"
   ]
  },
  {
   "cell_type": "code",
   "execution_count": 25,
   "metadata": {},
   "outputs": [
    {
     "name": "stdout",
     "output_type": "stream",
     "text": [
      "[[85 54 91 58]\n",
      " [88 40 35 24]\n",
      " [36 40  7 84]]\n"
     ]
    }
   ],
   "source": [
    "print(np.hstack((a,b.T)))    "
   ]
  },
  {
   "cell_type": "code",
   "execution_count": 26,
   "metadata": {},
   "outputs": [
    {
     "name": "stdout",
     "output_type": "stream",
     "text": [
      "[[85 88 36 91 35  7]\n",
      " [54 40 40 58 24 84]]\n"
     ]
    }
   ],
   "source": [
    "print(np.hstack((a.T,b)))"
   ]
  },
  {
   "cell_type": "code",
   "execution_count": 27,
   "metadata": {},
   "outputs": [
    {
     "name": "stdout",
     "output_type": "stream",
     "text": [
      "[[85 54]\n",
      " [88 40]\n",
      " [36 40]\n",
      " [91 58]\n",
      " [35 24]\n",
      " [ 7 84]]\n",
      "[[85 88 36]\n",
      " [54 40 40]\n",
      " [91 35  7]\n",
      " [58 24 84]]\n"
     ]
    }
   ],
   "source": [
    "print(np.vstack((a,b.T)))\n",
    "print(np.vstack((a.T,b)))"
   ]
  },
  {
   "cell_type": "code",
   "execution_count": 29,
   "metadata": {},
   "outputs": [
    {
     "name": "stdout",
     "output_type": "stream",
     "text": [
      "[[6 4 7]\n",
      " [4 4 9]\n",
      " [4 3 1]]\n",
      "\n",
      "[[7 4 9]\n",
      " [9 7 9]\n",
      " [1 2 5]]\n"
     ]
    }
   ],
   "source": [
    "x = np.random.randint(1,10, (3,3))\n",
    "y = np.random.randint(1,10, (3,3))\n",
    "print(x)\n",
    "print()\n",
    "print(y)"
   ]
  },
  {
   "cell_type": "code",
   "execution_count": 30,
   "metadata": {},
   "outputs": [
    {
     "name": "stdout",
     "output_type": "stream",
     "text": [
      "add\n",
      "[[13  8 16]\n",
      " [13 11 18]\n",
      " [ 5  5  6]]\n",
      "sub\n",
      "[[-1  0 -2]\n",
      " [-5 -3  0]\n",
      " [ 3  1 -4]]\n",
      "div\n",
      "[[0.85714286 1.         0.77777778]\n",
      " [0.44444444 0.57142857 1.        ]\n",
      " [4.         1.5        0.2       ]]\n",
      "element wise multiplication\n",
      "[[42 16 63]\n",
      " [36 28 81]\n",
      " [ 4  6  5]]\n",
      "element wise mod\n",
      "[[6 0 7]\n",
      " [4 4 0]\n",
      " [0 1 1]]\n"
     ]
    }
   ],
   "source": [
    "print('add')\n",
    "print(x + y) # addition\n",
    "print('sub')\n",
    "print(x - y) # substraction\n",
    "print('div')\n",
    "print(x / y) # divide\n",
    "print('element wise multiplication')\n",
    "print(x * y) # element wise multiplication\n",
    "print('element wise mod')\n",
    "print(x % y) # element wise multiplication"
   ]
  },
  {
   "cell_type": "code",
   "execution_count": 31,
   "metadata": {},
   "outputs": [
    {
     "name": "stdout",
     "output_type": "stream",
     "text": [
      "[[ 85  66 125]\n",
      " [ 73  62 117]\n",
      " [ 56  39  68]]\n",
      "\n"
     ]
    }
   ],
   "source": [
    "print(x.dot(y)) # mat multiplication\n",
    "print()"
   ]
  },
  {
   "cell_type": "code",
   "execution_count": 32,
   "metadata": {},
   "outputs": [
    {
     "data": {
      "text/plain": [
       "42"
      ]
     },
     "execution_count": 32,
     "metadata": {},
     "output_type": "execute_result"
    }
   ],
   "source": [
    "x.sum() # sum of all values"
   ]
  },
  {
   "cell_type": "code",
   "execution_count": 33,
   "metadata": {},
   "outputs": [
    {
     "data": {
      "text/plain": [
       "array([14, 11, 17])"
      ]
     },
     "execution_count": 33,
     "metadata": {},
     "output_type": "execute_result"
    }
   ],
   "source": [
    "x.sum(axis=0) # row wise sum"
   ]
  },
  {
   "cell_type": "code",
   "execution_count": 34,
   "metadata": {},
   "outputs": [
    {
     "data": {
      "text/plain": [
       "array([17, 17,  8])"
      ]
     },
     "execution_count": 34,
     "metadata": {},
     "output_type": "execute_result"
    }
   ],
   "source": [
    "x.sum(axis=1) # col wise sum"
   ]
  },
  {
   "cell_type": "code",
   "execution_count": 35,
   "metadata": {},
   "outputs": [
    {
     "name": "stdout",
     "output_type": "stream",
     "text": [
      "4.666666666666667\n",
      "[4.66666667 3.66666667 5.66666667]\n",
      "[5.66666667 5.66666667 2.66666667]\n"
     ]
    }
   ],
   "source": [
    "print(x.mean()) # all\n",
    "print(x.mean(axis=0)) # row\n",
    "print(x.mean(axis=1)) # col"
   ]
  },
  {
   "cell_type": "code",
   "execution_count": 37,
   "metadata": {},
   "outputs": [
    {
     "name": "stdout",
     "output_type": "stream",
     "text": [
      "9\n",
      "1\n",
      "5\n",
      "8\n",
      "4\n"
     ]
    }
   ],
   "source": [
    "print(x.max()) # max value\n",
    "print(x.min()) # min value \n",
    "print(x.argmax()) # index of max value\n",
    "print(x.argmin()) # index of min value\n",
    "print(x.flatten()[4]) # accessing the index value given by argmax()"
   ]
  },
  {
   "cell_type": "code",
   "execution_count": 36,
   "metadata": {},
   "outputs": [
    {
     "data": {
      "text/plain": [
       "4.0"
      ]
     },
     "execution_count": 36,
     "metadata": {},
     "output_type": "execute_result"
    }
   ],
   "source": [
    "np.median(x) # some function are called using np, if not avialable through the variable"
   ]
  }
 ],
 "metadata": {
  "kernelspec": {
   "display_name": "Python 3.9.12 ('base')",
   "language": "python",
   "name": "python3"
  },
  "language_info": {
   "codemirror_mode": {
    "name": "ipython",
    "version": 3
   },
   "file_extension": ".py",
   "mimetype": "text/x-python",
   "name": "python",
   "nbconvert_exporter": "python",
   "pygments_lexer": "ipython3",
   "version": "3.9.12"
  },
  "orig_nbformat": 4,
  "vscode": {
   "interpreter": {
    "hash": "ca8e1a675551e31a69bb80ae3f26b36ced6340b5d3941929fb9de856c408906a"
   }
  }
 },
 "nbformat": 4,
 "nbformat_minor": 2
}
