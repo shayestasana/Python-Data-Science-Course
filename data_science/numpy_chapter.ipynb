{
 "cells": [
  {
   "cell_type": "code",
   "execution_count": 1,
   "metadata": {},
   "outputs": [],
   "source": [
    "import numpy as np\n"
   ]
  },
  {
   "cell_type": "code",
   "execution_count": 2,
   "metadata": {},
   "outputs": [
    {
     "name": "stdout",
     "output_type": "stream",
     "text": [
      "[1 2 3 4 5]\n",
      "<class 'numpy.ndarray'>\n"
     ]
    }
   ],
   "source": [
    "#creation of numpy array\n",
    "\n",
    "x = np.array([1,2,3,4,5])\n",
    "print(x)\n",
    "print(type(x))   #ndarray"
   ]
  },
  {
   "cell_type": "code",
   "execution_count": 4,
   "metadata": {},
   "outputs": [
    {
     "name": "stdout",
     "output_type": "stream",
     "text": [
      "5\n",
      "(5,)\n",
      "dimension 1\n"
     ]
    }
   ],
   "source": [
    "# shape and size\n",
    "\n",
    "print(x.size)   # length or total no. of elements\n",
    "print(x.shape)  #dimentions here it means it has 5 rows and no columns\n",
    "print(\"dimension\", x.ndim)  #no. of dimention here it is 1D\n"
   ]
  },
  {
   "cell_type": "code",
   "execution_count": 6,
   "metadata": {},
   "outputs": [
    {
     "name": "stdout",
     "output_type": "stream",
     "text": [
      "[[1 2 3]\n",
      " [4 5 6]]\n",
      "6\n",
      "(2, 3)\n",
      "dimension 2\n"
     ]
    }
   ],
   "source": [
    "x2d = np.array([[1,2,3],[4,5,6]])\n",
    "print(x2d)\n",
    "\n",
    "# shape and size\n",
    "print(x2d.size)   # length or total no. of elements\n",
    "print(x2d.shape)  #dimentions here it means no. of rows and no. of columns\n",
    "print(\"dimension\", x2d.ndim)  #no. of dimention"
   ]
  },
  {
   "cell_type": "code",
   "execution_count": 8,
   "metadata": {},
   "outputs": [
    {
     "name": "stdout",
     "output_type": "stream",
     "text": [
      "[[84 11  6 33 49]\n",
      " [72 50 35 70 46]\n",
      " [40 52 77 99 67]\n",
      " [63  2 82 47 64]\n",
      " [87  2 64 39 19]]\n"
     ]
    }
   ],
   "source": [
    "#here random gives the values randomly in matrix form\n",
    "x25= np.random.randint(1,100, (5,5)) # random values will be between 1 to 99 and matrix has 5 rows and 5 columns\n",
    "print(x25)"
   ]
  },
  {
   "cell_type": "code",
   "execution_count": 12,
   "metadata": {},
   "outputs": [
    {
     "name": "stdout",
     "output_type": "stream",
     "text": [
      "25 elements\n",
      "-- 1D Matrix--\n",
      "[ 1  5  9 13 17 21 25 29 33 37 41 45 49 53 57 61 65 69 73 77 81 85 89 93\n",
      " 97]\n",
      "[[ 1  5  9 13 17]\n",
      " [21 25 29 33 37]\n",
      " [41 45 49 53 57]\n",
      " [61 65 69 73 77]\n",
      " [81 85 89 93 97]]\n"
     ]
    }
   ],
   "source": [
    "xseq1 = np.arange(1, 101, 4)  # values from 1 to 100 and gap is 4\n",
    "print(xseq1.size, \"elements\")\n",
    "print('-- 1D Matrix--')\n",
    "print(xseq1)\n",
    "\n",
    "\n",
    "#reshaping 1D into 2D matrix\n",
    "print(xseq1.reshape(5,5))"
   ]
  },
  {
   "cell_type": "code",
   "execution_count": 13,
   "metadata": {},
   "outputs": [
    {
     "name": "stdout",
     "output_type": "stream",
     "text": [
      "50 elements\n",
      "-- 1D Matrix--\n",
      "[  1.           3.02040816   5.04081633   7.06122449   9.08163265\n",
      "  11.10204082  13.12244898  15.14285714  17.16326531  19.18367347\n",
      "  21.20408163  23.2244898   25.24489796  27.26530612  29.28571429\n",
      "  31.30612245  33.32653061  35.34693878  37.36734694  39.3877551\n",
      "  41.40816327  43.42857143  45.44897959  47.46938776  49.48979592\n",
      "  51.51020408  53.53061224  55.55102041  57.57142857  59.59183673\n",
      "  61.6122449   63.63265306  65.65306122  67.67346939  69.69387755\n",
      "  71.71428571  73.73469388  75.75510204  77.7755102   79.79591837\n",
      "  81.81632653  83.83673469  85.85714286  87.87755102  89.89795918\n",
      "  91.91836735  93.93877551  95.95918367  97.97959184 100.        ]\n",
      "[[  1.           3.02040816   5.04081633   7.06122449   9.08163265]\n",
      " [ 11.10204082  13.12244898  15.14285714  17.16326531  19.18367347]\n",
      " [ 21.20408163  23.2244898   25.24489796  27.26530612  29.28571429]\n",
      " [ 31.30612245  33.32653061  35.34693878  37.36734694  39.3877551 ]\n",
      " [ 41.40816327  43.42857143  45.44897959  47.46938776  49.48979592]\n",
      " [ 51.51020408  53.53061224  55.55102041  57.57142857  59.59183673]\n",
      " [ 61.6122449   63.63265306  65.65306122  67.67346939  69.69387755]\n",
      " [ 71.71428571  73.73469388  75.75510204  77.7755102   79.79591837]\n",
      " [ 81.81632653  83.83673469  85.85714286  87.87755102  89.89795918]\n",
      " [ 91.91836735  93.93877551  95.95918367  97.97959184 100.        ]]\n",
      "[[[  1.           3.02040816]\n",
      "  [  5.04081633   7.06122449]\n",
      "  [  9.08163265  11.10204082]\n",
      "  [ 13.12244898  15.14285714]\n",
      "  [ 17.16326531  19.18367347]]\n",
      "\n",
      " [[ 21.20408163  23.2244898 ]\n",
      "  [ 25.24489796  27.26530612]\n",
      "  [ 29.28571429  31.30612245]\n",
      "  [ 33.32653061  35.34693878]\n",
      "  [ 37.36734694  39.3877551 ]]\n",
      "\n",
      " [[ 41.40816327  43.42857143]\n",
      "  [ 45.44897959  47.46938776]\n",
      "  [ 49.48979592  51.51020408]\n",
      "  [ 53.53061224  55.55102041]\n",
      "  [ 57.57142857  59.59183673]]\n",
      "\n",
      " [[ 61.6122449   63.63265306]\n",
      "  [ 65.65306122  67.67346939]\n",
      "  [ 69.69387755  71.71428571]\n",
      "  [ 73.73469388  75.75510204]\n",
      "  [ 77.7755102   79.79591837]]\n",
      "\n",
      " [[ 81.81632653  83.83673469]\n",
      "  [ 85.85714286  87.87755102]\n",
      "  [ 89.89795918  91.91836735]\n",
      "  [ 93.93877551  95.95918367]\n",
      "  [ 97.97959184 100.        ]]]\n"
     ]
    }
   ],
   "source": [
    "xseq2 = np.linspace(1, 100, 50)  # values from 1 to 100 and gap is 4\n",
    "print(xseq2.size, \"elements\")\n",
    "print('-- 1D Matrix--')\n",
    "print(xseq2)\n",
    "\n",
    "\n",
    "#reshaping into 2D matrix\n",
    "print(xseq2.reshape(10,5))\n",
    "\n",
    "\n",
    "#reshaping 2D into 3D matrix\n",
    "print(xseq2.reshape(5,5,2))\n"
   ]
  },
  {
   "cell_type": "code",
   "execution_count": 14,
   "metadata": {},
   "outputs": [
    {
     "name": "stdout",
     "output_type": "stream",
     "text": [
      "[[  1.           3.02040816   5.04081633   7.06122449   9.08163265]\n",
      " [ 11.10204082  13.12244898  15.14285714  17.16326531  19.18367347]\n",
      " [ 21.20408163  23.2244898   25.24489796  27.26530612  29.28571429]\n",
      " [ 31.30612245  33.32653061  35.34693878  37.36734694  39.3877551 ]\n",
      " [ 41.40816327  43.42857143  45.44897959  47.46938776  49.48979592]\n",
      " [ 51.51020408  53.53061224  55.55102041  57.57142857  59.59183673]\n",
      " [ 61.6122449   63.63265306  65.65306122  67.67346939  69.69387755]\n",
      " [ 71.71428571  73.73469388  75.75510204  77.7755102   79.79591837]\n",
      " [ 81.81632653  83.83673469  85.85714286  87.87755102  89.89795918]\n",
      " [ 91.91836735  93.93877551  95.95918367  97.97959184 100.        ]]\n"
     ]
    }
   ],
   "source": [
    "xseq2d = xseq2.reshape(10,5)\n",
    "print(xseq2d)"
   ]
  },
  {
   "cell_type": "code",
   "execution_count": 15,
   "metadata": {},
   "outputs": [
    {
     "data": {
      "text/plain": [
       "array([[1, 1, 1, 1, 1],\n",
       "       [1, 1, 1, 1, 1],\n",
       "       [1, 1, 1, 1, 1],\n",
       "       [1, 1, 1, 1, 1],\n",
       "       [1, 1, 1, 1, 1]])"
      ]
     },
     "execution_count": 15,
     "metadata": {},
     "output_type": "execute_result"
    }
   ],
   "source": [
    "np.ones((5,5), dtype='int')   # int has to be specified here as it takes default as floating values"
   ]
  },
  {
   "cell_type": "markdown",
   "metadata": {},
   "source": [
    "- indexing and slicing\n",
    "- boolean filter\n",
    "- maths and stats\n",
    "- methods"
   ]
  },
  {
   "cell_type": "code",
   "execution_count": 16,
   "metadata": {},
   "outputs": [
    {
     "data": {
      "text/plain": [
       "array([[84, 11,  6, 33, 49],\n",
       "       [72, 50, 35, 70, 46],\n",
       "       [40, 52, 77, 99, 67],\n",
       "       [63,  2, 82, 47, 64],\n",
       "       [87,  2, 64, 39, 19]])"
      ]
     },
     "execution_count": 16,
     "metadata": {},
     "output_type": "execute_result"
    }
   ],
   "source": [
    "x25"
   ]
  },
  {
   "cell_type": "code",
   "execution_count": 21,
   "metadata": {},
   "outputs": [
    {
     "name": "stdout",
     "output_type": "stream",
     "text": [
      "[84 11  6 33 49]\n",
      "[87  2 64 39 19]\n",
      "11\n",
      "[84 72 40 63 87]\n",
      "[11 50 52  2  2]\n",
      "[49 46 67 64 19]\n"
     ]
    }
   ],
   "source": [
    "# first row\n",
    "print(x25[0])\n",
    "\n",
    "#last row\n",
    "print(x25[-1])\n",
    "\n",
    "#single element\n",
    "print(x25[0,1])\n",
    "\n",
    "#selecting the first column\n",
    "print(x25[:, 0])\n",
    "\n",
    "#2nd column\n",
    "print(x25[:, 1])\n",
    "\n",
    "#last column\n",
    "print(x25[:, -1])"
   ]
  },
  {
   "cell_type": "code",
   "execution_count": 22,
   "metadata": {},
   "outputs": [
    {
     "name": "stdout",
     "output_type": "stream",
     "text": [
      "[[84 11]\n",
      " [72 50]\n",
      " [40 52]\n",
      " [63  2]\n",
      " [87  2]]\n"
     ]
    }
   ],
   "source": [
    "#column 0 and 1 indexes\n",
    "print(x25[:, [0,1]])"
   ]
  },
  {
   "cell_type": "code",
   "execution_count": 53,
   "metadata": {},
   "outputs": [
    {
     "name": "stdout",
     "output_type": "stream",
     "text": [
      "[84 72 40 63 87]\n",
      "[11 50 52  2  2]\n"
     ]
    }
   ],
   "source": [
    "#column 0 and 1 index\n",
    "print(x25[:,[0,1,2]]) #[row:,col]\n",
    "#same\n",
    "print(x25[:,3])"
   ]
  },
  {
   "cell_type": "code",
   "execution_count": 55,
   "metadata": {},
   "outputs": [
    {
     "name": "stdout",
     "output_type": "stream",
     "text": [
      "11\n",
      "6\n",
      "2\n",
      "2\n",
      "19\n"
     ]
    }
   ],
   "source": [
    "#print values below 20\n",
    "#filtering data without numpy boolean filter(bad idea)\n",
    "for i in x25:\n",
    "    for j in i:\n",
    "        if j<=20:\n",
    "            print(j)"
   ]
  },
  {
   "cell_type": "code",
   "execution_count": 28,
   "metadata": {},
   "outputs": [
    {
     "data": {
      "text/plain": [
       "array([[False,  True,  True, False, False],\n",
       "       [False, False, False, False, False],\n",
       "       [False, False, False, False, False],\n",
       "       [False,  True, False, False, False],\n",
       "       [False,  True, False, False,  True]])"
      ]
     },
     "execution_count": 28,
     "metadata": {},
     "output_type": "execute_result"
    }
   ],
   "source": [
    "x25 <= 20 # boolean filter"
   ]
  },
  {
   "cell_type": "code",
   "execution_count": 29,
   "metadata": {},
   "outputs": [
    {
     "data": {
      "text/plain": [
       "array([11,  6,  2,  2, 19])"
      ]
     },
     "execution_count": 29,
     "metadata": {},
     "output_type": "execute_result"
    }
   ],
   "source": [
    "x25[ x25 <= 20 ]"
   ]
  },
  {
   "cell_type": "code",
   "execution_count": 30,
   "metadata": {},
   "outputs": [
    {
     "data": {
      "text/plain": [
       "array([84, 72, 70, 52, 77, 99, 67, 63, 82, 64, 87, 64])"
      ]
     },
     "execution_count": 30,
     "metadata": {},
     "output_type": "execute_result"
    }
   ],
   "source": [
    "x25[ x25 > 50]"
   ]
  },
  {
   "cell_type": "code",
   "execution_count": 31,
   "metadata": {},
   "outputs": [
    {
     "data": {
      "text/plain": [
       "array([[False, False, False,  True,  True],\n",
       "       [False,  True,  True, False,  True],\n",
       "       [ True,  True, False, False,  True],\n",
       "       [ True, False, False,  True,  True],\n",
       "       [False, False,  True,  True, False]])"
      ]
     },
     "execution_count": 31,
     "metadata": {},
     "output_type": "execute_result"
    }
   ],
   "source": [
    "(x25 > 20) & (x25 < 70)"
   ]
  },
  {
   "cell_type": "code",
   "execution_count": 32,
   "metadata": {},
   "outputs": [
    {
     "data": {
      "text/plain": [
       "array([33, 49, 50, 35, 46, 40, 52, 67, 63, 47, 64, 64, 39])"
      ]
     },
     "execution_count": 32,
     "metadata": {},
     "output_type": "execute_result"
    }
   ],
   "source": [
    "x25[(x25 > 20) & (x25 < 70)]"
   ]
  },
  {
   "cell_type": "code",
   "execution_count": 34,
   "metadata": {},
   "outputs": [
    {
     "data": {
      "text/plain": [
       "array([84, 11,  6, 33, 49, 72, 50, 35, 70, 46, 40, 52, 77, 99, 67, 63,  2,\n",
       "       82, 47, 64, 87,  2, 64, 39, 19,  1,  2,  3,  4,  5])"
      ]
     },
     "execution_count": 34,
     "metadata": {},
     "output_type": "execute_result"
    }
   ],
   "source": [
    "np.append(x25, [1,2,3,4,5]) #not as sexpected but works"
   ]
  },
  {
   "cell_type": "code",
   "execution_count": 48,
   "metadata": {},
   "outputs": [
    {
     "data": {
      "text/plain": [
       "array([[84, 11,  6, 33, 49],\n",
       "       [72, 50, 35, 70, 46],\n",
       "       [40, 52, 77, 99, 67],\n",
       "       [63,  2, 82, 47, 64],\n",
       "       [87,  2, 64, 39, 19],\n",
       "       [ 1,  2,  3,  4,  5]])"
      ]
     },
     "execution_count": 48,
     "metadata": {},
     "output_type": "execute_result"
    }
   ],
   "source": [
    "np.append(x25, np.array([[1,2,3,4,5]]), axis=0)   #the dimensions of the append array must be the same as the array in which we have to append\n",
    "# axis=0 for the row to be added \n"
   ]
  },
  {
   "cell_type": "code",
   "execution_count": 49,
   "metadata": {},
   "outputs": [
    {
     "data": {
      "text/plain": [
       "array([[84, 11,  6, 33, 49,  1],\n",
       "       [72, 50, 35, 70, 46,  2],\n",
       "       [40, 52, 77, 99, 67,  3],\n",
       "       [63,  2, 82, 47, 64,  4],\n",
       "       [87,  2, 64, 39, 19,  5]])"
      ]
     },
     "execution_count": 49,
     "metadata": {},
     "output_type": "execute_result"
    }
   ],
   "source": [
    "np.append(x25, np.array([[1],[2],[3],[4],[5]]), axis=1)\n",
    "# axis =1 for the column to be added and in this case the elements must be in single entity"
   ]
  },
  {
   "cell_type": "code",
   "execution_count": 44,
   "metadata": {},
   "outputs": [
    {
     "name": "stdout",
     "output_type": "stream",
     "text": [
      "(3, 2)\n",
      "(2, 3)\n"
     ]
    }
   ],
   "source": [
    "a= np.random.randint(1,100, (3,2))\n",
    "b= np.random.randint(1,100, (2,3))\n",
    "\n",
    "print(a.shape)\n",
    "print(b.shape)"
   ]
  },
  {
   "cell_type": "code",
   "execution_count": 45,
   "metadata": {},
   "outputs": [
    {
     "data": {
      "text/plain": [
       "array([[72, 21, 70],\n",
       "       [47, 56, 15]])"
      ]
     },
     "execution_count": 45,
     "metadata": {},
     "output_type": "execute_result"
    }
   ],
   "source": [
    "a.T  # same as a.transpose()"
   ]
  },
  {
   "cell_type": "markdown",
   "metadata": {},
   "source": [
    "# Stacking \n",
    "- horizontal stacking (hstack)\n",
    "- vertical stacking (vstack)"
   ]
  },
  {
   "cell_type": "code",
   "execution_count": 50,
   "metadata": {},
   "outputs": [
    {
     "name": "stdout",
     "output_type": "stream",
     "text": [
      "[[72 47 22 10]\n",
      " [21 56 86 48]\n",
      " [70 15 39 53]]\n"
     ]
    }
   ],
   "source": [
    "print(np.hstack((a,b.T)))    "
   ]
  },
  {
   "cell_type": "code",
   "execution_count": 51,
   "metadata": {},
   "outputs": [
    {
     "name": "stdout",
     "output_type": "stream",
     "text": [
      "[[72 21 70 22 86 39]\n",
      " [47 56 15 10 48 53]]\n"
     ]
    }
   ],
   "source": [
    "print(np.hstack((a.T,b)))"
   ]
  },
  {
   "cell_type": "code",
   "execution_count": 52,
   "metadata": {},
   "outputs": [
    {
     "name": "stdout",
     "output_type": "stream",
     "text": [
      "[[72 47]\n",
      " [21 56]\n",
      " [70 15]\n",
      " [22 10]\n",
      " [86 48]\n",
      " [39 53]]\n",
      "[[72 21 70]\n",
      " [47 56 15]\n",
      " [22 86 39]\n",
      " [10 48 53]]\n"
     ]
    }
   ],
   "source": [
    "print(np.vstack((a,b.T)))\n",
    "print(np.vstack((a.T,b)))"
   ]
  }
 ],
 "metadata": {
  "kernelspec": {
   "display_name": "Python 3.9.12 ('base')",
   "language": "python",
   "name": "python3"
  },
  "language_info": {
   "codemirror_mode": {
    "name": "ipython",
    "version": 3
   },
   "file_extension": ".py",
   "mimetype": "text/x-python",
   "name": "python",
   "nbconvert_exporter": "python",
   "pygments_lexer": "ipython3",
   "version": "3.9.12"
  },
  "orig_nbformat": 4,
  "vscode": {
   "interpreter": {
    "hash": "ca8e1a675551e31a69bb80ae3f26b36ced6340b5d3941929fb9de856c408906a"
   }
  }
 },
 "nbformat": 4,
 "nbformat_minor": 2
}
