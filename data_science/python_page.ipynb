{
 "cells": [
  {
   "cell_type": "code",
   "execution_count": 2,
   "metadata": {},
   "outputs": [],
   "source": [
    "import requests\n",
    "from bs4 import BeautifulSoup"
   ]
  },
  {
   "cell_type": "code",
   "execution_count": 3,
   "metadata": {},
   "outputs": [],
   "source": [
    "def get_soup(url):\n",
    "    page= requests.get(url)\n",
    "    return BeautifulSoup(page.text)"
   ]
  },
  {
   "cell_type": "code",
   "execution_count": 4,
   "metadata": {},
   "outputs": [],
   "source": [
    "soup = get_soup('https://www.python.org/jobs/')        # soup means here whole page"
   ]
  },
  {
   "cell_type": "code",
   "execution_count": 5,
   "metadata": {},
   "outputs": [],
   "source": [
    "target = soup.find('ol', attrs={'class':'list-recent-jobs list-row-container menu'})"
   ]
  },
  {
   "cell_type": "code",
   "execution_count": 6,
   "metadata": {},
   "outputs": [
    {
     "name": "stdout",
     "output_type": "stream",
     "text": [
      "25\n"
     ]
    }
   ],
   "source": [
    "joblist = target.find_all('li')\n",
    "print(len(joblist))"
   ]
  },
  {
   "cell_type": "code",
   "execution_count": 7,
   "metadata": {},
   "outputs": [
    {
     "name": "stdout",
     "output_type": "stream",
     "text": [
      "[{'title': 'New\\nSenior Python Developer\\n\\t\\t    MSD\\n                \\nPrague, Czechia', 'details': 'Back end, Cloud, Integration, Lead, Operations, Systems, SQL, Bash, DevOps and more', 'date': 'Posted: 09 September 2022', 'company': 'Developer / Engineer'}, {'title': 'New\\nStaff Python Backend Engineer\\n\\t\\t    Reef Technologies\\n                \\nWarsaw (fully remote), Poland', 'details': 'Back end', 'date': 'Posted: 09 September 2022', 'company': 'Developer / Engineer'}, {'title': 'New\\nSoftware Engineer\\n\\t\\t    Utah State University\\n                \\nLogan, Utah, USA', 'details': 'Back end, Cloud, Database, Integration, Web', 'date': 'Posted: 08 September 2022', 'company': 'Developer / Engineer'}, {'title': 'New\\nSenior Python Engineer, remote, Europe/US (x/f/m)\\n\\t\\t    Transporeon\\n                \\nRemote, US, Germany, Poland, USA, France, Italy, Spain, Netherlands, UK, Austria, Denmark, Sweden,  ...', 'details': 'Back end, Cloud, Database, Integration, Lead, Systems, Testing, Web', 'date': 'Posted: 08 September 2022', 'company': 'Developer / Engineer'}, {'title': 'New\\nLead SRE Engineer\\n\\t\\t    Livepeer\\n                \\nBrooklyn, US', 'details': 'Lead, Systems, PowerShell, Python, Golang', 'date': 'Posted: 07 September 2022', 'company': 'Developer / Engineer'}, {'title': 'New\\nLead Software Engineer\\n\\t\\t    GlobalLogic UK&I\\n                \\nLondon, UK', 'details': 'Cloud, Python, AWS, API', 'date': 'Posted: 07 September 2022', 'company': 'Developer / Engineer'}, {'title': 'New\\nSenior Python Developer (Remote)\\n\\t\\t    nineDots\\n                \\nDublin, Ireland', 'details': 'Back end, Big Data, Cloud, Systems, Python, AWS, Networking, Golang', 'date': 'Posted: 06 September 2022', 'company': 'Developer / Engineer'}, {'title': 'New\\nMachine Learning Engineer\\n\\t\\t    Shift5\\n                \\nremote, USA', 'details': 'Big Data, Machine Learning', 'date': 'Posted: 05 September 2022', 'company': 'Researcher / Scientist'}, {'title': 'New\\nAI Consultant (f/m/d)\\n\\t\\t    1&1 AG\\n                \\nKarlsruhe, Germany', 'details': 'Machine Learning', 'date': 'Posted: 05 September 2022', 'company': 'Developer / Engineer'}, {'title': 'New\\nCloud Automation Engineer (f/m/d)\\n\\t\\t    IONOS SE\\n                \\nBerlin, Germany', 'details': 'Cloud, Systems', 'date': 'Posted: 05 September 2022', 'company': 'Developer / Engineer'}, {'title': 'New\\nBackend Software Engineer\\n\\t\\t    Kintsugi\\n                \\nRemote, USA', 'details': 'Back end, PostgreSQL, Python, FastAPI, Flask, PyTorch, GitLab', 'date': 'Posted: 02 September 2022', 'company': 'Developer / Engineer'}, {'title': 'New\\nQuality Assurance Lead Engineer – Flight Software\\n\\t\\t    E-Space\\n                \\nLos Gatos, CA, United States', 'details': 'Integration, Lead, Testing', 'date': 'Posted: 01 September 2022', 'company': 'Developer / Engineer'}, {'title': 'New\\nPython Developer\\n\\t\\t    Customertimes\\n                \\nBrazil, Latinoamerica, Brazil', 'details': 'Back end, Cloud, Integration, Web, PostgreSQL, Flask', 'date': 'Posted: 01 September 2022', 'company': 'Developer / Engineer'}, {'title': 'New\\nSoftware Developer (f/m/d)\\n\\t\\t    1&1 Mail & Media Applications SE\\n                \\nKarlsruhe, Germany', 'details': 'Big Data, Cloud, Database, Machine Learning, Web, Kubernetes, S3, Spark', 'date': 'Posted: 01 September 2022', 'company': 'Developer / Engineer'}, {'title': 'New\\nSenior Software Engineer (Python)\\n\\t\\t    Zuar, Inc.\\n                \\nAustin, TX, USA', 'details': 'Back end, Database, Integration, Lead, Systems, Testing, Web', 'date': 'Posted: 01 September 2022', 'company': 'Developer / Engineer'}, {'title': 'New\\nPLOTLY DASH DEVELOPER\\n\\t\\t    Revenue.AI\\n                \\nRemote, Europe, Europe', 'details': 'Back end, Image Processing, Integration', 'date': 'Posted: 01 September 2022', 'company': 'Developer / Engineer'}, {'title': 'New\\nSENIOR PYTHON DEVELOPER\\n\\t\\t    Revenue.AI\\n                \\nRemote, Europe, Europe', 'details': 'Back end, Image Processing, Integration, Machine Learning', 'date': 'Posted: 01 September 2022', 'company': 'Developer / Engineer'}, {'title': 'New\\nPrincipal Engineering - Data & AI/ML\\n\\t\\t    UKG (Ultimate Kronos Group)\\n                \\nLowell, Massachusetts, United States', 'details': 'Big Data, Cloud, Machine Learning', 'date': 'Posted: 31 August 2022', 'company': 'Developer / Engineer'}, {'title': 'New\\nBackend Developer\\n\\t\\t    Be Zen\\n                \\nRemote, Remote, India', 'details': 'Back end', 'date': 'Posted: 30 August 2022', 'company': 'Developer / Engineer'}, {'title': 'New\\nAI Consultant (m/w/d)\\n\\t\\t    1&1 AG\\n                \\nKarlsruhe, Germany', 'details': 'Machine Learning', 'date': 'Posted: 30 August 2022', 'company': 'Developer / Engineer'}, {'title': 'New\\nCloud Automation Engineer (f/m/d)\\n\\t\\t    IONOS SE\\n                \\nBerlin, Germany', 'details': 'Cloud, Systems', 'date': 'Posted: 30 August 2022', 'company': 'Developer / Engineer'}, {'title': 'New\\nFull Stack Python Developer (part-time)\\n\\t\\t    Fourth Estate\\n                \\nWashington, District of Columbia, United States', 'details': 'Back end, Front end, Lead, Flask, Pyton-Eve, MongoDB, AngularJS, React, Celery, RabbitMQ, Github, Nginx, Docker', 'date': 'Posted: 28 August 2022', 'company': 'Developer / Engineer'}, {'title': 'New\\nSenior Python Programmer\\n\\t\\t    The University of Texas at Austin\\n                \\nAustin, Texas, USA', 'details': 'Integration, Lead, Management, Systems, Testing, Text Processing, Web', 'date': 'Posted: 26 August 2022', 'company': 'Developer / Engineer'}, {'title': 'New\\nWeb Developer\\n\\t\\t    SideFX\\n                \\nToronto, Ontario, Canada', 'details': 'Back end, Front end', 'date': 'Posted: 26 August 2022', 'company': 'Developer / Engineer'}, {'title': 'New\\nPython  Developer (Django)\\n\\t\\t    Tech Opportunity\\n                \\nAndheri East. Mumbai, Maharashtra, India', 'details': 'Back end, Python, Django', 'date': 'Posted: 26 August 2022', 'company': 'Developer / Engineer'}]\n"
     ]
    }
   ],
   "source": [
    "data =[]\n",
    "for jobs in joblist:\n",
    "    title = jobs.find('h2', attrs={'class':'listing-company'})\n",
    "    details = jobs.find('span',attrs={'class':'listing-job-type'})\n",
    "    date = jobs.find('span', attrs={'class':'listing-posted'})\n",
    "    company = jobs.find('span', attrs={'class':'listing-company-category'})\n",
    "    \n",
    "    if title and details and date and company:\n",
    "        print('--> HEADLINES','--'*40)\n",
    "        print(title.text)\n",
    "        print(details.text.strip())\n",
    "        print(date.text.strip())\n",
    "        print(company.text.strip())\n",
    "        \n",
    "        #now we want to store this data in 'list of dictionary' and as can be easily later on be saved and coverted into datafiles\n",
    "        data.append({\n",
    "            'title':title.text.strip(),\n",
    "            'details':details.text.strip(),\n",
    "            'date':date.text.strip(),\n",
    "            'company':company.text.strip()\n",
    "        })\n",
    "\n",
    "#print(data)"
   ]
  }
 ],
 "metadata": {
  "kernelspec": {
   "display_name": "Python 3.9.12 ('base')",
   "language": "python",
   "name": "python3"
  },
  "language_info": {
   "codemirror_mode": {
    "name": "ipython",
    "version": 3
   },
   "file_extension": ".py",
   "mimetype": "text/x-python",
   "name": "python",
   "nbconvert_exporter": "python",
   "pygments_lexer": "ipython3",
   "version": "3.9.12"
  },
  "orig_nbformat": 4,
  "vscode": {
   "interpreter": {
    "hash": "ca8e1a675551e31a69bb80ae3f26b36ced6340b5d3941929fb9de856c408906a"
   }
  }
 },
 "nbformat": 4,
 "nbformat_minor": 2
}
