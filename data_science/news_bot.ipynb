{
 "cells": [
  {
   "cell_type": "code",
   "execution_count": 1,
   "metadata": {},
   "outputs": [],
   "source": [
    "import requests\n",
    "from bs4 import BeautifulSoup\n"
   ]
  },
  {
   "cell_type": "code",
   "execution_count": 2,
   "metadata": {},
   "outputs": [],
   "source": [
    "def get_soup(url):\n",
    "    page= requests.get(url)\n",
    "    return BeautifulSoup(page.text)"
   ]
  },
  {
   "cell_type": "code",
   "execution_count": 3,
   "metadata": {},
   "outputs": [],
   "source": [
    "soup = get_soup('https://www.ndtv.com/latest')        # soup means here whole page"
   ]
  },
  {
   "cell_type": "code",
   "execution_count": 4,
   "metadata": {},
   "outputs": [],
   "source": [
    "target = soup.find('div', attrs={'class':'lisingNews'})"
   ]
  },
  {
   "cell_type": "code",
   "execution_count": 8,
   "metadata": {},
   "outputs": [
    {
     "name": "stdout",
     "output_type": "stream",
     "text": [
      "17\n"
     ]
    }
   ],
   "source": [
    "newslist = target.find_all('div', attrs={'class':'news_Itm'})\n",
    "print(len(newslist))"
   ]
  },
  {
   "cell_type": "code",
   "execution_count": 6,
   "metadata": {},
   "outputs": [
    {
     "name": "stdout",
     "output_type": "stream",
     "text": [
      "--> HEADLINES --------------------------------------------------------------------------------\n",
      "Argentina vs Saudi Arabia FIFA World Cup 2022 Live: Lionel Messi And Co Aim For Winning Start\n",
      "FIFA World Cup 2022, Argentina vs Saudi Arabia Live: Argentina look to get off to a winning start vs Saudi Arabia\n",
      "NDTV Sports Desk   | Tuesday November 22, 2022\n",
      "--> HEADLINES --------------------------------------------------------------------------------\n",
      "1 Dead, Nearly 30 Injured As Car Bomb Explodes In Thailand: Report\n",
      "At least one person was killed when a car bomb exploded inside a police compound in southern Thailand on Tuesday, a police official said.\n",
      "Agence France-Presse   | Tuesday November 22, 2022, Bangkok\n",
      "--> HEADLINES --------------------------------------------------------------------------------\n",
      "Border Force Stops Infiltration Attempts Along Jammu Border, Intruder Killed\n",
      "The Border Security Force stopped two infiltration attempts along the International Border (IB) in Jammu frontier early Tuesday, killing an intruder and arresting another, officials said.\n",
      "Press Trust of India   | Tuesday November 22, 2022, Jammu\n",
      "--> HEADLINES --------------------------------------------------------------------------------\n",
      "New Zealand vs India Live Score Ball by Ball, New Zealand vs India, 2022/23 Live Cricket Score Of Today's Match on NDTV Sports\n",
      "Live Updates of Today Match between New Zealand vs India from McLean Park, Napier. Check commentary and full scoreboard of the match.\n",
      "NDTVSports   | Tuesday November 22, 2022\n",
      "--> HEADLINES --------------------------------------------------------------------------------\n",
      "Zoom Annual Revenue Forecast Lowered Amid Decline in Online Business, Rising Inflation\n",
      "Zoom on Monday stated that it had cut its annual revenue forecast amid a decline in online business. The company's CFO Kelly Steckelberg said that Zoom's online business would decline nearly 8 percent during the year. The easing of pandemic-related restrictions across the world is also weighing on its business as people started spending less time online.\n",
      "Reuters   | Tuesday November 22, 2022\n",
      "--> HEADLINES --------------------------------------------------------------------------------\n",
      "Bholaa Teaser: Ajay Devgn Is A Trishul-Wielding Man Of Mystery\n",
      "The film is directed and produced by Ajay Devgn\n",
      "Written by Jyothi Jha  | Tuesday November 22, 2022, New Delhi\n",
      "--> HEADLINES --------------------------------------------------------------------------------\n",
      "Winter Special: How To Make Cheese-Loaded Methi Paratha\n",
      "With just a few easily accessible kitchen ingredients, you can create mouthwatering methi paratha that oozes cheese with each bite.\n",
      "Gauri Rohatgi   | Tuesday November 22, 2022\n",
      "--> HEADLINES --------------------------------------------------------------------------------\n",
      "UP NEET PG Counselling 2022: Mop-Up Round Merit List Out; Direct Link, Steps To Check\n",
      "The UP NEET PG 2022 counselling mop-up round merit list is declared at upneet.gov.in. The seat allotment results will be announced on November 26.\n",
      "Written by Arpita Das  | Tuesday November 22, 2022\n",
      "--> HEADLINES --------------------------------------------------------------------------------\n",
      "Two Arrested in Estonia for Cheating Hundreds of Thousands in $575 Million Crypto Fraud Scheme\n",
      "Authorities in Estonia have arrested two men on suspicion of defrauding $575 million (roughly Rs. 4,700 crore) from hundreds of thousands of people, police said on Monday. The joint operation involved more than 100 police officers, including around 15 US federal agents. According to a statement by the authorities, \"invited people to invest in their cryptocurrency token. However, they did not develop the token as promised\".\n",
      "Agence France-Presse   | Tuesday November 22, 2022\n",
      "--> HEADLINES --------------------------------------------------------------------------------\n",
      "Magic Shows, Street Plays In AAP's Campaign For Delhi Civic Polls\n",
      "Guitar and magic shows, 1,000 street meetings by star campaigners and street plays are some of the events planned by the AAP ahead of the Delhi civic polls.\n",
      "Press Trust of India   | Tuesday November 22, 2022, New Delhi\n",
      "--> HEADLINES --------------------------------------------------------------------------------\n",
      "Iran Enriching Uranium To 60% Purity At Underground Nuclear Site: Report\n",
      "Iran has started enriching uranium to 60% purity at its underground Fordow nuclear site, according to state media on Tuesday, which described the action as a response to the UN nuclear watchdog's demand for more cooperation from Tehran.\n",
      "Reuters   | Tuesday November 22, 2022, Dubai\n",
      "--> HEADLINES --------------------------------------------------------------------------------\n",
      "New Zealand vs India: New Zealand vs India, 2022/23 Live Cricket Score, Live Score Of Today's Match on NDTV Sports\n",
      "Live Updates of Today Match between New Zealand vs India from McLean Park, Napier. Check commentary and full scoreboard of the match.\n",
      "NDTVSports   | Tuesday November 22, 2022\n",
      "--> HEADLINES --------------------------------------------------------------------------------\n",
      "95% Of Assam's Youth Suffers Mental Health Issues, Says UNICEF Study\n",
      "An estimated 95 per cent of the youth in Assam have suffered mental health issues arising out of cyberbullying and corporal punishment, a poll conducted by UNICEF and National Service Scheme (NSS) has revealed.\n",
      "Press Trust of India   | Tuesday November 22, 2022, Guwahati\n",
      "--> HEADLINES --------------------------------------------------------------------------------\n",
      "Twitter's Former Executive Asks People Not To Work At Company After Elon Musk's \"Toxic\" Takeover\n",
      "A former Twitter executive recently advised people not to work at or advertise Twitter after Elon Musk's purchase of the company.\n",
      "Edited by Bhavya Sukheja  | Tuesday November 22, 2022\n",
      "--> HEADLINES --------------------------------------------------------------------------------\n",
      "Why Sun TV Share Price Is Falling\n",
      "The company's shares have been under pressure since the beginning of the year.\n",
      "Equitymaster   | Tuesday November 22, 2022\n"
     ]
    }
   ],
   "source": [
    "data =[]\n",
    "for news in newslist:\n",
    "    title = news.find('h2', attrs={'class':'newsHdng'})\n",
    "    details = news.find('span',attrs={'class':'posted-by'})\n",
    "    content = news.find('p', attrs={'class':'newsCont'})\n",
    "    if title and details and content:\n",
    "        #print('--> HEADLINES','--'*40)\n",
    "        #print(title.text)\n",
    "        #print(content.text.strip())\n",
    "        #print(details.text.strip())\n",
    "        \n",
    "        #now we want to store this data in 'list of dictionary' and as can be easily later on be saved and coverted into datafiles\n",
    "        data.append({\n",
    "            'title':title.text.strip(),\n",
    "            'details':details.text.strip(),\n",
    "            'content':content.text.strip()\n",
    "        })"
   ]
  },
  {
   "cell_type": "code",
   "execution_count": 7,
   "metadata": {},
   "outputs": [],
   "source": [
    "import pandas as pd\n"
   ]
  }
 ],
 "metadata": {
  "kernelspec": {
   "display_name": "Python 3.9.12 ('base')",
   "language": "python",
   "name": "python3"
  },
  "language_info": {
   "codemirror_mode": {
    "name": "ipython",
    "version": 3
   },
   "file_extension": ".py",
   "mimetype": "text/x-python",
   "name": "python",
   "nbconvert_exporter": "python",
   "pygments_lexer": "ipython3",
   "version": "3.9.12"
  },
  "orig_nbformat": 4,
  "vscode": {
   "interpreter": {
    "hash": "ca8e1a675551e31a69bb80ae3f26b36ced6340b5d3941929fb9de856c408906a"
   }
  }
 },
 "nbformat": 4,
 "nbformat_minor": 2
}
