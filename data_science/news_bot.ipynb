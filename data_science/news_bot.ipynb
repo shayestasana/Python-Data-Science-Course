{
 "cells": [
  {
   "cell_type": "code",
   "execution_count": 2,
   "metadata": {},
   "outputs": [],
   "source": [
    "import requests\n",
    "from bs4 import BeautifulSoup\n"
   ]
  },
  {
   "cell_type": "code",
   "execution_count": 5,
   "metadata": {},
   "outputs": [],
   "source": [
    "def get_soup(url):\n",
    "    page= requests.get(url)\n",
    "    return BeautifulSoup(page.text)"
   ]
  },
  {
   "cell_type": "code",
   "execution_count": 6,
   "metadata": {},
   "outputs": [],
   "source": [
    "soup = get_soup('https://www.ndtv.com/latest')        # soup means here whole page"
   ]
  },
  {
   "cell_type": "code",
   "execution_count": 7,
   "metadata": {},
   "outputs": [],
   "source": [
    "target = soup.find('div', attrs={'class':'lisingNews'})"
   ]
  },
  {
   "cell_type": "code",
   "execution_count": 8,
   "metadata": {},
   "outputs": [
    {
     "name": "stdout",
     "output_type": "stream",
     "text": [
      "17\n"
     ]
    }
   ],
   "source": [
    "newslist = target.find_all('div', attrs={'class':'news_Itm'})\n",
    "print(len(newslist))"
   ]
  },
  {
   "cell_type": "code",
   "execution_count": 13,
   "metadata": {},
   "outputs": [],
   "source": [
    "data =[]\n",
    "for news in newslist:\n",
    "    title = news.find('h2', attrs={'class':'newsHdng'})\n",
    "    details = news.find('span',attrs={'class':'posted-by'})\n",
    "    content = news.find('p', attrs={'class':'newsCont'})\n",
    "    if title and details and content:\n",
    "        #print('--> HEADLINES','--'*40)\n",
    "        #print(title.text)\n",
    "        #print(content.text.strip())\n",
    "        #print(details.text.strip())\n",
    "        \n",
    "        #now we want to store this data in 'list of dictionary' and as can be easily later on be saved and coverted into datafiles\n",
    "        data.append({\n",
    "            'title':title.text.strip(),\n",
    "            'details':details.text.strip(),\n",
    "            'content':content.text.strip()\n",
    "        })"
   ]
  },
  {
   "cell_type": "code",
   "execution_count": null,
   "metadata": {},
   "outputs": [],
   "source": [
    "import pandas as pd\n"
   ]
  }
 ],
 "metadata": {
  "kernelspec": {
   "display_name": "Python 3.9.12 ('base')",
   "language": "python",
   "name": "python3"
  },
  "language_info": {
   "codemirror_mode": {
    "name": "ipython",
    "version": 3
   },
   "file_extension": ".py",
   "mimetype": "text/x-python",
   "name": "python",
   "nbconvert_exporter": "python",
   "pygments_lexer": "ipython3",
   "version": "3.9.12"
  },
  "orig_nbformat": 4,
  "vscode": {
   "interpreter": {
    "hash": "ca8e1a675551e31a69bb80ae3f26b36ced6340b5d3941929fb9de856c408906a"
   }
  }
 },
 "nbformat": 4,
 "nbformat_minor": 2
}
