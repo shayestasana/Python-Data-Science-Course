{
 "cells": [
  {
   "cell_type": "markdown",
   "metadata": {},
   "source": [
    "### **Classes and Instances** "
   ]
  },
  {
   "cell_type": "code",
   "execution_count": 1,
   "metadata": {},
   "outputs": [
    {
     "name": "stdout",
     "output_type": "stream",
     "text": [
      "<__main__.Employee object at 0x000002383EC96E20>\n",
      "<__main__.Employee object at 0x000002383EC96E50>\n",
      "Corey.Schafer@company.com\n",
      "Test.User@company.com\n"
     ]
    }
   ],
   "source": [
    "class Employee:\n",
    "    pass\n",
    "\n",
    "emp_1 = Employee()  # emp_1 is an instance of the Employee class\n",
    "emp_2 = Employee() # emp_2 is an instance of the Employee class\n",
    "\n",
    "print(emp_1) # <__main__.Employee object at 0x0000020B1B0B0F28>\n",
    "print(emp_2)\n",
    "\n",
    "emp_1.first = 'Corey'\n",
    "emp_1.last = 'Schafer' \n",
    "emp_1.email = 'Corey.Schafer@company.com'\n",
    "emp_1.pay = 50000\n",
    "\n",
    "emp_2.first = 'Test'\n",
    "emp_2.last = 'User'\n",
    "emp_2.email = 'Test.User@company.com'\n",
    "emp_2.pay = 60000\n",
    "\n",
    "print(emp_1.email)\n",
    "print(emp_2.email) \n",
    "\n",
    "\n",
    "\n"
   ]
  },
  {
   "cell_type": "code",
   "execution_count": 4,
   "metadata": {},
   "outputs": [
    {
     "name": "stdout",
     "output_type": "stream",
     "text": [
      "Corey.Schafer@company.com\n",
      "Test.User@company.com\n",
      "Corey Schafer\n"
     ]
    }
   ],
   "source": [
    "class Employee:\n",
    "    \n",
    "    def __init__(self, first, last, pay):   # constructor / self is the instance of the class \n",
    "        self.fname = first\n",
    "        self.lname = last\n",
    "        self.pay = pay\n",
    "        self.email = first + '.' + last + '@company.com'\n",
    "    \n",
    "\n",
    "emp_1 = Employee('Corey','Schafer',50000)\n",
    "emp_2 = Employee('Test','User',60000)\n",
    "\n",
    "#print(emp_1)\n",
    "#print(emp_2)\n",
    "\n",
    "print(emp_1.email)\n",
    "print(emp_2.email)\n",
    "\n",
    "print('{} {}'.format(emp_1.fname, emp_1.lname))\n",
    "\n"
   ]
  },
  {
   "cell_type": "code",
   "execution_count": 7,
   "metadata": {},
   "outputs": [
    {
     "name": "stdout",
     "output_type": "stream",
     "text": [
      "Corey.Schafer@company.com\n",
      "Test.User@company.com\n",
      "Corey Schafer\n",
      "Corey Schafer\n",
      "Test User\n",
      "Test User\n"
     ]
    }
   ],
   "source": [
    "class Employee:\n",
    "    \n",
    "    def __init__(self, first, last, pay):\n",
    "        self.fname = first\n",
    "        self.lname = last\n",
    "        self.pay = pay\n",
    "        self.email = first + '.' + last + '@company.com'\n",
    "    \n",
    "    def fullname(self):\n",
    "        return '{} {}'.format(self.fname, self.lname)\n",
    "\n",
    "    \n",
    "\n",
    "emp_1 = Employee('Corey','Schafer',50000) # emp_1 is an instance of the Employee class\n",
    "emp_2 = Employee('Test','User',60000)\n",
    " \n",
    "print(emp_1.email) \n",
    "print(emp_2.email)\n",
    "\n",
    "print('{} {}'.format(emp_1.fname, emp_1.lname))  # Corey Schafer\n",
    "print(emp_1.fullname()) # Corey Schafer\n",
    "\n",
    "print(emp_2.fullname()) # Test User .... it calls the  self automatically\n",
    "# passing value and run in class name itself\n",
    "print(Employee.fullname(emp_2)) # Test User\n",
    "\n"
   ]
  },
  {
   "cell_type": "markdown",
   "metadata": {},
   "source": [
    "### **Class Variables** "
   ]
  },
  {
   "cell_type": "code",
   "execution_count": 1,
   "metadata": {},
   "outputs": [
    {
     "name": "stdout",
     "output_type": "stream",
     "text": [
      "50000\n",
      "52000\n",
      "{'fname': 'Corey', 'lname': 'Schafer', 'pay': 52000, 'email': 'Corey.Schafer@company.com'}\n",
      "{'__module__': '__main__', '__init__': <function Employee.__init__ at 0x000001421342E4C0>, 'fullname': <function Employee.fullname at 0x000001421342E3A0>, 'apply_raise': <function Employee.apply_raise at 0x000001421342E5E0>, '__dict__': <attribute '__dict__' of 'Employee' objects>, '__weakref__': <attribute '__weakref__' of 'Employee' objects>, '__doc__': None}\n"
     ]
    }
   ],
   "source": [
    "class Employee:\n",
    "    \n",
    "    def __init__(self, first, last, pay):\n",
    "        self.fname = first\n",
    "        self.lname = last\n",
    "        self.pay = pay\n",
    "        self.email = first + '.' + last + '@company.com'\n",
    "    \n",
    "    def fullname(self):\n",
    "        return '{} {}'.format(self.fname, self.lname)\n",
    "\n",
    "    def apply_raise(self):\n",
    "        self.pay = int(self.pay * 1.04)\n",
    "\n",
    "    \n",
    "emp_1 = Employee('Corey','Schafer',50000) # emp_1 is an instance of the Employee class\n",
    "emp_2 = Employee('Test','User',60000)\n",
    "\n",
    "print(emp_1.pay) # 50000\n",
    "emp_1.apply_raise() # 50000 * 1.04\n",
    "print(emp_1.pay) # 52000\n",
    "\n",
    "print(emp_1.__dict__) # {'fname': 'Corey', 'lname': 'Schafer', 'pay': 50000, 'email': ' \n",
    "print(Employee.__dict__) # {'__module__': '__main__', '__init__': <function Employee.__init__ at 0x0000020B1B0B0EA0>, 'fullname': <function Employee.fullname at 0x0000020B1B0B0D08>, 'apply_raise': <function Employee.apply_raise at 0x0000020B1B0B0D90>, '__dict__': <attribute '__dict__' of 'Employee' objects>, '__weakref__': <attribute '__weakref__' of 'Employee' objects>, '__doc__': None}\n",
    "\n"
   ]
  },
  {
   "cell_type": "code",
   "execution_count": null,
   "metadata": {},
   "outputs": [],
   "source": [
    "class Employee:\n",
    "        \n",
    "        raise_amt = 1.04 # class variable\n",
    "        \n",
    "        def __init__(self, first, last, pay):\n",
    "            self.fname = first\n",
    "            self.lname = last\n",
    "            self.pay = pay\n",
    "            self.email = first + '.' + last + '@company.com'\n",
    "        \n",
    "        def fullname(self):\n",
    "            return '{} {}'.format(self.fname, self.lname)\n",
    "    \n",
    "        def apply_raise(self):\n",
    "            self.pay = int(self.pay * self.raise_amt) # Employee.raise_amt or self.raise_amt\n",
    "\n",
    "emp_1 = Employee('Corey','Schafer',50000) # emp_1 is an instance of the Employee class\n",
    "emp_2 = Employee('Test','User',60000)\n",
    "\n",
    "print(emp_1.pay)\n",
    "emp_1.apply_raise()\n",
    "print(emp_1.pay)\n",
    "\n",
    "print(Employee.raise_amt)\n",
    "print(emp_1.raise_amt)\n",
    "print(emp_2.raise_amt)\n",
    "\n",
    "print(emp_1.__dict__) # {'fname': 'Corey', 'lname': 'Schafer', 'pay': 50000, 'email': '\n",
    "print(Employee.__dict__) # {'__module__': '__main__', 'raise_amt': 1.04, '__init__': <function Employee.__init__ at 0x0000020B1B0B0EA0>, 'fullname': <function Employee.fullname at 0x0000020B1B0B0D08>, 'apply_raise': <function Employee.apply_raise at 0x0000020B1B0B0D90>, '__dict__': <attribute '__dict__' of 'Employee' objects>, '__weakref__': <attribute '__weakref__' of 'Employee' objects>, '__doc__': None}\n"
   ]
  }
 ],
 "metadata": {
  "kernelspec": {
   "display_name": "Python 3.9.12 ('base')",
   "language": "python",
   "name": "python3"
  },
  "language_info": {
   "codemirror_mode": {
    "name": "ipython",
    "version": 3
   },
   "file_extension": ".py",
   "mimetype": "text/x-python",
   "name": "python",
   "nbconvert_exporter": "python",
   "pygments_lexer": "ipython3",
   "version": "3.9.12"
  },
  "orig_nbformat": 4,
  "vscode": {
   "interpreter": {
    "hash": "ca8e1a675551e31a69bb80ae3f26b36ced6340b5d3941929fb9de856c408906a"
   }
  }
 },
 "nbformat": 4,
 "nbformat_minor": 2
}
