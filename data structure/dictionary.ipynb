{
 "cells": [
  {
   "cell_type": "code",
   "execution_count": 4,
   "metadata": {},
   "outputs": [
    {
     "name": "stdout",
     "output_type": "stream",
     "text": [
      "Jack\n",
      "26\n"
     ]
    }
   ],
   "source": [
    "#ordered collection of items.\n",
    "# each item of a dictionary has a key/value pair\n",
    "\n",
    "my_dict={'name': 'Jack', 'age': 26}\n",
    "print(my_dict['name'])   #accesssing the elements\n",
    "\n",
    "#print(my_dict['address']) # it doesn't exist\n",
    "print(my_dict.get('age'))"
   ]
  },
  {
   "cell_type": "code",
   "execution_count": 5,
   "metadata": {},
   "outputs": [
    {
     "name": "stdout",
     "output_type": "stream",
     "text": [
      "{'name': 'Jack', 'age': 27}\n",
      "{'name': 'Jack', 'age': 27, 'address': 'Downtown'}\n"
     ]
    }
   ],
   "source": [
    "my_dict['age']=27  # updating the value of key\n",
    "\n",
    "print(my_dict)\n",
    "my_dict['address']='Downtown'   # adding the value\n",
    "print(my_dict)"
   ]
  },
  {
   "cell_type": "code",
   "execution_count": 8,
   "metadata": {},
   "outputs": [
    {
     "name": "stdout",
     "output_type": "stream",
     "text": [
      "16\n",
      "{1: 1, 2: 4, 3: 9, 5: 25}\n",
      "(5, 25)\n"
     ]
    }
   ],
   "source": [
    "squares= {1:1,2:4, 3:9, 4:16, 5:25}\n",
    "print(squares.pop(4))\n",
    "print(squares)\n",
    "print(squares.popitem())   # removes the last element\n"
   ]
  },
  {
   "cell_type": "code",
   "execution_count": 3,
   "metadata": {},
   "outputs": [],
   "source": [
    "report = {\n",
    "    'student 1': {\n",
    "        'name': 'John',\n",
    "        'marks': {\n",
    "            'math': 80,\n",
    "            'science': 90,\n",
    "            'history': 70,\n",
    "            'english': 60,\n",
    "            'evs':90\n",
    "\n",
    "        }\n",
    "    },\n",
    "    'student 2': {\n",
    "        'name': 'Mary',\n",
    "        'marks': {\n",
    "            'math': 70,\n",
    "            'science': 80,\n",
    "            'history': 60,\n",
    "            'english': 50,\n",
    "            'evs':80\n",
    "        }\n",
    "    },\n",
    "}"
   ]
  },
  {
   "cell_type": "code",
   "execution_count": 4,
   "metadata": {},
   "outputs": [
    {
     "data": {
      "text/plain": [
       "{'student 1': {'name': 'John',\n",
       "  'marks': {'math': 80,\n",
       "   'science': 90,\n",
       "   'history': 70,\n",
       "   'english': 60,\n",
       "   'evs': 90}},\n",
       " 'student 2': {'name': 'Mary',\n",
       "  'marks': {'math': 70,\n",
       "   'science': 80,\n",
       "   'history': 60,\n",
       "   'english': 50,\n",
       "   'evs': 80}}}"
      ]
     },
     "execution_count": 4,
     "metadata": {},
     "output_type": "execute_result"
    }
   ],
   "source": [
    "report"
   ]
  },
  {
   "cell_type": "code",
   "execution_count": 6,
   "metadata": {},
   "outputs": [
    {
     "name": "stdout",
     "output_type": "stream",
     "text": [
      "{'name': 'John', 'marks': {'math': 80, 'science': 90, 'history': 70, 'english': 60, 'evs': 90}}\n"
     ]
    }
   ],
   "source": [
    "print(report[\"student 1\"])"
   ]
  },
  {
   "cell_type": "code",
   "execution_count": 7,
   "metadata": {},
   "outputs": [
    {
     "name": "stdout",
     "output_type": "stream",
     "text": [
      "John\n",
      "{'math': 80, 'science': 90, 'history': 70, 'english': 60, 'evs': 90}\n",
      "70\n"
     ]
    }
   ],
   "source": [
    "print(report['student 1']['name'])\n",
    "print(report['student 1']['marks'])\n",
    "print(report['student 1']['marks']['history'])"
   ]
  },
  {
   "cell_type": "code",
   "execution_count": 8,
   "metadata": {},
   "outputs": [
    {
     "name": "stdout",
     "output_type": "stream",
     "text": [
      "('student 1', {'name': 'John', 'marks': {'math': 80, 'science': 90, 'history': 70, 'english': 60, 'evs': 90}})\n",
      "('student 2', {'name': 'Mary', 'marks': {'math': 70, 'science': 80, 'history': 60, 'english': 50, 'evs': 80}})\n",
      "student 1 {'name': 'John', 'marks': {'math': 80, 'science': 90, 'history': 70, 'english': 60, 'evs': 90}}\n",
      "student 2 {'name': 'Mary', 'marks': {'math': 70, 'science': 80, 'history': 60, 'english': 50, 'evs': 80}}\n"
     ]
    }
   ],
   "source": [
    "#loop for dictionary\n",
    "\n",
    "for i in report.items():\n",
    "    print(i)\n",
    "\n",
    "\n",
    "for k,v in report.items():\n",
    "    print(k,v)"
   ]
  },
  {
   "cell_type": "code",
   "execution_count": 9,
   "metadata": {},
   "outputs": [
    {
     "name": "stdout",
     "output_type": "stream",
     "text": [
      "student: student 1\n",
      "John\n",
      "math 80\n",
      "science 90\n",
      "history 70\n",
      "english 60\n",
      "evs 90\n",
      "student: student 2\n",
      "Mary\n",
      "math 70\n",
      "science 80\n",
      "history 60\n",
      "english 50\n",
      "evs 80\n"
     ]
    }
   ],
   "source": [
    "\n",
    "# nested loop for dictionary\n",
    "for k, v in report.items():\n",
    "    print(\"student:\", k)\n",
    "    if isinstance(v,dict):      ##isinstance checks if it is dictionary or not\n",
    "        for k1, v1 in v.items():\n",
    "            if isinstance(v1,dict):\n",
    "                for sub,marks in v1.items():\n",
    "                    print(sub,marks)\n",
    "            else:\n",
    "                print(v1)\n",
    "    else:\n",
    "        print(v)"
   ]
  },
  {
   "cell_type": "code",
   "execution_count": 1,
   "metadata": {},
   "outputs": [
    {
     "name": "stdout",
     "output_type": "stream",
     "text": [
      "\u001b[1;31mDocstring:\u001b[0m\n",
      "print(value, ..., sep=' ', end='\\n', file=sys.stdout, flush=False)\n",
      "\n",
      "Prints the values to a stream, or to sys.stdout by default.\n",
      "Optional keyword arguments:\n",
      "file:  a file-like object (stream); defaults to the current sys.stdout.\n",
      "sep:   string inserted between values, default a space.\n",
      "end:   string appended after the last value, default a newline.\n",
      "flush: whether to forcibly flush the stream.\n",
      "\u001b[1;31mType:\u001b[0m      builtin_function_or_method\n"
     ]
    }
   ],
   "source": [
    "print?"
   ]
  },
  {
   "cell_type": "code",
   "execution_count": 2,
   "metadata": {},
   "outputs": [
    {
     "name": "stdout",
     "output_type": "stream",
     "text": [
      "\u001b[1;31mSignature:\u001b[0m \u001b[0mlist\u001b[0m\u001b[1;33m.\u001b[0m\u001b[0mappend\u001b[0m\u001b[1;33m(\u001b[0m\u001b[0mself\u001b[0m\u001b[1;33m,\u001b[0m \u001b[0mobject\u001b[0m\u001b[1;33m,\u001b[0m \u001b[1;33m/\u001b[0m\u001b[1;33m)\u001b[0m\u001b[1;33m\u001b[0m\u001b[1;33m\u001b[0m\u001b[0m\n",
      "\u001b[1;31mDocstring:\u001b[0m Append object to the end of the list.\n",
      "\u001b[1;31mType:\u001b[0m      method_descriptor\n"
     ]
    }
   ],
   "source": [
    "list.append?\n"
   ]
  },
  {
   "cell_type": "code",
   "execution_count": 3,
   "metadata": {},
   "outputs": [
    {
     "name": "stdout",
     "output_type": "stream",
     "text": [
      "Object `return` not found.\n"
     ]
    }
   ],
   "source": [
    "\n"
   ]
  }
 ],
 "metadata": {
  "kernelspec": {
   "display_name": "Python 3.9.12 ('base')",
   "language": "python",
   "name": "python3"
  },
  "language_info": {
   "codemirror_mode": {
    "name": "ipython",
    "version": 3
   },
   "file_extension": ".py",
   "mimetype": "text/x-python",
   "name": "python",
   "nbconvert_exporter": "python",
   "pygments_lexer": "ipython3",
   "version": "3.9.12"
  },
  "orig_nbformat": 4,
  "vscode": {
   "interpreter": {
    "hash": "ca8e1a675551e31a69bb80ae3f26b36ced6340b5d3941929fb9de856c408906a"
   }
  }
 },
 "nbformat": 4,
 "nbformat_minor": 2
}
