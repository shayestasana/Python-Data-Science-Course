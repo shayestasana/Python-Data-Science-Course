{
 "cells": [
  {
   "cell_type": "code",
   "execution_count": 6,
   "metadata": {},
   "outputs": [
    {
     "name": "stdout",
     "output_type": "stream",
     "text": [
      "list1[0]=  Nikhlesh\n",
      "list1[2]= Rahul\n",
      "list1[-3]= Rahul\n"
     ]
    }
   ],
   "source": [
    "# list is mutable\n",
    "\n",
    "# List of strings\n",
    "list1 = [\"Nikhlesh\", \"Aman\", 'Rahul', 'Devansh', 'Rishabh']\n",
    "# list of numbers\n",
    "list2=[1,2,3,4,5,15,25,100]\n",
    "# Mixed data list\n",
    "list3=['Ravi',90,102,93,29,44, \"B\", False,5.786]\n",
    "# Nested list\n",
    "list4=[[1,2,3],[3,4,5,7],[2,1]]\n",
    "\n",
    "\n",
    "#negative indexing= -9 -8 -7 -6 -5 -4 -3 -2 -1\n",
    "#positivr indexing= 0 1 2 3 4 5 6 7 8\n",
    "\n",
    "\n",
    "print('list1[0]= ',list1[0])\n",
    "print('list1[2]=',list1[2])\n",
    "print('list1[-3]=',list1[-3])\n"
   ]
  },
  {
   "cell_type": "code",
   "execution_count": null,
   "metadata": {},
   "outputs": [],
   "source": []
  },
  {
   "cell_type": "code",
   "execution_count": 7,
   "metadata": {},
   "outputs": [
    {
     "name": "stdout",
     "output_type": "stream",
     "text": [
      "[93, 29, 44, 'B']\n"
     ]
    }
   ],
   "source": [
    "#Slicing  l[m:n] ---> it returns the position of l starting with position m, and upto but not including n\n",
    "slice1=list3[3:-2]\n",
    "print(slice1)\n"
   ]
  },
  {
   "cell_type": "code",
   "execution_count": 2,
   "metadata": {},
   "outputs": [],
   "source": [
    "books = [\n",
    "    'Legion',\n",
    "    'Legion: Skin Deep',\n",
    "    'Steelheart',\n",
    "    'Calamity',\n",
    "    'The Final Empire',\n",
    "    'The well of Ascension',\n",
    "    'Way of the kings',\n",
    "    'Oathbringer',\n",
    "    'Words of Radiance',\n",
    "    'Warbreaker',\n",
    "]"
   ]
  },
  {
   "cell_type": "code",
   "execution_count": 3,
   "metadata": {},
   "outputs": [
    {
     "data": {
      "text/plain": [
       "['Legion', 'Legion: Skin Deep', 'Steelheart']"
      ]
     },
     "execution_count": 3,
     "metadata": {},
     "output_type": "execute_result"
    }
   ],
   "source": [
    "books[:3] # first 3 books"
   ]
  },
  {
   "cell_type": "code",
   "execution_count": 4,
   "metadata": {},
   "outputs": [
    {
     "data": {
      "text/plain": [
       "['Oathbringer', 'Words of Radiance', 'Warbreaker']"
      ]
     },
     "execution_count": 4,
     "metadata": {},
     "output_type": "execute_result"
    }
   ],
   "source": [
    "books[-3:] # last 3 books"
   ]
  },
  {
   "cell_type": "code",
   "execution_count": 5,
   "metadata": {},
   "outputs": [
    {
     "data": {
      "text/plain": [
       "['Calamity', 'The Final Empire', 'The well of Ascension', 'Way of the kings']"
      ]
     },
     "execution_count": 5,
     "metadata": {},
     "output_type": "execute_result"
    }
   ],
   "source": [
    "books[3:-3] # all except first 3 and last 3 books"
   ]
  },
  {
   "cell_type": "code",
   "execution_count": 6,
   "metadata": {},
   "outputs": [
    {
     "name": "stdout",
     "output_type": "stream",
     "text": [
      "['Legion', 'Legion: Skin Deep', 'Steelheart', 'Calamity', 'The Final Empire', 'The well of Ascension', 'Way of the kings', 'Oathbringer', 'Words of Radiance', 'Warbreaker', 'Firefight', 'Rythm of War']\n"
     ]
    }
   ],
   "source": [
    "books.append('Firefight')\n",
    "books.append('Rythm of War')\n",
    "print(books)"
   ]
  },
  {
   "cell_type": "code",
   "execution_count": 7,
   "metadata": {},
   "outputs": [],
   "source": [
    "bookname = input(\"enter a book name: \")\n",
    "books.append(bookname)"
   ]
  },
  {
   "cell_type": "code",
   "execution_count": 8,
   "metadata": {},
   "outputs": [
    {
     "name": "stdout",
     "output_type": "stream",
     "text": [
      "['Legion', 'Legion: Skin Deep', 'Steelheart', 'Calamity', 'The Final Empire', 'The well of Ascension', 'Way of the kings', 'Oathbringer', 'Words of Radiance', 'Warbreaker', 'Firefight', 'Rythm of War', 'sdsds']\n"
     ]
    }
   ],
   "source": [
    "print(books)"
   ]
  },
  {
   "cell_type": "code",
   "execution_count": null,
   "metadata": {},
   "outputs": [],
   "source": [
    "books.insert(6,'The Hero of Ages')\n",
    "print(books)"
   ]
  },
  {
   "cell_type": "code",
   "execution_count": null,
   "metadata": {},
   "outputs": [],
   "source": [
    "books.insert(100,'Nightblood') # unfeasible index, will be added to the end of the list\n",
    "print(books)"
   ]
  },
  {
   "cell_type": "code",
   "execution_count": null,
   "metadata": {},
   "outputs": [],
   "source": [
    "books.sort(reverse=True) # descending order\n",
    "print(books)"
   ]
  },
  {
   "cell_type": "code",
   "execution_count": null,
   "metadata": {},
   "outputs": [],
   "source": [
    "x = [1,2,2,3,3,2,3,3,3,3,1,1,1,1,2]\n",
    "x.sort()\n",
    "print(x)"
   ]
  },
  {
   "cell_type": "code",
   "execution_count": null,
   "metadata": {},
   "outputs": [],
   "source": [
    "if 1 in x:\n",
    "    x.remove(1)\n",
    "print(x)\n",
    "if 4 in x:\n",
    "    x.remove(4)\n",
    "print(x)"
   ]
  },
  {
   "cell_type": "code",
   "execution_count": null,
   "metadata": {},
   "outputs": [],
   "source": [
    "x.remove(3) if 3 in x else print('not found')"
   ]
  },
  {
   "cell_type": "code",
   "execution_count": null,
   "metadata": {},
   "outputs": [],
   "source": [
    "print(x)"
   ]
  },
  {
   "cell_type": "code",
   "execution_count": null,
   "metadata": {},
   "outputs": [],
   "source": [
    "books.reverse() # reverse the list\n",
    "print(books)"
   ]
  },
  {
   "cell_type": "code",
   "execution_count": null,
   "metadata": {},
   "outputs": [],
   "source": [
    "books[::-1] # reverse the list"
   ]
  },
  {
   "cell_type": "code",
   "execution_count": null,
   "metadata": {},
   "outputs": [],
   "source": [
    "len(books)"
   ]
  },
  {
   "cell_type": "code",
   "execution_count": null,
   "metadata": {},
   "outputs": [],
   "source": [
    "oathidx =books.index('Oathbringer')\n",
    "print(oathidx)\n",
    "books[oathidx:]"
   ]
  },
  {
   "cell_type": "code",
   "execution_count": null,
   "metadata": {},
   "outputs": [],
   "source": [
    "books[books.index('Oathbringer') : ]"
   ]
  },
  {
   "cell_type": "code",
   "execution_count": null,
   "metadata": {},
   "outputs": [],
   "source": [
    "ex  = []\n",
    "for i in range(5):\n",
    "    val = input(f'enter value {i+1}: ')\n",
    "    ex.append(val)\n",
    "print(ex)"
   ]
  },
  {
   "cell_type": "code",
   "execution_count": null,
   "metadata": {},
   "outputs": [],
   "source": [
    "data = [23,54,67,78,99,90]\n",
    "total = 0\n",
    "for i in data:\n",
    "    total += i\n",
    "print(total)"
   ]
  },
  {
   "cell_type": "code",
   "execution_count": null,
   "metadata": {},
   "outputs": [],
   "source": [
    "x = [2,4,6,7,3,2,1,2,5,4,3,2,1,6,7]\n",
    "# mean\n",
    "mean = sum(x)/len(x)\n",
    "print(mean)\n",
    "\n",
    "# median\n",
    "x.sort()\n",
    "if len(x) % 2 == 0:\n",
    "    median = (x[len(x)//2] + x[len(x)//2 - 1])/2\n",
    "else:\n",
    "    median = x[len(x)//2]\n",
    "print(median)\n",
    "\n",
    "# min\n",
    "print(min(x))\n",
    "\n",
    "# max\n",
    "print(max(x))\n",
    "\n",
    "# std\n",
    "# ?"
   ]
  },
  {
   "cell_type": "code",
   "execution_count": null,
   "metadata": {},
   "outputs": [],
   "source": [
    "# add 2 list together element wise and produce a new list\n",
    "a = [1,2,3,4,5]\n",
    "b = [6,7,8,9,10]\n",
    "c = []\n",
    "for i, j in zip(a,b):\n",
    "    c.append(i+j)\n",
    "print(c)"
   ]
  },
  {
   "cell_type": "code",
   "execution_count": null,
   "metadata": {},
   "outputs": [],
   "source": [
    "# create a list where every element is a sqr\n",
    "# of elements from an existing list\n",
    "x = [2,3,4,5,6,7,8,9,10]\n",
    "x2 = []\n",
    "for i in x:\n",
    "    x2.append(i**2)\n",
    "print(x)\n",
    "print(x2)"
   ]
  },
  {
   "cell_type": "code",
   "execution_count": null,
   "metadata": {},
   "outputs": [],
   "source": [
    "# create a list where every odd element is a sqr\n",
    "# of elements from an existing list\n",
    "x = [2,3,4,5,6,7,8,9,10]\n",
    "# x2 = []\n",
    "# for i in x:\n",
    "#     if i%2 != 0:\n",
    "#         x2.append(i**2)\n",
    "x2 = [i**2 for i in x if i%2 != 0]\n",
    "print(x)\n",
    "print(x2)"
   ]
  },
  {
   "cell_type": "code",
   "execution_count": null,
   "metadata": {},
   "outputs": [],
   "source": []
  },
  {
   "cell_type": "code",
   "execution_count": 8,
   "metadata": {},
   "outputs": [
    {
     "data": {
      "text/plain": [
       "['apple', 'banana', 'Cherry', 'Guava']"
      ]
     },
     "execution_count": 8,
     "metadata": {},
     "output_type": "execute_result"
    }
   ],
   "source": [
    "fruits = []\n",
    "fruits.append(\"apple\")  # adds an item to the list\n",
    "fruits.append(\"banana\")\n",
    "fruits.append(\"Cherry\")\n",
    "fruits.append(\"Guava\")\n",
    "fruits"
   ]
  },
  {
   "cell_type": "code",
   "execution_count": 11,
   "metadata": {},
   "outputs": [
    {
     "name": "stdout",
     "output_type": "stream",
     "text": [
      "['apple', 'orange', 'banana', 'cherry']\n"
     ]
    }
   ],
   "source": [
    "#insert function ---> add an item at the specified position\n",
    "fruits=['apple', 'banana', 'cherry']\n",
    "\n",
    "fruits.insert(1, \"orange\")\n",
    "print(fruits)"
   ]
  },
  {
   "cell_type": "code",
   "execution_count": 12,
   "metadata": {},
   "outputs": [
    {
     "data": {
      "text/plain": [
       "['apple', 'orange', 'banana', 'cherry', 'Almond', 'Cashew', 'Walnut']"
      ]
     },
     "execution_count": 12,
     "metadata": {},
     "output_type": "execute_result"
    }
   ],
   "source": [
    "# extend functions --->   add two lists\n",
    "\n",
    "dry_fruits = ['Almond', 'Cashew', 'Walnut']\n",
    "fruits.extend(dry_fruits)\n",
    "fruits"
   ]
  },
  {
   "cell_type": "code",
   "execution_count": 13,
   "metadata": {},
   "outputs": [
    {
     "data": {
      "text/plain": [
       "['Almond', 'Cashew', 'Walnut', 'apple', 'banana', 'cherry', 'orange']"
      ]
     },
     "execution_count": 13,
     "metadata": {},
     "output_type": "execute_result"
    }
   ],
   "source": [
    "#sort function  ---> sort the list\n",
    "\n",
    "fruits.sort()\n",
    "fruits"
   ]
  },
  {
   "cell_type": "code",
   "execution_count": 14,
   "metadata": {},
   "outputs": [
    {
     "name": "stdout",
     "output_type": "stream",
     "text": [
      "['orange', 'cherry', 'banana', 'apple', 'Walnut', 'Cashew', 'Almond']\n"
     ]
    }
   ],
   "source": [
    "fruits.sort(reverse=True)\n",
    "print(fruits)"
   ]
  },
  {
   "cell_type": "code",
   "execution_count": 28,
   "metadata": {},
   "outputs": [
    {
     "name": "stdout",
     "output_type": "stream",
     "text": [
      "[1, 1, 1, 1, 1, 2, 2, 2, 2, 3, 3, 3, 3, 3]\n",
      "[1, 1, 1, 1, 2, 2, 2, 2, 3, 3, 3, 3, 3]\n"
     ]
    }
   ],
   "source": [
    "# if we try to remove an item that is present in the  list\n",
    "#  else it will crash the whole program\n",
    "x= [1,2,2,3,3,2,3,3,3,1,1,1,1,2]\n",
    "x.sort() \n",
    "print(x)\n",
    "x.remove(1)\n",
    "print(x)  # only applies to one item at a time"
   ]
  },
  {
   "cell_type": "code",
   "execution_count": 27,
   "metadata": {},
   "outputs": [
    {
     "data": {
      "text/plain": [
       "4"
      ]
     },
     "execution_count": 27,
     "metadata": {},
     "output_type": "execute_result"
    }
   ],
   "source": [
    "x.count(1)"
   ]
  },
  {
   "cell_type": "code",
   "execution_count": 16,
   "metadata": {},
   "outputs": [
    {
     "name": "stdout",
     "output_type": "stream",
     "text": [
      "[1, 1, 1, 2, 2, 2, 2, 3, 3, 3, 3, 3]\n",
      "[1, 1, 1, 2, 2, 2, 2, 3, 3, 3, 3, 3]\n"
     ]
    }
   ],
   "source": [
    "if 1 in x:\n",
    "    x.remove(1)\n",
    "print(x)\n",
    "if 4 in x:\n",
    "    x.remove(4)\n",
    "print(x)"
   ]
  },
  {
   "cell_type": "code",
   "execution_count": 23,
   "metadata": {},
   "outputs": [
    {
     "name": "stdout",
     "output_type": "stream",
     "text": [
      "['Legion', 'Legion: Skin Deep', 'Steelheart', 'Calamity', 'The Final Empire', 'The well of Ascension', 'The Hero of Ages', 'Way of the kingsOathbreakerWords of Radiance', 'Warbreaker']\n"
     ]
    }
   ],
   "source": [
    "books.reverse()   # it just reverses the list\n",
    "print(books)  # internally reverses the data that is changes the data"
   ]
  },
  {
   "cell_type": "code",
   "execution_count": 31,
   "metadata": {},
   "outputs": [
    {
     "data": {
      "text/plain": [
       "4"
      ]
     },
     "execution_count": 31,
     "metadata": {},
     "output_type": "execute_result"
    }
   ],
   "source": [
    "# index()\n",
    "\n",
    "movies= [\n",
    "    'Ghostbusters: Afterlife',\n",
    "    'Spider-Man: No way Home',\n",
    "    \"Shang-chi\",\n",
    "    'The last duel',\n",
    "    'Venom: Let there be Carnage'\n",
    "]\n",
    "\n",
    "movies.index('Venom: Let there be Carnage')"
   ]
  },
  {
   "cell_type": "markdown",
   "metadata": {},
   "source": [
    "mean,  median, min, max, std"
   ]
  },
  {
   "cell_type": "code",
   "execution_count": 1,
   "metadata": {},
   "outputs": [
    {
     "name": "stdout",
     "output_type": "stream",
     "text": [
      "3.6666666666666665\n",
      "3\n",
      "1\n",
      "7\n"
     ]
    }
   ],
   "source": [
    "x = [2,4,6,7,3,2,1,2,5,4,3,2,1,6,7]\n",
    "# mean\n",
    "mean = sum(x)/len(x)\n",
    "print(mean)\n",
    "\n",
    "# median\n",
    "x.sort()\n",
    "if len(x) % 2 == 0:\n",
    "    median = (x[len(x)//2] + x[len(x)//2 - 1])/2\n",
    "else:\n",
    "    median = x[len(x)//2]\n",
    "print(median)\n",
    "\n",
    "# min\n",
    "print(min(x))\n",
    "\n",
    "# max\n",
    "print(max(x))\n",
    "\n",
    "# std\n",
    "# ?"
   ]
  },
  {
   "cell_type": "code",
   "execution_count": 5,
   "metadata": {},
   "outputs": [
    {
     "name": "stdout",
     "output_type": "stream",
     "text": [
      "[4, 4, 4]\n"
     ]
    }
   ],
   "source": [
    "# we have to add the lists a, b and append then in another list\n",
    "a=[1,2,3]\n",
    "b=[3,2,1]\n",
    "c=[]  #empty\n",
    "\n",
    "for i in range (len(a)):\n",
    "    c.append(a[i]+b[i])\n",
    "\n",
    "print(c)"
   ]
  },
  {
   "cell_type": "code",
   "execution_count": 9,
   "metadata": {},
   "outputs": [
    {
     "name": "stdout",
     "output_type": "stream",
     "text": [
      "[4, 5, 4]\n"
     ]
    }
   ],
   "source": [
    "#OR \n",
    "# we have to add the lists element wise from a, b and produce in another list\n",
    "a=[1,2,3]\n",
    "b=[3,3,1]\n",
    "c=[] \n",
    "\n",
    "for i,j in zip(a,b):\n",
    "    c.append(i+j)\n",
    "\n",
    "print(c)\n"
   ]
  },
  {
   "cell_type": "code",
   "execution_count": 17,
   "metadata": {},
   "outputs": [
    {
     "name": "stdout",
     "output_type": "stream",
     "text": [
      "[1, 2, 3]\n",
      "[1, 4, 9]\n"
     ]
    }
   ],
   "source": [
    "#create a list where empty element is a square\n",
    "#of elements from an existing list\n",
    "a=[1,2,3]\n",
    "\n",
    "c=[] \n",
    "\n",
    "for i in a:\n",
    "    c.append(i**2)\n",
    "print(a)\n",
    "print(c)\n"
   ]
  },
  {
   "cell_type": "code",
   "execution_count": 9,
   "metadata": {},
   "outputs": [
    {
     "name": "stdout",
     "output_type": "stream",
     "text": [
      "[1, 2, 3, 4, 6, 5, 7]\n",
      "[1, 9, 25, 49]\n"
     ]
    }
   ],
   "source": [
    "#create a list where every \"odd\" element is a square\n",
    "# of elements from an existing list\n",
    "\n",
    "a=[1,2,3,4,6,5,7]\n",
    "\n",
    "#c=[] \n",
    "\n",
    "#for i in a:\n",
    " #   if(i%2!=0):\n",
    "  #      c.append(i**2)\n",
    "\n",
    "c = [i**2 for i in a if i%2 != 0]\n",
    "print(a)\n",
    "print(c)"
   ]
  },
  {
   "cell_type": "code",
   "execution_count": 1,
   "metadata": {},
   "outputs": [],
   "source": [
    "# create a abbrviation list from an \n",
    "# existing list of words\n",
    "\n",
    "words = ['United State','Project Manager','Software Engineer','Data Analyst',\n",
    "'Senior Software Engineer','Senior Data Analyst','Data Scientist','Data Engineer']\n",
    "\n",
    "# abbrs = ['US','PM','SE','DA','SSE','SDA','DS','DE']\n",
    "abbrs = []\n",
    "for names in words:\n",
    "    ans = ''\n",
    "    for word in names.split():\n",
    "        ans += word[0]\n",
    "    abbrs.append(ans)\n",
    "print(abbrs)\n",
    "\n"
   ]
  },
  {
   "cell_type": "code",
   "execution_count": null,
   "metadata": {},
   "outputs": [],
   "source": [
    "# take a list from user in one line of input and then \n",
    "# remove all the non numeric values from the list\n",
    "# then display the cubes of numbers from that list\n",
    "# 10 min break\n",
    "\n",
    "entries = input('enter data seperated with space: ')\n",
    "print(entries)\n",
    "# numeric_entries = []\n",
    "# for value in entries.split():\n",
    "#     if value.isnumeric():\n",
    "#         numeric_entries.append(int(value))\n",
    "numeric_entries =[ int(value) for value in entries.split() if value.isnumeric()]\n",
    "print(numeric_entries)\n",
    "# cubes of numbers\n",
    "cubes = [i**3 for i in numeric_entries]\n",
    "print(cubes)"
   ]
  },
  {
   "cell_type": "markdown",
   "metadata": {},
   "source": [
    "# list comprehension\n",
    "is a way to create a list from existing list using one line of expression\n",
    "\n",
    "- syntax\n",
    "  newlist = [expression for item in oldlist]\n",
    "- with condition syntax\n",
    "  newlist = [expression for item in oldlist if condition]"
   ]
  }
 ],
 "metadata": {
  "kernelspec": {
   "display_name": "Python 3.9.12 ('base')",
   "language": "python",
   "name": "python3"
  },
  "language_info": {
   "codemirror_mode": {
    "name": "ipython",
    "version": 3
   },
   "file_extension": ".py",
   "mimetype": "text/x-python",
   "name": "python",
   "nbconvert_exporter": "python",
   "pygments_lexer": "ipython3",
   "version": "3.9.12"
  },
  "orig_nbformat": 4,
  "vscode": {
   "interpreter": {
    "hash": "ca8e1a675551e31a69bb80ae3f26b36ced6340b5d3941929fb9de856c408906a"
   }
  }
 },
 "nbformat": 4,
 "nbformat_minor": 2
}
