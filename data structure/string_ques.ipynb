{
 "cells": [
  {
   "cell_type": "markdown",
   "metadata": {},
   "source": [
    "# PYTHON STRINGS\n",
    "- 1. Create a string and print it.\n",
    "- 2. Take a string input and print it's length.\n",
    "- 3. Print the last word of the string 'Python is great' using slices.\n",
    "- 4. Print the each word in different line of string 'python is everywhere'.\n",
    "- 5. Print the string 'Hello World!' in reverse.\n",
    "- 6. Convert the string 'How are you?' in uppercase.\n",
    "- 7. Convert the string 'How Is It Going?' in lowercase.\n",
    "- 8. Join the following list by spaces( ) and print the result.\n",
    "words = ['Python', 'is', 'easy', 'to', 'learn']\n",
    "- 9. Print a multiline string using a single 'print'\n",
    "- 10. Print this string \"to move to newline '\\n' is used.\" (results should look exactly like the provided string).\n",
    "- 11. Print a variable with some text using a single print function, output should look like following.\n",
    "'the variable is 15'\n",
    "- 12. concatenate the following strings and print the result\n",
    "s1 = 'python '\n",
    "s2 = 'is '\n",
    "s3 = 'great.'\n",
    "- 13. Print \"#\" 20 times without using a loop.\n",
    "- 14. Print numbers from 1 to 9, each on a seperate line, followed by a dot, output should look like the following-\n",
    "1.\n",
    "2.\n",
    "3.\n",
    "- 15. Ask user to input a sentence and print each word on a different line.\n",
    "- 16. Ask user to input a string and check if the string ends with '?'\n",
    "- 17. Ask user to input a string and print how many times e appeared in the string\n",
    "- 18. Check if the user input is a number.\n",
    "- 19. Remove the extra spaces in beginning and in the end of the following string-\n",
    "text = '   this is not a good string           '\n",
    "- 20. Ask user to input string, print 'found' if any of the character is upper case.\n",
    "- 21. Extract names from the following string and store them in a list.\n",
    "names = 'Joe, David, Mark, Tom, Chris, Robert'\n",
    "- 22. In the following string, add 'aye' in the end of every word and print the results.\n",
    "text = 'this is some text'\n",
    "- 23. ask user to enter a string and check if the string contains 'fyi'.\n",
    "- 24. Remove all the special characters and numbers from the following string\n",
    "text = '%p34@y!*-*!t68h#&on404'\n",
    "- 25. calculate the average word length of the following paragraph.\n",
    "'this is a paragraph which is written just for the purpose of providing content to let the average word length be calculated'"
   ]
  },
  {
   "cell_type": "markdown",
   "metadata": {},
   "source": [
    " ### Question\\n\n",
    "- Remove all the vowels from a string that is provided by the user.\n",
    "- Count all the vowels in a string that is provided by the user.\n",
    "- Count all the word occurences in a string that is provided by the user.\n",
    "- Find all the indexes of a word in a string.\n",
    "- remove every occurence of a word in a string.\n",
    "- remove all the spaces from a string.\n",
    "- replace every vowels with following logic : a -> 1, e -> 2, i -> 3, o -> 4, u -> 5."
   ]
  },
  {
   "cell_type": "code",
   "execution_count": 2,
   "metadata": {},
   "outputs": [
    {
     "name": "stdout",
     "output_type": "stream",
     "text": [
      "bbdsv 4 fffrr\n"
     ]
    }
   ],
   "source": [
    "# removing all the vowels\n",
    "msg = input(\"enter something: \")\n",
    "for v in 'aieouAEIOU':\n",
    "    msg = msg.replace(v,'')\n",
    "print(msg)"
   ]
  },
  {
   "cell_type": "code",
   "execution_count": 7,
   "metadata": {},
   "outputs": [
    {
     "name": "stdout",
     "output_type": "stream",
     "text": [
      "i that the that the i not the\n",
      "i => 2\n",
      "not => 1\n",
      "the => 3\n",
      "that => 2\n"
     ]
    }
   ],
   "source": [
    "msg = input(\"enter something: \")\n",
    "print(msg)\n",
    "words = set(msg.split())\n",
    "for w in words:\n",
    "    c = msg.count(w)\n",
    "    print(w,'=>',c)"
   ]
  },
  {
   "cell_type": "code",
   "execution_count": 8,
   "metadata": {},
   "outputs": [
    {
     "name": "stdout",
     "output_type": "stream",
     "text": [
      "an found at position 8\n",
      "an found at position 22\n",
      "an found at position 62\n"
     ]
    }
   ],
   "source": [
    "story = '''This is an example of another story,\n",
    "this story is not simple and is not very long,\n",
    "but it is a story'''\n",
    "\n",
    "q = input(\"enter search term: \")\n",
    "start = 0\n",
    "while True:\n",
    "    idx = story.find(q,start)\n",
    "    if idx == -1:\n",
    "        break\n",
    "    print(f'{q} found at position {idx}')\n",
    "    start = idx + 1"
   ]
  },
  {
   "cell_type": "code",
   "execution_count": 9,
   "metadata": {},
   "outputs": [
    {
     "name": "stdout",
     "output_type": "stream",
     "text": [
      "Th3s 3s 1n 2x1mpl2 4f 1n4th2r st4ry,\n",
      "th3s st4ry 3s n4t s3mpl2 1nd 3s n4t v2ry l4ng,\n",
      "b5t 3t 3s 1 st4ry\n"
     ]
    }
   ],
   "source": [
    "story = '''This is an example of another story,\n",
    "this story is not simple and is not very long,\n",
    "but it is a story'''\n",
    "\n",
    "for v in \"aieouAEIOU\":\n",
    "    if v == 'a' or v == 'A':\n",
    "        story = story.replace(v,'1')\n",
    "    if v == 'e' or v == 'E':\n",
    "        story = story.replace(v,'2')\n",
    "    if v == 'i' or v == 'I':\n",
    "        story = story.replace(v,'3')\n",
    "    if v == 'o' or v == 'O':\n",
    "        story = story.replace(v,'4')\n",
    "    if v == 'u' or v == 'U':\n",
    "        story = story.replace(v,'5')\n",
    "print(story)\n"
   ]
  }
 ],
 "metadata": {
  "kernelspec": {
   "display_name": "Python 3.9.12 ('base')",
   "language": "python",
   "name": "python3"
  },
  "language_info": {
   "codemirror_mode": {
    "name": "ipython",
    "version": 3
   },
   "file_extension": ".py",
   "mimetype": "text/x-python",
   "name": "python",
   "nbconvert_exporter": "python",
   "pygments_lexer": "ipython3",
   "version": "3.9.12"
  },
  "orig_nbformat": 4,
  "vscode": {
   "interpreter": {
    "hash": "ca8e1a675551e31a69bb80ae3f26b36ced6340b5d3941929fb9de856c408906a"
   }
  }
 },
 "nbformat": 4,
 "nbformat_minor": 2
}
