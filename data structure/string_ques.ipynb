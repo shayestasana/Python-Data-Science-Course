{
 "cells": [
  {
   "cell_type": "markdown",
   "metadata": {},
   "source": [
    "# PYTHON STRINGS\n",
    "- 1. Create a string and print it.\n",
    "- 2. Take a string input and print it's length.\n",
    "- 3. Print the last word of the string 'Python is great' using slices.\n",
    "- 4. Print the each word in different line of string 'python is everywhere'.\n",
    "- 5. Print the string 'Hello World!' in reverse.\n",
    "- 6. Convert the string 'How are you?' in uppercase.\n",
    "- 7. Convert the string 'How Is It Going?' in lowercase.\n",
    "- 8. Join the following list by spaces( ) and print the result.\n",
    "words = ['Python', 'is', 'easy', 'to', 'learn']\n",
    "- 9. Print a multiline string using a single 'print'\n",
    "- 10. Print this string \"to move to newline '\\n' is used.\" (results should look exactly like the provided string).\n",
    "- 11. Print a variable with some text using a single print function, output should look like following.\n",
    "'the variable is 15'\n",
    "- 12. concatenate the following strings and print the result\n",
    "s1 = 'python '\n",
    "s2 = 'is '\n",
    "s3 = 'great.'\n",
    "- 13. Print \"#\" 20 times without using a loop.\n",
    "- 14. Print numbers from 1 to 9, each on a seperate line, followed by a dot, output should look like the following-\n",
    "1.\n",
    "2.\n",
    "3.\n",
    "\n",
    "- 15. Ask user to input a sentence and print each word on a different line.\n",
    "- 16. Ask user to input a string and check if the string ends with '?'\n",
    "- 17. Ask user to input a string and print how many times 'e' appeared in the string.\n",
    "- 18. Check if the user input is a number.\n",
    "- 19. Remove the extra spaces in beginning and in the end of the following string-\n",
    "text = '   this is not a good string           '\n",
    "- 20. Ask user to input string, print 'found' if any of the character is upper case.\n",
    "- 21. Extract names from the following string and store them in a list.\n",
    "names = 'Joe, David, Mark, Tom, Chris, Robert'\n",
    "- 22. In the following string, add 'aye' in the end of every word and print the results.\n",
    "text = 'this is some text'\n",
    "- 23. ask user to enter a string and check if the string contains 'fyi'.\n",
    "- 24. Remove all the special characters and numbers from the following string\n",
    "text = '%p34@y!*-*!t68h#&on404'\n",
    "- 25. calculate the average word length of the following paragraph.\n",
    "'this is a paragraph which is written just for the purpose of providing content to let the average word length be calculated'"
   ]
  },
  {
   "cell_type": "code",
   "execution_count": null,
   "metadata": {},
   "outputs": [],
   "source": []
  }
 ],
 "metadata": {
  "kernelspec": {
   "display_name": "Python 3.9.12 ('base')",
   "language": "python",
   "name": "python3"
  },
  "language_info": {
   "name": "python",
   "version": "3.9.12"
  },
  "orig_nbformat": 4,
  "vscode": {
   "interpreter": {
    "hash": "ca8e1a675551e31a69bb80ae3f26b36ced6340b5d3941929fb9de856c408906a"
   }
  }
 },
 "nbformat": 4,
 "nbformat_minor": 2
}
