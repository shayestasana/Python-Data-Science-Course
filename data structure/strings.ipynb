{
 "cells": [
  {
   "cell_type": "markdown",
   "metadata": {},
   "source": [
    "# Sring Operations"
   ]
  },
  {
   "cell_type": "code",
   "execution_count": 1,
   "metadata": {},
   "outputs": [
    {
     "name": "stdout",
     "output_type": "stream",
     "text": [
      "applejuice\n"
     ]
    }
   ],
   "source": [
    "#cocatenation\n",
    "a='apple'\n",
    "b='juice'\n",
    "ab=a+b\n",
    "print(ab)"
   ]
  },
  {
   "cell_type": "code",
   "execution_count": 2,
   "metadata": {},
   "outputs": [
    {
     "name": "stdout",
     "output_type": "stream",
     "text": [
      "thisisAmazing\n"
     ]
    }
   ],
   "source": [
    "w1='this'\n",
    "w2='is'\n",
    "w3='Amazing'\n",
    "msg=w1+w2+w3\n",
    "print(msg)"
   ]
  },
  {
   "cell_type": "code",
   "execution_count": 3,
   "metadata": {},
   "outputs": [
    {
     "name": "stdout",
     "output_type": "stream",
     "text": [
      "this is Amazing\n"
     ]
    }
   ],
   "source": [
    "msg=w1+' '+w2+' '+w3\n",
    "print(msg)"
   ]
  },
  {
   "cell_type": "code",
   "execution_count": 5,
   "metadata": {},
   "outputs": [
    {
     "name": "stdout",
     "output_type": "stream",
     "text": [
      "HiHiHi\n"
     ]
    }
   ],
   "source": [
    "#string duplication\n",
    "word='Hi'\n",
    "print(word*3)"
   ]
  },
  {
   "cell_type": "code",
   "execution_count": 6,
   "metadata": {},
   "outputs": [
    {
     "name": "stdout",
     "output_type": "stream",
     "text": [
      " * \n",
      " *  * \n",
      " *  *  * \n",
      " *  *  *  * \n",
      " *  *  *  *  * \n"
     ]
    }
   ],
   "source": [
    "for i in range(1,6):\n",
    "    print(i * ' * ')"
   ]
  },
  {
   "cell_type": "code",
   "execution_count": 7,
   "metadata": {},
   "outputs": [
    {
     "name": "stdout",
     "output_type": "stream",
     "text": [
      " $  $  $  $  $  $ \n",
      " $  $  $  $  $ \n",
      " $  $  $  $ \n",
      " $  $  $ \n",
      " $  $ \n",
      " $ \n"
     ]
    }
   ],
   "source": [
    "for i in range(6,0, -1):\n",
    "    print(i * ' $ ')"
   ]
  },
  {
   "cell_type": "code",
   "execution_count": 1,
   "metadata": {},
   "outputs": [],
   "source": [
    "name=\"Alex Mason\"\n",
    "age=40\n",
    "items=['Apple', 'Banana', 'Cherry']"
   ]
  },
  {
   "cell_type": "markdown",
   "metadata": {},
   "source": [
    "# Formatting functions\n"
   ]
  },
  {
   "cell_type": "code",
   "execution_count": 2,
   "metadata": {},
   "outputs": [],
   "source": [
    "name.count   # \".\" dot specifies the function related to that variable\n",
    "msg= \"This Is A message from VERY imporTANT person\""
   ]
  },
  {
   "cell_type": "code",
   "execution_count": 3,
   "metadata": {},
   "outputs": [
    {
     "name": "stdout",
     "output_type": "stream",
     "text": [
      "THIS IS A MESSAGE FROM VERY IMPORTANT PERSON\n",
      "this is a message from very important person\n",
      "This Is A Message From Very Important Person - title()\n",
      "This is a message from very important person - capitalize()\n",
      "this is a message from very important person - casefold()\n",
      "tHIS iS a MESSAGE FROM very IMPORtant PERSON\n",
      "This Is A message from VERY imporTANT person\n"
     ]
    }
   ],
   "source": [
    "print(msg.upper())\n",
    "print(msg.lower())\n",
    "print(msg.title(), \"- title()\")\n",
    "print(msg.capitalize(), \"- capitalize()\")   # it makes the first letter of sentence CAPITALS\n",
    "print(msg.casefold(), \"- casefold()\")   #is same as lower() function\n",
    "print(msg.swapcase())  #it swaps capital to small and small to capital\n",
    "print(msg)"
   ]
  },
  {
   "cell_type": "code",
   "execution_count": 4,
   "metadata": {},
   "outputs": [
    {
     "name": "stdout",
     "output_type": "stream",
     "text": [
      "THIS IS A MESSAGE FROM VERY IMPORTANT PERSON\n",
      "this is a message from very important person\n"
     ]
    }
   ],
   "source": [
    "msg= msg.upper()\n",
    "print(msg)\n",
    "msg= msg.lower()\n",
    "print(msg)"
   ]
  },
  {
   "cell_type": "code",
   "execution_count": 5,
   "metadata": {},
   "outputs": [
    {
     "data": {
      "text/plain": [
       "44"
      ]
     },
     "execution_count": 5,
     "metadata": {},
     "output_type": "execute_result"
    }
   ],
   "source": [
    "len(msg)"
   ]
  },
  {
   "cell_type": "code",
   "execution_count": 6,
   "metadata": {},
   "outputs": [
    {
     "name": "stdout",
     "output_type": "stream",
     "text": [
      "this is a message from very important person\n",
      "this is a message from very important person                                    \n"
     ]
    }
   ],
   "source": [
    "print(msg)\n",
    "print(msg.ljust(80))   #left alignment and 80 specifies the space it gets "
   ]
  },
  {
   "cell_type": "code",
   "execution_count": 7,
   "metadata": {},
   "outputs": [
    {
     "name": "stdout",
     "output_type": "stream",
     "text": [
      "                                    this is a message from very important person\n"
     ]
    }
   ],
   "source": [
    "print(msg.rjust(80))  # according to 80 space it adjusts to right alignment"
   ]
  },
  {
   "cell_type": "code",
   "execution_count": 9,
   "metadata": {},
   "outputs": [
    {
     "name": "stdout",
     "output_type": "stream",
     "text": [
      "                  this is a message from very important person                  \n"
     ]
    }
   ],
   "source": [
    "print(msg.center(80))   #center alignment"
   ]
  },
  {
   "cell_type": "code",
   "execution_count": 1,
   "metadata": {},
   "outputs": [],
   "source": [
    "long_msg='''\n",
    "Visual Studio Code is a lightweight \n",
    "but powerful source code editor which \n",
    "runs on your desktop and is available \n",
    "for Windows, macOS and Linux. \n",
    "It comes with built-in support for JavaScript, \n",
    "TypeScript and Node.js and has a rich ecosystem \n",
    "of extensions for other languages and runtimes\n",
    "'''"
   ]
  },
  {
   "cell_type": "code",
   "execution_count": 2,
   "metadata": {},
   "outputs": [
    {
     "name": "stdout",
     "output_type": "stream",
     "text": [
      "\n",
      "Visual Studio Code is a lightweight \n",
      "but powerful source code editor which \n",
      "runs on your desktop and is available \n",
      "for Windows, macOS and Linux. \n",
      "It comes with built-in support for JavaScript, \n",
      "TypeScript and Node.js and has a rich ecosystem \n",
      "of extensions for other languages and runtimes\n",
      "\n"
     ]
    }
   ],
   "source": [
    "print(long_msg.center(100))  # alignment doesn't work in multiple line string"
   ]
  },
  {
   "cell_type": "code",
   "execution_count": 13,
   "metadata": {},
   "outputs": [
    {
     "data": {
      "text/plain": [
       "'\\nVisual Studio Code is a lightweight\\nbut powerful source code editor which\\nruns on your desktop and is availabe\\nfor Windows, MacOS and Linux\\n'"
      ]
     },
     "execution_count": 13,
     "metadata": {},
     "output_type": "execute_result"
    }
   ],
   "source": [
    "long_msg"
   ]
  },
  {
   "cell_type": "code",
   "execution_count": 3,
   "metadata": {},
   "outputs": [
    {
     "data": {
      "text/plain": [
       "['Visual',\n",
       " 'Studio',\n",
       " 'Code',\n",
       " 'is',\n",
       " 'a',\n",
       " 'lightweight',\n",
       " 'but',\n",
       " 'powerful',\n",
       " 'source',\n",
       " 'code',\n",
       " 'editor',\n",
       " 'which',\n",
       " 'runs',\n",
       " 'on',\n",
       " 'your',\n",
       " 'desktop',\n",
       " 'and',\n",
       " 'is',\n",
       " 'available',\n",
       " 'for',\n",
       " 'Windows,',\n",
       " 'macOS',\n",
       " 'and',\n",
       " 'Linux.',\n",
       " 'It',\n",
       " 'comes',\n",
       " 'with',\n",
       " 'built-in',\n",
       " 'support',\n",
       " 'for',\n",
       " 'JavaScript,',\n",
       " 'TypeScript',\n",
       " 'and',\n",
       " 'Node.js',\n",
       " 'and',\n",
       " 'has',\n",
       " 'a',\n",
       " 'rich',\n",
       " 'ecosystem',\n",
       " 'of',\n",
       " 'extensions',\n",
       " 'for',\n",
       " 'other',\n",
       " 'languages',\n",
       " 'and',\n",
       " 'runtimes']"
      ]
     },
     "execution_count": 3,
     "metadata": {},
     "output_type": "execute_result"
    }
   ],
   "source": [
    "long_msg.split()    #by default split function takes 'space' as the separator"
   ]
  },
  {
   "cell_type": "code",
   "execution_count": 4,
   "metadata": {},
   "outputs": [
    {
     "data": {
      "text/plain": [
       "['',\n",
       " 'Visual Studio Code is a lightweight ',\n",
       " 'but powerful source code editor which ',\n",
       " 'runs on your desktop and is available ',\n",
       " 'for Windows, macOS and Linux. ',\n",
       " 'It comes with built-in support for JavaScript, ',\n",
       " 'TypeScript and Node.js and has a rich ecosystem ',\n",
       " 'of extensions for other languages and runtimes',\n",
       " '']"
      ]
     },
     "execution_count": 4,
     "metadata": {},
     "output_type": "execute_result"
    }
   ],
   "source": [
    "long_msg.split('\\n') "
   ]
  },
  {
   "cell_type": "code",
   "execution_count": 5,
   "metadata": {},
   "outputs": [
    {
     "data": {
      "text/plain": [
       "['\\nVisual Studio Cod',\n",
       " ' is a lightw',\n",
       " 'ight \\nbut pow',\n",
       " 'rful sourc',\n",
       " ' cod',\n",
       " ' ',\n",
       " 'ditor which \\nruns on your d',\n",
       " 'sktop and is availabl',\n",
       " ' \\nfor Windows, macOS and Linux. \\nIt com',\n",
       " 's with built-in support for JavaScript, \\nTyp',\n",
       " 'Script and Nod',\n",
       " '.js and has a rich ',\n",
       " 'cosyst',\n",
       " 'm \\nof ',\n",
       " 'xt',\n",
       " 'nsions for oth',\n",
       " 'r languag',\n",
       " 's and runtim',\n",
       " 's\\n']"
      ]
     },
     "execution_count": 5,
     "metadata": {},
     "output_type": "execute_result"
    }
   ],
   "source": [
    "long_msg.split('e') "
   ]
  },
  {
   "cell_type": "code",
   "execution_count": 6,
   "metadata": {},
   "outputs": [
    {
     "name": "stdout",
     "output_type": "stream",
     "text": [
      "                                                                                                                                  \n",
      "                                               Visual Studio Code is a lightweight                                                \n",
      "                                              but powerful source code editor which                                               \n",
      "                                              runs on your desktop and is available                                               \n",
      "                                                  for Windows, macOS and Linux.                                                   \n",
      "                                         It comes with built-in support for JavaScript,                                           \n",
      "                                         TypeScript and Node.js and has a rich ecosystem                                          \n",
      "                                          of extensions for other languages and runtimes                                          \n",
      "                                                                                                                                  \n"
     ]
    }
   ],
   "source": [
    "for line in long_msg.split('\\n'):      # for center alignment of multiple line string\n",
    "    print(line.center(130))"
   ]
  },
  {
   "cell_type": "code",
   "execution_count": 17,
   "metadata": {},
   "outputs": [
    {
     "data": {
      "text/plain": [
       "['this', 'is', 'a', 'message', 'from very important person']"
      ]
     },
     "execution_count": 17,
     "metadata": {},
     "output_type": "execute_result"
    }
   ],
   "source": [
    "msg.split(maxsplit=4)"
   ]
  },
  {
   "cell_type": "code",
   "execution_count": 19,
   "metadata": {},
   "outputs": [
    {
     "data": {
      "text/plain": [
       "['this is a message', 'from', 'very', 'important', 'person']"
      ]
     },
     "execution_count": 19,
     "metadata": {},
     "output_type": "execute_result"
    }
   ],
   "source": [
    "msg.rsplit(maxsplit=4)  # splitting from reverse/end of the sentence -- rsplit()"
   ]
  },
  {
   "cell_type": "code",
   "execution_count": 7,
   "metadata": {},
   "outputs": [
    {
     "name": "stdout",
     "output_type": "stream",
     "text": [
      "13   alexander  \n",
      "9 alexander\n"
     ]
    }
   ],
   "source": [
    "name=input('What is your name? ')  #'  alexander  '\n",
    "print(len(name), name)\n",
    "name= name.strip()   # strip removes starting and ending 'spaces' if given by the dumb user\n",
    "print(len(name), name)  # "
   ]
  },
  {
   "cell_type": "code",
   "execution_count": 8,
   "metadata": {},
   "outputs": [
    {
     "name": "stdout",
     "output_type": "stream",
     "text": [
      "291\n",
      "289\n"
     ]
    }
   ],
   "source": [
    "print(len(long_msg))\n",
    "long_msg =  long_msg.strip()\n",
    "print(len(long_msg))"
   ]
  },
  {
   "cell_type": "code",
   "execution_count": 24,
   "metadata": {},
   "outputs": [
    {
     "data": {
      "text/plain": [
       "'LA0000003232'"
      ]
     },
     "execution_count": 24,
     "metadata": {},
     "output_type": "execute_result"
    }
   ],
   "source": [
    "data='000000000LA0000003232000000'\n",
    "data.strip('0')  #removes 0 from starting and ending"
   ]
  },
  {
   "cell_type": "code",
   "execution_count": 26,
   "metadata": {},
   "outputs": [
    {
     "name": "stdout",
     "output_type": "stream",
     "text": [
      "this is ----------not --------- good\n",
      "this is ----------not --------- good------------\n",
      "-----------this is ----------not --------- good\n"
     ]
    }
   ],
   "source": [
    "data= '-----------this is ----------not --------- good------------'\n",
    "\n",
    "print(data.strip('-'))\n",
    "print(data.lstrip('-'))  # left strip\n",
    "print(data.rstrip('-'))   # right strip"
   ]
  },
  {
   "cell_type": "code",
   "execution_count": 10,
   "metadata": {},
   "outputs": [
    {
     "name": "stdout",
     "output_type": "stream",
     "text": [
      "Visual Studio Code is a lightweight \n",
      "but powerful source code editor which \n",
      "runs on your desktop and is available \n",
      "for Windows, macOS and Linux. \n",
      "It comes with built-in support for JavaScript, \n",
      "TypeScript and Node.js and has a rich ecosystem \n",
      "of extensions for other languages and runtimes\n",
      "------- updated--------\n",
      "Vosual Studoo Code os a loghtweoght \n",
      "but powerful source code edotor whoch \n",
      "runs on your desktop and os avaolable \n",
      "for Wondows, macOS and Lonux. \n",
      "It comes woth buolt-on support for JavaScropt, \n",
      "TypeScropt and Node.js and has a roch ecosystem \n",
      "of extensoons for other languages and runtomes\n"
     ]
    }
   ],
   "source": [
    "#replace with something else but only replaces a substring not word by word completely\n",
    "print(long_msg)\n",
    "print('------- updated--------')\n",
    "print(long_msg.replace('i',\"o\"))   # replacement is not stored here"
   ]
  },
  {
   "cell_type": "code",
   "execution_count": 28,
   "metadata": {},
   "outputs": [
    {
     "name": "stdout",
     "output_type": "stream",
     "text": [
      "this is not  good\n"
     ]
    }
   ],
   "source": [
    "data= '-----------this is ----------not --------- good------------'\n",
    "data_clean= data.replace('-', '')\n",
    "print(data_clean)"
   ]
  },
  {
   "cell_type": "code",
   "execution_count": 9,
   "metadata": {},
   "outputs": [
    {
     "name": "stdout",
     "output_type": "stream",
     "text": [
      "17\n"
     ]
    }
   ],
   "source": [
    "print(long_msg.count('a'))"
   ]
  },
  {
   "cell_type": "code",
   "execution_count": 11,
   "metadata": {},
   "outputs": [
    {
     "name": "stdout",
     "output_type": "stream",
     "text": [
      "0\n"
     ]
    }
   ],
   "source": [
    "print(long_msg.count('this'))"
   ]
  },
  {
   "cell_type": "code",
   "execution_count": 12,
   "metadata": {},
   "outputs": [
    {
     "name": "stdout",
     "output_type": "stream",
     "text": [
      "1\n"
     ]
    }
   ],
   "source": [
    "print(long_msg.count('Visual'))"
   ]
  }
 ],
 "metadata": {
  "kernelspec": {
   "display_name": "Python 3.9.12 ('base')",
   "language": "python",
   "name": "python3"
  },
  "language_info": {
   "codemirror_mode": {
    "name": "ipython",
    "version": 3
   },
   "file_extension": ".py",
   "mimetype": "text/x-python",
   "name": "python",
   "nbconvert_exporter": "python",
   "pygments_lexer": "ipython3",
   "version": "3.9.12"
  },
  "orig_nbformat": 4,
  "vscode": {
   "interpreter": {
    "hash": "ca8e1a675551e31a69bb80ae3f26b36ced6340b5d3941929fb9de856c408906a"
   }
  }
 },
 "nbformat": 4,
 "nbformat_minor": 2
}
