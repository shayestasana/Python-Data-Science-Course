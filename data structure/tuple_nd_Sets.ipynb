{
 "cells": [
  {
   "cell_type": "code",
   "execution_count": 1,
   "metadata": {},
   "outputs": [
    {
     "name": "stdout",
     "output_type": "stream",
     "text": [
      "(1, 2, 3, 4)\n",
      "<class 'tuple'>\n"
     ]
    }
   ],
   "source": [
    "a= (1,2,3,4)              #tuple is immutable\n",
    "print(a)\n",
    "print(type(a))"
   ]
  },
  {
   "cell_type": "code",
   "execution_count": 2,
   "metadata": {},
   "outputs": [
    {
     "name": "stdout",
     "output_type": "stream",
     "text": [
      "(1, 3, 5, 7)\n",
      "<class 'tuple'>\n"
     ]
    }
   ],
   "source": [
    "b= 1,3,5,7\n",
    "print(b)\n",
    "print(type(b))"
   ]
  },
  {
   "cell_type": "code",
   "execution_count": 3,
   "metadata": {},
   "outputs": [
    {
     "name": "stdout",
     "output_type": "stream",
     "text": [
      "1\n",
      "2\n",
      "3\n",
      "4\n"
     ]
    }
   ],
   "source": [
    "for val in a:\n",
    "    print(val)"
   ]
  },
  {
   "cell_type": "code",
   "execution_count": 17,
   "metadata": {},
   "outputs": [
    {
     "name": "stdout",
     "output_type": "stream",
     "text": [
      "('e', 'b', 'd', 'w', 'r')\n"
     ]
    }
   ],
   "source": [
    "my_tuple = ('e', 'b','d', 'w', 'r', 'y')\n",
    "print(my_tuple[:5])   #slicing"
   ]
  },
  {
   "cell_type": "code",
   "execution_count": 5,
   "metadata": {},
   "outputs": [
    {
     "name": "stdout",
     "output_type": "stream",
     "text": [
      "(1, 2, 3, 4, 5, 6)\n"
     ]
    }
   ],
   "source": [
    "print((1,2,3)+(4,5,6))   #concatenation"
   ]
  },
  {
   "cell_type": "code",
   "execution_count": 6,
   "metadata": {},
   "outputs": [
    {
     "name": "stdout",
     "output_type": "stream",
     "text": [
      "('Repeat', 'Repeat', 'Repeat')\n"
     ]
    }
   ],
   "source": [
    "print((\"Repeat\",) * 3)"
   ]
  },
  {
   "cell_type": "code",
   "execution_count": 18,
   "metadata": {},
   "outputs": [
    {
     "name": "stdout",
     "output_type": "stream",
     "text": [
      "2\n",
      "5\n"
     ]
    }
   ],
   "source": [
    "#functions\n",
    "my_tuple = ('e', 'b','d', 'w','w', 'r', 'y')\n",
    "print(my_tuple.count('w'))    # count function\n",
    "print(my_tuple.index('r'))     # index function"
   ]
  },
  {
   "cell_type": "code",
   "execution_count": 13,
   "metadata": {},
   "outputs": [
    {
     "name": "stdout",
     "output_type": "stream",
     "text": [
      "[1, 2, 3, 4]\n"
     ]
    }
   ],
   "source": [
    "#convert tuple to list .... it is interconvertible\n",
    "al= list(a)\n",
    "print(al)"
   ]
  },
  {
   "cell_type": "code",
   "execution_count": 15,
   "metadata": {},
   "outputs": [
    {
     "name": "stdout",
     "output_type": "stream",
     "text": [
      "[2, 3, 12, 312, 31, 32, 123]\n",
      "(2, 3, 12, 312, 31, 32, 123)\n"
     ]
    }
   ],
   "source": [
    "#convert list to tuple\n",
    "val= [2,3,12,312,31,32,123]\n",
    "print(val)\n",
    "valt=tuple(val)\n",
    "print(valt)\n",
    "\n"
   ]
  },
  {
   "cell_type": "code",
   "execution_count": 1,
   "metadata": {},
   "outputs": [
    {
     "name": "stdout",
     "output_type": "stream",
     "text": [
      "{1, 2, 3, 4, 5, 6, 7, 8, 9, 10}\n",
      "<class 'set'>\n",
      "{1, 2, 3, 4, 5, 6, 7, 8, 9, 10}\n",
      "[1, 2, 3, 4, 5, 6, 7, 8, 9, 10]\n",
      "(1, 2, 3, 4, 5, 6, 7, 8, 9, 10)\n",
      "{1, 2, 3}\n",
      "{1, 2, 3, 4, 5}\n"
     ]
    }
   ],
   "source": [
    "s1 = {1,2,3,4,5,6,7,8,9,10,1,1}\n",
    "print(s1)\n",
    "print(type(s1))\n",
    "print(s1)\n",
    "sl = list(s1)        # set to list\n",
    "print(sl)\n",
    "st = tuple(s1)       # set to tuple\n",
    "print(st)\n",
    "a = set([1,2,3,3,3,1,1]) # list to set\n",
    "print(a)\n",
    "b = set((2,1,2,2,3,4,4,5)) # tuple to set\n",
    "print(b)\n"
   ]
  },
  {
   "cell_type": "markdown",
   "metadata": {},
   "source": [
    "# SETS\n"
   ]
  },
  {
   "cell_type": "code",
   "execution_count": 16,
   "metadata": {},
   "outputs": [
    {
     "name": "stdout",
     "output_type": "stream",
     "text": [
      "{1, 2, 3}\n"
     ]
    }
   ],
   "source": [
    "#a set is an unordered collection of items.\n",
    "# every set element is unique (no duplicates)\n",
    "#a set itself is a immutable but some operations can be performed---> add, update, remove, discard, pop, clear\n",
    "my_set={1,2,3}\n",
    "print(my_set)"
   ]
  },
  {
   "cell_type": "code",
   "execution_count": 31,
   "metadata": {},
   "outputs": [
    {
     "name": "stdout",
     "output_type": "stream",
     "text": [
      "{1, 2, 3}\n",
      "<class 'set'>\n",
      "{1, 2, 3}\n",
      "{1, 2, 3, 4}\n",
      "{1, 2, 3, 4, 5, 6, 8}\n"
     ]
    }
   ],
   "source": [
    "my_set1= set([1,2,3,2])    #here set function is used\n",
    "print(my_set1)\n",
    "print(type(my_set1))\n",
    "\n",
    "my_set1.add(2)\n",
    "print(my_set1)\n",
    "\n",
    "my_set1.update([2,3,4])\n",
    "print(my_set1)\n",
    "\n",
    "my_set1.update([4,5], {1,6,8})  # it inserts the elements and removes dulicate elements... and sorts it\n",
    "print(my_set1)\n",
    "\n",
    "#my_set2={1,2,3,[4,5]} #---> set cannot have mutable items .....here [4,5]is a mutable list\n",
    "#print(my_set2)"
   ]
  },
  {
   "cell_type": "code",
   "execution_count": 32,
   "metadata": {},
   "outputs": [
    {
     "name": "stdout",
     "output_type": "stream",
     "text": [
      "{1, 2, 3, 4, 5, 8}\n",
      "{1, 2, 3, 5, 8}\n",
      "{2, 3, 5, 8}\n",
      "set()\n"
     ]
    }
   ],
   "source": [
    "#operations --> discard and pop are same\n",
    "my_set1.remove(6)    # removes an particular element\n",
    "print(my_set1)\n",
    "\n",
    "my_set1.discard(4)     # discards or removes an element\n",
    "print(my_set1)\n",
    "\n",
    "my_set1.pop()      #pops a random item\n",
    "print(my_set1)\n",
    "\n",
    "my_set1.clear()      # clears the set completely\n",
    "print(my_set1)\n"
   ]
  },
  {
   "cell_type": "markdown",
   "metadata": {},
   "source": [
    "- UNION\n"
   ]
  },
  {
   "cell_type": "code",
   "execution_count": 46,
   "metadata": {},
   "outputs": [
    {
     "name": "stdout",
     "output_type": "stream",
     "text": [
      "{1, 2, 3, 4, 5, 6, 7, 8}\n",
      "{1, 2, 3, 4, 5, 6, 7, 8}\n",
      "{1, 2, 3, 4, 5, 6, 7, 8}\n"
     ]
    }
   ],
   "source": [
    "# union operation\n",
    "\n",
    "A={1,2,3,4,5}\n",
    "B={4,5,6,7,8}\n",
    "print(A | B)   #Union is performed\n",
    "#some other ways\n",
    "print(A.union(B))\n",
    "print(B.union(A))"
   ]
  },
  {
   "cell_type": "markdown",
   "metadata": {},
   "source": [
    "- INTERSECTION"
   ]
  },
  {
   "cell_type": "code",
   "execution_count": 40,
   "metadata": {},
   "outputs": [
    {
     "name": "stdout",
     "output_type": "stream",
     "text": [
      "{4, 5}\n",
      "{4, 5}\n"
     ]
    }
   ],
   "source": [
    "#INTERSECTION\n",
    "\n",
    "print(A&B)   # intersection is performed\n",
    "print(A.intersection(B))"
   ]
  },
  {
   "cell_type": "markdown",
   "metadata": {},
   "source": [
    "- set difference"
   ]
  },
  {
   "cell_type": "code",
   "execution_count": 42,
   "metadata": {},
   "outputs": [
    {
     "name": "stdout",
     "output_type": "stream",
     "text": [
      "{1, 2, 3}\n",
      "{1, 2, 3}\n",
      "{8, 6, 7}\n"
     ]
    }
   ],
   "source": [
    "print(A-B)\n",
    "print(A.difference(B))\n",
    "print(B-A)"
   ]
  },
  {
   "cell_type": "markdown",
   "metadata": {},
   "source": [
    "- SET SYMMETRIC DIFFERENCE"
   ]
  },
  {
   "cell_type": "code",
   "execution_count": 43,
   "metadata": {},
   "outputs": [
    {
     "name": "stdout",
     "output_type": "stream",
     "text": [
      "{1, 2, 3, 6, 7, 8}\n"
     ]
    }
   ],
   "source": [
    "print(A ^ B)  #all the elements other than common elements"
   ]
  },
  {
   "cell_type": "code",
   "execution_count": 44,
   "metadata": {},
   "outputs": [
    {
     "data": {
      "text/plain": [
       "{1, 2, 3, 6, 7, 8}"
      ]
     },
     "execution_count": 44,
     "metadata": {},
     "output_type": "execute_result"
    }
   ],
   "source": [
    "A.symmetric_difference(B)  "
   ]
  },
  {
   "cell_type": "code",
   "execution_count": 49,
   "metadata": {},
   "outputs": [
    {
     "name": "stdout",
     "output_type": "stream",
     "text": [
      "{'AC', 'Ring Light', 'Tubelight', 'TV', 'Juicer', 'Fan', 'Cooler', 'LED', 'Bulb', 'Torch', 'Lamp'}\n",
      "{'AC', 'Ring Light', 'Tubelight', 'TV', 'Juicer', 'Fan', 'Cooler', 'LED', 'Bulb', 'Torch', 'Lamp'}\n",
      "{'Bulb', 'LED', 'Lamp'}\n",
      "{'Bulb', 'LED', 'Lamp'}\n",
      "{'AC', 'TV', 'Juicer', 'Fan', 'Cooler'}\n",
      "{'AC', 'TV', 'Juicer', 'Fan', 'Cooler'}\n",
      "{'Ring Light', 'Torch', 'Tubelight'}\n",
      "{'AC', 'Ring Light', 'Juicer', 'Fan', 'Torch', 'Tubelight', 'TV', 'Cooler'}\n"
     ]
    },
    {
     "data": {
      "text/plain": [
       "{'AC', 'Cooler', 'Fan', 'Juicer', 'Ring Light', 'TV', 'Torch', 'Tubelight'}"
      ]
     },
     "execution_count": 49,
     "metadata": {},
     "output_type": "execute_result"
    }
   ],
   "source": [
    "set1={'Fan','Cooler','AC','TV', 'Juicer', 'Bulb', 'LED', 'Lamp'}\n",
    "set2={'Tubelight', 'Bulb', 'LED', 'Lamp', 'Ring Light', 'Torch'}\n",
    "\n",
    "print(set1.union(set2))\n",
    "print(set1 | set2)\n",
    "\n",
    "print(set1 & set2)   # intersection is performed\n",
    "print(set1.intersection(set2))\n",
    "\n",
    "print(set1-set2)\n",
    "print(set1.difference(set2))\n",
    "print(set2-set1)\n",
    "\n",
    "print(set1 ^ set2)\n",
    "set1.symmetric_difference(set2)  "
   ]
  }
 ],
 "metadata": {
  "kernelspec": {
   "display_name": "Python 3.9.12 ('base')",
   "language": "python",
   "name": "python3"
  },
  "language_info": {
   "codemirror_mode": {
    "name": "ipython",
    "version": 3
   },
   "file_extension": ".py",
   "mimetype": "text/x-python",
   "name": "python",
   "nbconvert_exporter": "python",
   "pygments_lexer": "ipython3",
   "version": "3.9.12"
  },
  "orig_nbformat": 4,
  "vscode": {
   "interpreter": {
    "hash": "ca8e1a675551e31a69bb80ae3f26b36ced6340b5d3941929fb9de856c408906a"
   }
  }
 },
 "nbformat": 4,
 "nbformat_minor": 2
}
