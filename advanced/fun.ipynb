{
 "cells": [
  {
   "cell_type": "code",
   "execution_count": 1,
   "metadata": {},
   "outputs": [
    {
     "name": "stdout",
     "output_type": "stream",
     "text": [
      "Hi, I am outside the function\n"
     ]
    }
   ],
   "source": [
    "def hello():   # a funtion hello is created\n",
    "    print('This is a function')\n",
    "    print('This is not a good function')\n",
    "    print('Forget that this function exists')\n",
    "    print('Bye!')\n",
    "\n",
    "print('Hi, I am outside the function')"
   ]
  },
  {
   "cell_type": "code",
   "execution_count": 3,
   "metadata": {},
   "outputs": [
    {
     "name": "stdout",
     "output_type": "stream",
     "text": [
      "This is a function\n",
      "This is not a good function\n",
      "Forget that this function exists\n",
      "Bye!\n",
      "This is a function\n",
      "This is not a good function\n",
      "Forget that this function exists\n",
      "Bye!\n"
     ]
    }
   ],
   "source": [
    "hello()  # calling the funtion here\n",
    "hello()   # calling the same function 2nd times"
   ]
  },
  {
   "cell_type": "code",
   "execution_count": 4,
   "metadata": {},
   "outputs": [
    {
     "name": "stdout",
     "output_type": "stream",
     "text": [
      "This is a function\n",
      "This is not a good function\n",
      "Forget that this function exists\n",
      "Bye!\n",
      "This is a function\n",
      "This is not a good function\n",
      "Forget that this function exists\n",
      "Bye!\n",
      "This is a function\n",
      "This is not a good function\n",
      "Forget that this function exists\n",
      "Bye!\n"
     ]
    }
   ],
   "source": [
    "for i in range(3):\n",
    "    hello()"
   ]
  },
  {
   "cell_type": "code",
   "execution_count": 7,
   "metadata": {},
   "outputs": [],
   "source": [
    "# calcute area\n",
    "\n",
    "def area1(l, b):\n",
    "    pass   # pass is just a keyword used when nothing is to be done at that particular time and left blank"
   ]
  },
  {
   "cell_type": "code",
   "execution_count": 10,
   "metadata": {},
   "outputs": [
    {
     "name": "stdout",
     "output_type": "stream",
     "text": [
      "25\n",
      "the area is 6\n",
      "20 25\n"
     ]
    }
   ],
   "source": [
    "# calcute area\n",
    "\n",
    "def area(length, breadth):\n",
    "    ans= length* breadth   #there should be no input or output for a  good function\n",
    "    return ans\n",
    "\n",
    "area(5,5)\n",
    "\n",
    "print(area(5,5))\n",
    "print('the area is', area(3,2))\n",
    "\n",
    "a= area(4,5)\n",
    "b= area(5,5)\n",
    "print(a, b)"
   ]
  },
  {
   "cell_type": "code",
   "execution_count": 11,
   "metadata": {},
   "outputs": [
    {
     "name": "stdout",
     "output_type": "stream",
     "text": [
      "78\n"
     ]
    }
   ],
   "source": [
    "big_area= area(5,5)+ area(6,6)+ 17\n",
    "print(big_area)"
   ]
  },
  {
   "cell_type": "code",
   "execution_count": 14,
   "metadata": {},
   "outputs": [
    {
     "name": "stdout",
     "output_type": "stream",
     "text": [
      "0\n",
      "1\n",
      "1\n",
      "2\n",
      "3\n",
      "5\n",
      "8\n",
      "13\n",
      "21\n",
      "34\n"
     ]
    }
   ],
   "source": [
    "def fibonacci(n):\n",
    "    a=-1\n",
    "    b=1\n",
    "    c=0\n",
    "    for i in range(n):\n",
    "        c=a+b\n",
    "        a=b\n",
    "        b=c\n",
    "        print(c)\n",
    "\n",
    "fibonacci(10)\n",
    "        "
   ]
  },
  {
   "cell_type": "code",
   "execution_count": 15,
   "metadata": {},
   "outputs": [],
   "source": [
    "def fib(start: int, size: int):\n",
    "    '''\n",
    "    This is a fibonacci series generator\n",
    "    - params\n",
    "        - \n",
    "        - size: size of fibonacci series\n",
    "    - returns: list of fibonacci series\n",
    "\n",
    "    ```\n",
    "    out = fib(0, 10)\n",
    "    print(out)\n",
    "    ```\n",
    "    '''\n",
    "\n",
    "    out= [start, start+1]    \n",
    "    for i in range(size-2):\n",
    "        out.append(out[-1] + out[-2])\n",
    "    return out"
   ]
  },
  {
   "cell_type": "code",
   "execution_count": 16,
   "metadata": {},
   "outputs": [
    {
     "name": "stdout",
     "output_type": "stream",
     "text": [
      "[0, 1, 1, 2, 3, 5, 8, 13, 21, 34, 55, 89, 144, 233, 377, 610, 987, 1597, 2584, 4181, 6765, 10946, 17711, 28657, 46368]\n"
     ]
    }
   ],
   "source": [
    "print(fib(0, 25))"
   ]
  },
  {
   "cell_type": "code",
   "execution_count": 17,
   "metadata": {},
   "outputs": [],
   "source": [
    "def fib(start, size):\n",
    "    \n",
    "    out= [start, start+1]    \n",
    "    for i in range(size-2):\n",
    "        out.append(out[-1] + out[-2])\n",
    "    return out"
   ]
  },
  {
   "cell_type": "code",
   "execution_count": 21,
   "metadata": {},
   "outputs": [
    {
     "data": {
      "text/plain": [
       "(90.0, 1090.0)"
      ]
     },
     "execution_count": 21,
     "metadata": {},
     "output_type": "execute_result"
    }
   ],
   "source": [
    "# create a function to calculate Simple Interest, Amount and return them\n",
    "\n",
    "\n",
    "def simple_interest(p, r, t):\n",
    "    si=(p*r*t)/100\n",
    "    amount=si+p\n",
    "    return si, amount\n",
    "\n",
    "\n",
    "simple_interest(1000, 4.5, 2)"
   ]
  },
  {
   "cell_type": "code",
   "execution_count": 22,
   "metadata": {},
   "outputs": [
    {
     "name": "stdout",
     "output_type": "stream",
     "text": [
      "400.0 1400.0\n"
     ]
    }
   ],
   "source": [
    "si, amount = simple_interest(1000, 4, 10)\n",
    "print(si, amount)"
   ]
  },
  {
   "cell_type": "code",
   "execution_count": 1,
   "metadata": {},
   "outputs": [],
   "source": [
    "import utils"
   ]
  },
  {
   "cell_type": "code",
   "execution_count": 5,
   "metadata": {},
   "outputs": [],
   "source": [
    "s='This is that , that is this , what is where and where is what'"
   ]
  },
  {
   "cell_type": "code",
   "execution_count": 6,
   "metadata": {},
   "outputs": [
    {
     "data": {
      "text/plain": [
       "{'This': 1,\n",
       " 'where': 2,\n",
       " ',': 2,\n",
       " 'this': 1,\n",
       " 'is': 4,\n",
       " 'that': 2,\n",
       " 'and': 1,\n",
       " 'what': 2}"
      ]
     },
     "execution_count": 6,
     "metadata": {},
     "output_type": "execute_result"
    }
   ],
   "source": [
    "utils.word_counter(s)\n"
   ]
  },
  {
   "cell_type": "code",
   "execution_count": 4,
   "metadata": {},
   "outputs": [
    {
     "data": {
      "text/plain": [
       "{'w': 4,\n",
       " 'i': 6,\n",
       " ',': 2,\n",
       " 'n': 1,\n",
       " 'h': 8,\n",
       " 'T': 1,\n",
       " 't': 7,\n",
       " 'a': 5,\n",
       " 'e': 4,\n",
       " 'd': 1,\n",
       " 's': 6,\n",
       " ' ': 13,\n",
       " 'r': 2}"
      ]
     },
     "execution_count": 4,
     "metadata": {},
     "output_type": "execute_result"
    }
   ],
   "source": [
    "utils.char_counter(s)"
   ]
  },
  {
   "cell_type": "code",
   "execution_count": null,
   "metadata": {},
   "outputs": [],
   "source": []
  }
 ],
 "metadata": {
  "kernelspec": {
   "display_name": "Python 3.9.12 ('base')",
   "language": "python",
   "name": "python3"
  },
  "language_info": {
   "codemirror_mode": {
    "name": "ipython",
    "version": 3
   },
   "file_extension": ".py",
   "mimetype": "text/x-python",
   "name": "python",
   "nbconvert_exporter": "python",
   "pygments_lexer": "ipython3",
   "version": "3.9.12"
  },
  "orig_nbformat": 4,
  "vscode": {
   "interpreter": {
    "hash": "ca8e1a675551e31a69bb80ae3f26b36ced6340b5d3941929fb9de856c408906a"
   }
  }
 },
 "nbformat": 4,
 "nbformat_minor": 2
}
